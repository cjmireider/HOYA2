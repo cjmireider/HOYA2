{
 "cells": [
  {
   "cell_type": "markdown",
   "id": "043afb5e",
   "metadata": {},
   "source": [
    "## EXTERNAL VARIABLES TRY\n",
    "\n",
    "\n"
   ]
  },
  {
   "cell_type": "markdown",
   "id": "55a46969",
   "metadata": {},
   "source": [
    "Go to the OMDb API website: OMDb API.\n",
    "Choose the free or paid plan based on your needs (the free plan gives you 1,000 requests per day).\n",
    "After registering, you will receive an API key via email.\n",
    "Use this new key in your code.\n"
   ]
  },
  {
   "cell_type": "markdown",
   "id": "ebbe5885",
   "metadata": {},
   "source": [
    "Then run the follwing code "
   ]
  },
  {
   "cell_type": "code",
   "execution_count": 5,
   "id": "750c2de9",
   "metadata": {},
   "outputs": [
    {
     "name": "stdout",
     "output_type": "stream",
     "text": [
      "Full API response: {'Title': 'Hoarders', 'Year': '2009–', 'Rated': 'TV-14', 'Released': '17 Aug 2009', 'Runtime': '44 min', 'Genre': 'Documentary, Reality-TV', 'Director': 'N/A', 'Writer': 'N/A', 'Actors': 'Robin Zasio, Matt Paxton, Dorothy Breininger', 'Plot': 'A reality-TV show that features compulsive hoarders--people who are addicted to filling their homes with objects--and how that spills out into their lives.', 'Language': 'English', 'Country': 'United States', 'Awards': 'Nominated for 1 Primetime Emmy. 1 win & 3 nominations total', 'Poster': 'https://m.media-amazon.com/images/M/MV5BYjQyZjZhMjMtZTczZC00ZThkLTg3MTQtZTJjZWQxOGE1ODZkXkEyXkFqcGdeQXVyMDc5ODIzMw@@._V1_SX300.jpg', 'Ratings': [{'Source': 'Internet Movie Database', 'Value': '6.5/10'}], 'Metascore': 'N/A', 'imdbRating': '6.5', 'imdbVotes': '3,686', 'imdbID': 'tt1497563', 'Type': 'series', 'totalSeasons': '15', 'Response': 'True'}\n",
      "IMDb Rating: 6.5/10\n",
      "Internet Movie Database Rating: 6.5/10\n",
      "No Rotten Tomatoes rating found for this title.\n"
     ]
    }
   ],
   "source": [
    "import requests\n",
    "\n",
    "# Use your OMDb API key\n",
    "api_key = \"9d02b21f\"\n",
    "\n",
    "# Set the title for the show \"The First 48\"\n",
    "title = \"Hoarders\"\n",
    "url = f\"http://www.omdbapi.com/?t={title}&apikey={api_key}\"\n",
    "\n",
    "# Send the request to OMDb API\n",
    "response = requests.get(url)\n",
    "\n",
    "# Check if the request was successful\n",
    "if response.status_code != 200:\n",
    "    print(f\"Error: Received status code {response.status_code}\")\n",
    "    exit()\n",
    "\n",
    "# Parse the response JSON\n",
    "data = response.json()\n",
    "\n",
    "# Print the entire response to inspect it\n",
    "print(\"Full API response:\", data)\n",
    "\n",
    "# Check for IMDb rating\n",
    "if \"imdbRating\" in data:\n",
    "    print(f\"IMDb Rating: {data['imdbRating']}/10\")\n",
    "else:\n",
    "    print(\"No IMDb rating found for this title.\")\n",
    "\n",
    "# Check for Rotten Tomatoes and other ratings\n",
    "if \"Ratings\" in data:\n",
    "    has_rotten_tomatoes = False\n",
    "    for rating in data['Ratings']:\n",
    "        print(f\"{rating['Source']} Rating: {rating['Value']}\")\n",
    "        if rating['Source'] == 'Rotten Tomatoes':\n",
    "            has_rotten_tomatoes = True\n",
    "    if not has_rotten_tomatoes:\n",
    "        print(\"No Rotten Tomatoes rating found for this title.\")\n",
    "else:\n",
    "    print(\"No Ratings field found in the response.\")\n"
   ]
  },
  {
   "cell_type": "markdown",
   "id": "73e78c6b",
   "metadata": {},
   "source": [
    "#### Rotten Tomatoes rating is almost null for all shows. Better to go with IMDB"
   ]
  },
  {
   "cell_type": "code",
   "execution_count": 7,
   "id": "a1c0e70b",
   "metadata": {},
   "outputs": [
    {
     "name": "stdout",
     "output_type": "stream",
     "text": [
      "          Title IMDb Rating\n",
      "0  The First 48         8.2\n",
      "1      Hoarders         6.5\n",
      "2       Live PD         8.1\n",
      "3  Intervention         7.9\n",
      "4  Storage Wars         6.3\n",
      "5    60 Days In         7.6\n",
      "6     Court Cam         7.4\n",
      "7   Wahlburgers         6.8\n"
     ]
    }
   ],
   "source": [
    "import requests\n",
    "import pandas as pd\n",
    "\n",
    "# Your OMDb API key\n",
    "api_key = \"9d02b21f\"\n",
    "\n",
    "# List of A&E show titles\n",
    "ae_shows = [\n",
    "    \"The First 48\",\n",
    "    \"Hoarders\",\n",
    "    \"Live PD\",\n",
    "    \"Intervention\",\n",
    "    \"Storage Wars\",\n",
    "    \"60 Days In\",\n",
    "    \"Court Cam\",\n",
    "    \"Wahlburgers\"\n",
    "]\n",
    "\n",
    "# Create an empty list to store show data\n",
    "show_data = []\n",
    "\n",
    "# Loop through each show and get its IMDb rating\n",
    "for title in ae_shows:\n",
    "    url = f\"http://www.omdbapi.com/?t={title}&apikey={api_key}\"\n",
    "    response = requests.get(url)\n",
    "    data = response.json()\n",
    "    \n",
    "    # Extract IMDb rating, if available\n",
    "    if \"imdbRating\" in data:\n",
    "        imdb_rating = data['imdbRating']\n",
    "    else:\n",
    "        imdb_rating = \"N/A\"  # If rating is not available\n",
    "\n",
    "    # Append the title and rating to the list\n",
    "    show_data.append({\"Title\": title, \"IMDb Rating\": imdb_rating})\n",
    "\n",
    "# Convert the list to a pandas DataFrame\n",
    "df = pd.DataFrame(show_data)\n",
    "\n",
    "# Display the DataFrame\n",
    "print(df)\n"
   ]
  },
  {
   "cell_type": "markdown",
   "id": "05c86753",
   "metadata": {},
   "source": [
    "#### THIS IS EXAMPLE OF IMDB AND AWARDS/NOMINATIONS "
   ]
  },
  {
   "cell_type": "code",
   "execution_count": 9,
   "id": "b73a6c13",
   "metadata": {},
   "outputs": [
    {
     "name": "stdout",
     "output_type": "stream",
     "text": [
      "          Title IMDb Rating                                             Awards\n",
      "0  The First 48         8.2                                      3 nominations\n",
      "1      Hoarders         6.5  Nominated for 1 Primetime Emmy. 1 win & 3 nomi...\n",
      "2       Live PD         8.1                                      3 nominations\n",
      "3  Intervention         7.9  Won 2 Primetime Emmys. 2 wins & 18 nominations...\n",
      "4  Storage Wars         6.3                                       1 nomination\n"
     ]
    }
   ],
   "source": [
    "import requests\n",
    "import pandas as pd\n",
    "\n",
    "# OMDb API Key\n",
    "api_key = \"9d02b21f\"\n",
    "\n",
    "# List of A&E shows\n",
    "ae_shows = [\"The First 48\", \"Hoarders\", \"Live PD\", \"Intervention\", \"Storage Wars\"]\n",
    "\n",
    "# List to store results\n",
    "show_data = []\n",
    "\n",
    "# Loop through each show and get IMDb and awards data\n",
    "for title in ae_shows:\n",
    "    url = f\"http://www.omdbapi.com/?t={title}&apikey={api_key}\"\n",
    "    response = requests.get(url)\n",
    "    data = response.json()\n",
    "\n",
    "    # Extract IMDb rating and awards\n",
    "    imdb_rating = data.get('imdbRating', 'N/A')\n",
    "    awards = data.get('Awards', 'N/A')\n",
    "\n",
    "    # Append to list\n",
    "    show_data.append({\"Title\": title, \"IMDb Rating\": imdb_rating, \"Awards\": awards})\n",
    "\n",
    "# Convert to DataFrame\n",
    "df = pd.DataFrame(show_data)\n",
    "\n",
    "# Display the DataFrame\n",
    "print(df)\n"
   ]
  },
  {
   "cell_type": "markdown",
   "id": "5e92d9f9",
   "metadata": {},
   "source": [
    "#### THIS IS CODE FOR GOOGLE TRENDS\n"
   ]
  },
  {
   "cell_type": "code",
   "execution_count": 16,
   "id": "8e2658cc",
   "metadata": {},
   "outputs": [
    {
     "name": "stdout",
     "output_type": "stream",
     "text": [
      "            The First 48  Hoarders  Live PD  Intervention  Storage Wars\n",
      "date                                                                   \n",
      "2023-09-30         59.00     56.50    84.50         97.50         55.00\n",
      "2023-10-31         61.00     53.80    78.20         89.40         57.40\n",
      "2023-11-30         54.00     54.75    82.50         83.75         65.50\n",
      "2023-12-31         57.00     61.80    75.60         59.20         62.20\n",
      "2024-01-31         65.75     84.75    83.75         79.50         68.00\n",
      "2024-02-29         70.50     81.00    80.75         93.75         52.25\n",
      "2024-03-31         66.20     65.00    71.80         85.20         55.80\n",
      "2024-04-30         65.25     52.75    70.00         90.50         49.75\n",
      "2024-05-31         71.00     60.75    73.75         70.25         53.75\n",
      "2024-06-30         62.40     66.20    82.20         65.80         66.40\n",
      "2024-07-31         53.50     69.50    80.50         65.25         73.25\n",
      "2024-08-31         51.25     58.25    68.00         68.75         78.75\n",
      "2024-09-30         54.00     52.50    73.75         91.25         66.25\n"
     ]
    }
   ],
   "source": [
    "from pytrends.request import TrendReq\n",
    "import pandas as pd\n",
    "\n",
    "# Initialize Google Trends API\n",
    "pytrends = TrendReq(hl='en-US', tz=360)\n",
    "\n",
    "# List of A&E shows\n",
    "ae_shows = [\"The First 48\", \"Hoarders\", \"Live PD\", \"Intervention\", \"Storage Wars\"]\n",
    "\n",
    "# Create an empty DataFrame to store search interest data\n",
    "interest_over_time_df = pd.DataFrame()\n",
    "\n",
    "# Loop through each show and get Google search trends\n",
    "for show in ae_shows:\n",
    "    # Get data for the last year ('today 12-m')\n",
    "    pytrends.build_payload([show], cat=0, timeframe='today 12-m', geo='US', gprop='')\n",
    "    interest_over_time = pytrends.interest_over_time()\n",
    "    \n",
    "    # If data is available, aggregate it by month\n",
    "    if not interest_over_time.empty:\n",
    "        # Resample the data by month (using the 'M' alias for monthly)\n",
    "        monthly_interest = interest_over_time.resample('M').mean()\n",
    "\n",
    "        # Add the show name to the DataFrame\n",
    "        interest_over_time_df[show] = monthly_interest[show]\n",
    "\n",
    "# Display the Google Trends interest data aggregated by month\n",
    "print(interest_over_time_df)\n"
   ]
  }
 ],
 "metadata": {
  "kernelspec": {
   "display_name": "Python 3 (ipykernel)",
   "language": "python",
   "name": "python3"
  },
  "language_info": {
   "codemirror_mode": {
    "name": "ipython",
    "version": 3
   },
   "file_extension": ".py",
   "mimetype": "text/x-python",
   "name": "python",
   "nbconvert_exporter": "python",
   "pygments_lexer": "ipython3",
   "version": "3.10.9"
  }
 },
 "nbformat": 4,
 "nbformat_minor": 5
}
