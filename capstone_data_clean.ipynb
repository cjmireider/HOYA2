{
 "cells": [
  {
   "cell_type": "code",
   "execution_count": 1,
   "id": "a7d2183f-c3ba-4549-80cb-9fe780093848",
   "metadata": {},
   "outputs": [],
   "source": [
    "import pandas as pd\n",
    "import numpy as np\n",
    "import os\n",
    "import polars as pl\n",
    "import gc"
   ]
  },
  {
   "cell_type": "code",
   "execution_count": 2,
   "id": "d21d0a3f-7035-458a-b338-7b72fa2b5be4",
   "metadata": {
    "scrolled": true
   },
   "outputs": [
    {
     "name": "stdout",
     "output_type": "stream",
     "text": [
      "(12294267, 54)\n"
     ]
    },
    {
     "data": {
      "text/html": [
       "<div><style>\n",
       ".dataframe > thead > tr,\n",
       ".dataframe > tbody > tr {\n",
       "  text-align: right;\n",
       "  white-space: pre-wrap;\n",
       "}\n",
       "</style>\n",
       "<small>shape: (5, 54)</small><table border=\"1\" class=\"dataframe\"><thead><tr><th>Month</th><th>Year</th><th>Program</th><th>Program - Network</th><th>Episode</th><th>Partner - Network</th><th>Series ID</th><th>Program ID Key</th><th>Partner - Episode</th><th>Partner - Program</th><th>Partner - Episode Duration</th><th>Partner - Name</th><th>Partner - Platform</th><th>Partner - Device</th><th>Partner - Demo</th><th>Partner - Rating Source</th><th>Partner - Viewer Code</th><th>Program - Broadcast Length</th><th>Program - Broadcast Length SSSSS</th><th>Exposures</th><th>Minutes Viewed</th><th>Program - Current Premiere Date</th><th>Program - Air Title</th><th>Program - Budget Line</th><th>Program - Category</th><th>Program - Episode Number</th><th>Program - External Air Order</th><th>Program - External Season</th><th>Program - Franchise</th><th>Program - Genre Name</th><th>Program - Is Special</th><th>Program - Mega Genre</th><th>Program - Network Name</th><th>Program - PAC ID</th><th>Program - PAC Title</th><th>Program - Premiere Network Code</th><th>Program - Production Year</th><th>Program - Type</th><th>Program - ID</th><th>Program - Status</th><th>Program - Series Code</th><th>Program - Series ID</th><th>Program - Series Name</th><th>Program - Long Form/Short Form</th><th>Program - Sub Category</th><th>Program - Supplier</th><th>Program - TMS ID</th><th>Year and Month</th><th>Partner - Data Type</th><th>Program Sub-Type</th><th>NO.of Scheduled Minutes</th><th>NO.of Telecasts</th><th>Distinct Episode</th><th># of Episode</th></tr><tr><td>str</td><td>i64</td><td>str</td><td>str</td><td>str</td><td>str</td><td>f64</td><td>i64</td><td>str</td><td>str</td><td>i64</td><td>str</td><td>str</td><td>str</td><td>str</td><td>str</td><td>str</td><td>i64</td><td>i64</td><td>f64</td><td>f64</td><td>str</td><td>str</td><td>str</td><td>str</td><td>f64</td><td>f64</td><td>f64</td><td>str</td><td>str</td><td>f64</td><td>str</td><td>str</td><td>f64</td><td>str</td><td>str</td><td>f64</td><td>str</td><td>f64</td><td>str</td><td>str</td><td>f64</td><td>str</td><td>str</td><td>str</td><td>str</td><td>str</td><td>str</td><td>str</td><td>str</td><td>i64</td><td>i64</td><td>i64</td><td>i64</td></tr></thead><tbody><tr><td>&quot;Jan&quot;</td><td>2022</td><td>&quot;Sell This House!&quot;</td><td>&quot;FYI&quot;</td><td>&quot;nightmare on windsong trail (#…</td><td>&quot;HMN&quot;</td><td>191.0</td><td>236912</td><td>&quot;Nightmare on Windsong Trail&quot;</td><td>&quot;&quot;Sell This House!&quot;&quot;</td><td>1800</td><td>&quot;Wurl Vizio&quot;</td><td>&quot;Fast Channels&quot;</td><td>&quot;CTV&quot;</td><td>&quot;P2+&quot;</td><td>null</td><td>null</td><td>30</td><td>1800</td><td>514.0</td><td>12483.325632</td><td>&quot;2020-06-01&quot;</td><td>&quot;Nightmare on Windsong Trail (#…</td><td>&quot;Sell This House&quot;</td><td>&quot;REAL LIFE&quot;</td><td>4.0</td><td>204.0</td><td>16.0</td><td>&quot;SELL THIS HOUSE&quot;</td><td>&quot;Reality TV&quot;</td><td>0.0</td><td>&quot;LIFESTYLE&quot;</td><td>&quot;FYI&quot;</td><td>36481.0</td><td>&quot;Sell This House 2019&quot;</td><td>&quot;FYI&quot;</td><td>2020.0</td><td>&quot;Series&quot;</td><td>236912.0</td><td>&quot;Executed&quot;</td><td>&quot;SELL&quot;</td><td>191.0</td><td>&quot;Sell This House!&quot;</td><td>&quot;Long Form&quot;</td><td>&quot;HOME&quot;</td><td>&quot;Six West Originals LLC&quot;</td><td>&quot;EP005867900219&quot;</td><td>&quot;2022/01&quot;</td><td>&quot;VIEW_DATA&quot;</td><td>&quot;Unscripted&quot;</td><td>116</td><td>4</td><td>1</td><td>1</td></tr><tr><td>&quot;Feb&quot;</td><td>2022</td><td>&quot;Mountain Men&quot;</td><td>&quot;HIST&quot;</td><td>&quot;lost&quot;</td><td>&quot;XT Outdoor&quot;</td><td>2368.0</td><td>77850</td><td>&quot;Lost&quot;</td><td>&quot;Mountain Men&quot;</td><td>3600</td><td>&quot;Wurl Plex&quot;</td><td>&quot;Fast Channels&quot;</td><td>&quot;CTV&quot;</td><td>&quot;P2+&quot;</td><td>null</td><td>null</td><td>60</td><td>3600</td><td>629.6</td><td>22839.763777</td><td>&quot;2012-06-14&quot;</td><td>&quot;Lost&quot;</td><td>&quot;Mountain Men&quot;</td><td>&quot;SKILLS &amp; THRILLS&quot;</td><td>3.0</td><td>3.0</td><td>1.0</td><td>&quot;MOUNTAIN MEN&quot;</td><td>&quot;Documentary&quot;</td><td>0.0</td><td>&quot;ORIGINAL CHARACTER&quot;</td><td>&quot;The History Channel&quot;</td><td>19945.0</td><td>&quot;Mountain Men&quot;</td><td>&quot;THC&quot;</td><td>2012.0</td><td>&quot;Series&quot;</td><td>77850.0</td><td>&quot;Executed&quot;</td><td>&quot;MMEN&quot;</td><td>2368.0</td><td>&quot;Mountain Men&quot;</td><td>&quot;Long Form&quot;</td><td>&quot;SURVIVAL&quot;</td><td>&quot;Warm Springs Productions&quot;</td><td>&quot;EP015556560003&quot;</td><td>&quot;2022/02&quot;</td><td>&quot;VIEW_DATA&quot;</td><td>&quot;Unscripted&quot;</td><td>204</td><td>4</td><td>1</td><td>1</td></tr><tr><td>&quot;Feb&quot;</td><td>2022</td><td>&quot;Mountain Men&quot;</td><td>&quot;HIST&quot;</td><td>&quot;lost&quot;</td><td>&quot;XT Outdoor&quot;</td><td>2368.0</td><td>77850</td><td>&quot;Lost&quot;</td><td>&quot;Mountain Men&quot;</td><td>3600</td><td>&quot;Wurl Plex&quot;</td><td>&quot;Fast Channels&quot;</td><td>&quot;Desktop&quot;</td><td>&quot;P2+&quot;</td><td>null</td><td>null</td><td>60</td><td>3600</td><td>78.7</td><td>2187.105519</td><td>&quot;2012-06-14&quot;</td><td>&quot;Lost&quot;</td><td>&quot;Mountain Men&quot;</td><td>&quot;SKILLS &amp; THRILLS&quot;</td><td>3.0</td><td>3.0</td><td>1.0</td><td>&quot;MOUNTAIN MEN&quot;</td><td>&quot;Documentary&quot;</td><td>0.0</td><td>&quot;ORIGINAL CHARACTER&quot;</td><td>&quot;The History Channel&quot;</td><td>19945.0</td><td>&quot;Mountain Men&quot;</td><td>&quot;THC&quot;</td><td>2012.0</td><td>&quot;Series&quot;</td><td>77850.0</td><td>&quot;Executed&quot;</td><td>&quot;MMEN&quot;</td><td>2368.0</td><td>&quot;Mountain Men&quot;</td><td>&quot;Long Form&quot;</td><td>&quot;SURVIVAL&quot;</td><td>&quot;Warm Springs Productions&quot;</td><td>&quot;EP015556560003&quot;</td><td>&quot;2022/02&quot;</td><td>&quot;VIEW_DATA&quot;</td><td>&quot;Unscripted&quot;</td><td>204</td><td>4</td><td>1</td><td>1</td></tr><tr><td>&quot;Feb&quot;</td><td>2022</td><td>&quot;Mountain Men&quot;</td><td>&quot;HIST&quot;</td><td>&quot;lost&quot;</td><td>&quot;XT Outdoor&quot;</td><td>2368.0</td><td>77850</td><td>&quot;Lost&quot;</td><td>&quot;Mountain Men&quot;</td><td>3600</td><td>&quot;Wurl Plex&quot;</td><td>&quot;Fast Channels&quot;</td><td>&quot;Mobile&quot;</td><td>&quot;P2+&quot;</td><td>null</td><td>null</td><td>60</td><td>3600</td><td>78.7</td><td>2260.501575</td><td>&quot;2012-06-14&quot;</td><td>&quot;Lost&quot;</td><td>&quot;Mountain Men&quot;</td><td>&quot;SKILLS &amp; THRILLS&quot;</td><td>3.0</td><td>3.0</td><td>1.0</td><td>&quot;MOUNTAIN MEN&quot;</td><td>&quot;Documentary&quot;</td><td>0.0</td><td>&quot;ORIGINAL CHARACTER&quot;</td><td>&quot;The History Channel&quot;</td><td>19945.0</td><td>&quot;Mountain Men&quot;</td><td>&quot;THC&quot;</td><td>2012.0</td><td>&quot;Series&quot;</td><td>77850.0</td><td>&quot;Executed&quot;</td><td>&quot;MMEN&quot;</td><td>2368.0</td><td>&quot;Mountain Men&quot;</td><td>&quot;Long Form&quot;</td><td>&quot;SURVIVAL&quot;</td><td>&quot;Warm Springs Productions&quot;</td><td>&quot;EP015556560003&quot;</td><td>&quot;2022/02&quot;</td><td>&quot;VIEW_DATA&quot;</td><td>&quot;Unscripted&quot;</td><td>204</td><td>4</td><td>1</td><td>1</td></tr><tr><td>&quot;Mar&quot;</td><td>2022</td><td>&quot;Tiny House Nation&quot;</td><td>&quot;FYI&quot;</td><td>&quot;460 sq ft long journey to tiny…</td><td>&quot;HMN&quot;</td><td>3990.0</td><td>171831</td><td>&quot;460 Sq Ft Long Journey To Tiny&quot;</td><td>&quot;Tiny House Nation&quot;</td><td>3600</td><td>&quot;Wurl Roku&quot;</td><td>&quot;Fast Channels&quot;</td><td>&quot;CTV&quot;</td><td>&quot;P2+&quot;</td><td>null</td><td>null</td><td>60</td><td>3600</td><td>5522.0</td><td>201114.676453</td><td>&quot;2017-02-18&quot;</td><td>&quot;460 Sq Ft Long Journey To Tiny…</td><td>&quot;Tiny House Nation&quot;</td><td>&quot;REAL LIFE&quot;</td><td>7.0</td><td>63.0</td><td>4.0</td><td>&quot;TINY HOUSE HUNTING&quot;</td><td>&quot;Lifestyle&quot;</td><td>0.0</td><td>&quot;LIFESTYLE&quot;</td><td>&quot;FYI&quot;</td><td>27864.0</td><td>&quot;Tiny House Nation - Season 3&quot;</td><td>&quot;FYI&quot;</td><td>2015.0</td><td>&quot;Series&quot;</td><td>171831.0</td><td>&quot;Executed&quot;</td><td>&quot;THNA&quot;</td><td>3990.0</td><td>&quot;Tiny House Nation&quot;</td><td>&quot;Long Form&quot;</td><td>&quot;HOME&quot;</td><td>&quot;Loud Television LLC&quot;</td><td>&quot;EP019366820095&quot;</td><td>&quot;2022/03&quot;</td><td>&quot;VIEW_DATA&quot;</td><td>&quot;Unscripted&quot;</td><td>624</td><td>12</td><td>1</td><td>1</td></tr></tbody></table></div>"
      ],
      "text/plain": [
       "shape: (5, 54)\n",
       "┌───────┬──────┬────────────────────┬───────────┬───┬────────────────────┬───────────────────┬──────────┬──────────────┐\n",
       "│ Month ┆ Year ┆ Program            ┆ Program - ┆ … ┆ NO.of Scheduled    ┆ NO.of Telecasts   ┆ Distinct ┆ # of Episode │\n",
       "│ ---   ┆ ---  ┆ ---                ┆ Network   ┆   ┆ Minutes            ┆ ---               ┆ Episode  ┆ ---          │\n",
       "│ str   ┆ i64  ┆ str                ┆ ---       ┆   ┆ ---                ┆ i64               ┆ ---      ┆ i64          │\n",
       "│       ┆      ┆                    ┆ str       ┆   ┆ i64                ┆                   ┆ i64      ┆              │\n",
       "╞═══════╪══════╪════════════════════╪═══════════╪═══╪════════════════════╪═══════════════════╪══════════╪══════════════╡\n",
       "│ Jan   ┆ 2022 ┆ Sell This House!   ┆ FYI       ┆ … ┆ 116                ┆ 4                 ┆ 1        ┆ 1            │\n",
       "│ Feb   ┆ 2022 ┆ Mountain Men       ┆ HIST      ┆ … ┆ 204                ┆ 4                 ┆ 1        ┆ 1            │\n",
       "│ Feb   ┆ 2022 ┆ Mountain Men       ┆ HIST      ┆ … ┆ 204                ┆ 4                 ┆ 1        ┆ 1            │\n",
       "│ Feb   ┆ 2022 ┆ Mountain Men       ┆ HIST      ┆ … ┆ 204                ┆ 4                 ┆ 1        ┆ 1            │\n",
       "│ Mar   ┆ 2022 ┆ Tiny House Nation  ┆ FYI       ┆ … ┆ 624                ┆ 12                ┆ 1        ┆ 1            │\n",
       "└───────┴──────┴────────────────────┴───────────┴───┴────────────────────┴───────────────────┴──────────┴──────────────┘"
      ]
     },
     "execution_count": 2,
     "metadata": {},
     "output_type": "execute_result"
    }
   ],
   "source": [
    "df = pl.read_parquet('capstone_data.parquet')\n",
    "# df.write_parquet('capstone_data.parquet', compression='gzip')\n",
    "\n",
    "print(df.shape)\n",
    "df.head()"
   ]
  },
  {
   "cell_type": "markdown",
   "id": "24c51e58-9894-4dfc-bcb2-142f973bf7ac",
   "metadata": {},
   "source": [
    "### Prepare for Data Wrangling: Notes from Sponsor\n",
    "\n",
    "#### Show Types to focus on: \n",
    "1. Legacy Series In-Premiere: Defined as a series with more than two season available. The new season is only available on 1st/2nd window platforms, but the library is available on 1st/2nd/3rd window platforms.\n",
    "2. New Series In-Premiere: Defined as a series with less than two seasons. Generally, they are only available on 1st/2nd window platforms. If in its 2nd season, there could be a season one available on 1st/2nd/3rd window platforms, but I can’t think of any that happened like that in FY22/FY23 (aka the data you will be working with).\n",
    "\n",
    "#### Show Types to exclude:\n",
    "1. Movies/Specials\n",
    "2. Non-Returning/Cancelled series (ie Dog the Bounty Hunter, and even Dance Moms eventhoug they are trying to revive that this year)\n",
    "\n",
    "\n",
    "#### Ad-Sales Platforms to focus on:\n",
    "1. Live +7: This drives about 90% of the total Ad-Sales P2+ mins (this data is generally complete b/c it comes from Nielsen)\n",
    "2. Non-Linear: These top partners drive 80%-90% of the Ad-Sales Non-Linear P2+ Mins. Would try to ensure that the data here is complete and makes sense. I recently had to pull Ad-sales non-linear data for a presentation and attached was my data pull. Thought this would be helpful so you can see the scale of all the platforms at a high level.\n",
    "    a. On Demand:\n",
    "        (1) O&O\n",
    "        (2) vMVPD Hulu Live: HUGE NOTE: Will explain more in person, but we have licensed a large amount of our library content to Hulu SVOD, therefore that inventory does not live on Hulu Live for ad-sales to monetize. (i.e. all Alone library lives on Hulu SVOD, and only the new Alone season is available on Hulu Live each year).\n",
    "        (3) vMVPD Philo\n",
    "        (4) vMVPD SlingTV\n",
    "        (5) STB VOD4+ Comcast\n",
    "    b. FAST: Samsung\n",
    "    \n",
    "#### Primary Levers to focus: \n",
    "\n",
    "1. Paid Media - Sent by Cristina\n",
    "2. Organic Social Media (A+E under impression that Hoya 2 will retrieve this)\n",
    "3. Partner Earned Media (Still pending with A+E)\n",
    "4. O&O IFW Content - Sent by Cristina\n",
    "5. 3rd Windowing Platforms (FAST/SVOD/AVOD) - Available via CP Data\n",
    "\n",
    "\n",
    "##### Focusing on New / Returning Shows\n"
   ]
  },
  {
   "cell_type": "code",
   "execution_count": 3,
   "id": "3180109e-50b5-4ff5-8f77-1c07663bc927",
   "metadata": {
    "scrolled": true
   },
   "outputs": [
    {
     "name": "stdout",
     "output_type": "stream",
     "text": [
      "(12294267, 55)\n"
     ]
    },
    {
     "data": {
      "text/html": [
       "<div><style>\n",
       ".dataframe > thead > tr,\n",
       ".dataframe > tbody > tr {\n",
       "  text-align: right;\n",
       "  white-space: pre-wrap;\n",
       "}\n",
       "</style>\n",
       "<small>shape: (5, 55)</small><table border=\"1\" class=\"dataframe\"><thead><tr><th>Month</th><th>Year</th><th>Program</th><th>Program - Network</th><th>Episode</th><th>Partner - Network</th><th>Series ID</th><th>Program ID Key</th><th>Partner - Episode</th><th>Partner - Program</th><th>Partner - Episode Duration</th><th>Partner - Name</th><th>Partner - Platform</th><th>Partner - Device</th><th>Partner - Demo</th><th>Partner - Rating Source</th><th>Partner - Viewer Code</th><th>Program - Broadcast Length</th><th>Program - Broadcast Length SSSSS</th><th>Exposures</th><th>Minutes Viewed</th><th>Program - Air Title</th><th>Program - Budget Line</th><th>Program - Category</th><th>Program - Episode Number</th><th>Program - External Air Order</th><th>Program - External Season</th><th>Program - Franchise</th><th>Program - Genre Name</th><th>Program - Is Special</th><th>Program - Mega Genre</th><th>Program - Network Name</th><th>Program - PAC ID</th><th>Program - PAC Title</th><th>Program - Premiere Network Code</th><th>Program - Production Year</th><th>Program - Type</th><th>Program - ID</th><th>Program - Status</th><th>Program - Series Code</th><th>Program - Series ID</th><th>Program - Series Name</th><th>Program - Long Form/Short Form</th><th>Program - Sub Category</th><th>Program - Supplier</th><th>Program - TMS ID</th><th>Year and Month</th><th>Partner - Data Type</th><th>Program Sub-Type</th><th>NO.of Scheduled Minutes</th><th>NO.of Telecasts</th><th>Distinct Episode</th><th># of Episode</th><th>program_current_premiere_date</th><th>premiere_year</th></tr><tr><td>str</td><td>i64</td><td>str</td><td>str</td><td>str</td><td>str</td><td>f64</td><td>i64</td><td>str</td><td>str</td><td>i64</td><td>str</td><td>str</td><td>str</td><td>str</td><td>str</td><td>str</td><td>i64</td><td>i64</td><td>f64</td><td>f64</td><td>str</td><td>str</td><td>str</td><td>f64</td><td>f64</td><td>f64</td><td>str</td><td>str</td><td>f64</td><td>str</td><td>str</td><td>f64</td><td>str</td><td>str</td><td>f64</td><td>str</td><td>f64</td><td>str</td><td>str</td><td>f64</td><td>str</td><td>str</td><td>str</td><td>str</td><td>str</td><td>str</td><td>str</td><td>str</td><td>i64</td><td>i64</td><td>i64</td><td>i64</td><td>datetime[μs]</td><td>i32</td></tr></thead><tbody><tr><td>&quot;Jan&quot;</td><td>2022</td><td>&quot;Sell This House!&quot;</td><td>&quot;FYI&quot;</td><td>&quot;nightmare on windsong trail (#…</td><td>&quot;HMN&quot;</td><td>191.0</td><td>236912</td><td>&quot;Nightmare on Windsong Trail&quot;</td><td>&quot;&quot;Sell This House!&quot;&quot;</td><td>1800</td><td>&quot;Wurl Vizio&quot;</td><td>&quot;Fast Channels&quot;</td><td>&quot;CTV&quot;</td><td>&quot;P2+&quot;</td><td>null</td><td>null</td><td>30</td><td>1800</td><td>514.0</td><td>12483.325632</td><td>&quot;Nightmare on Windsong Trail (#…</td><td>&quot;Sell This House&quot;</td><td>&quot;REAL LIFE&quot;</td><td>4.0</td><td>204.0</td><td>16.0</td><td>&quot;SELL THIS HOUSE&quot;</td><td>&quot;Reality TV&quot;</td><td>0.0</td><td>&quot;LIFESTYLE&quot;</td><td>&quot;FYI&quot;</td><td>36481.0</td><td>&quot;Sell This House 2019&quot;</td><td>&quot;FYI&quot;</td><td>2020.0</td><td>&quot;Series&quot;</td><td>236912.0</td><td>&quot;Executed&quot;</td><td>&quot;SELL&quot;</td><td>191.0</td><td>&quot;Sell This House!&quot;</td><td>&quot;Long Form&quot;</td><td>&quot;HOME&quot;</td><td>&quot;Six West Originals LLC&quot;</td><td>&quot;EP005867900219&quot;</td><td>&quot;2022/01&quot;</td><td>&quot;VIEW_DATA&quot;</td><td>&quot;Unscripted&quot;</td><td>116</td><td>4</td><td>1</td><td>1</td><td>2020-06-01 00:00:00</td><td>2020</td></tr><tr><td>&quot;Feb&quot;</td><td>2022</td><td>&quot;Mountain Men&quot;</td><td>&quot;HIST&quot;</td><td>&quot;lost&quot;</td><td>&quot;XT Outdoor&quot;</td><td>2368.0</td><td>77850</td><td>&quot;Lost&quot;</td><td>&quot;Mountain Men&quot;</td><td>3600</td><td>&quot;Wurl Plex&quot;</td><td>&quot;Fast Channels&quot;</td><td>&quot;CTV&quot;</td><td>&quot;P2+&quot;</td><td>null</td><td>null</td><td>60</td><td>3600</td><td>629.6</td><td>22839.763777</td><td>&quot;Lost&quot;</td><td>&quot;Mountain Men&quot;</td><td>&quot;SKILLS &amp; THRILLS&quot;</td><td>3.0</td><td>3.0</td><td>1.0</td><td>&quot;MOUNTAIN MEN&quot;</td><td>&quot;Documentary&quot;</td><td>0.0</td><td>&quot;ORIGINAL CHARACTER&quot;</td><td>&quot;The History Channel&quot;</td><td>19945.0</td><td>&quot;Mountain Men&quot;</td><td>&quot;THC&quot;</td><td>2012.0</td><td>&quot;Series&quot;</td><td>77850.0</td><td>&quot;Executed&quot;</td><td>&quot;MMEN&quot;</td><td>2368.0</td><td>&quot;Mountain Men&quot;</td><td>&quot;Long Form&quot;</td><td>&quot;SURVIVAL&quot;</td><td>&quot;Warm Springs Productions&quot;</td><td>&quot;EP015556560003&quot;</td><td>&quot;2022/02&quot;</td><td>&quot;VIEW_DATA&quot;</td><td>&quot;Unscripted&quot;</td><td>204</td><td>4</td><td>1</td><td>1</td><td>2012-06-14 00:00:00</td><td>2012</td></tr><tr><td>&quot;Feb&quot;</td><td>2022</td><td>&quot;Mountain Men&quot;</td><td>&quot;HIST&quot;</td><td>&quot;lost&quot;</td><td>&quot;XT Outdoor&quot;</td><td>2368.0</td><td>77850</td><td>&quot;Lost&quot;</td><td>&quot;Mountain Men&quot;</td><td>3600</td><td>&quot;Wurl Plex&quot;</td><td>&quot;Fast Channels&quot;</td><td>&quot;Desktop&quot;</td><td>&quot;P2+&quot;</td><td>null</td><td>null</td><td>60</td><td>3600</td><td>78.7</td><td>2187.105519</td><td>&quot;Lost&quot;</td><td>&quot;Mountain Men&quot;</td><td>&quot;SKILLS &amp; THRILLS&quot;</td><td>3.0</td><td>3.0</td><td>1.0</td><td>&quot;MOUNTAIN MEN&quot;</td><td>&quot;Documentary&quot;</td><td>0.0</td><td>&quot;ORIGINAL CHARACTER&quot;</td><td>&quot;The History Channel&quot;</td><td>19945.0</td><td>&quot;Mountain Men&quot;</td><td>&quot;THC&quot;</td><td>2012.0</td><td>&quot;Series&quot;</td><td>77850.0</td><td>&quot;Executed&quot;</td><td>&quot;MMEN&quot;</td><td>2368.0</td><td>&quot;Mountain Men&quot;</td><td>&quot;Long Form&quot;</td><td>&quot;SURVIVAL&quot;</td><td>&quot;Warm Springs Productions&quot;</td><td>&quot;EP015556560003&quot;</td><td>&quot;2022/02&quot;</td><td>&quot;VIEW_DATA&quot;</td><td>&quot;Unscripted&quot;</td><td>204</td><td>4</td><td>1</td><td>1</td><td>2012-06-14 00:00:00</td><td>2012</td></tr><tr><td>&quot;Feb&quot;</td><td>2022</td><td>&quot;Mountain Men&quot;</td><td>&quot;HIST&quot;</td><td>&quot;lost&quot;</td><td>&quot;XT Outdoor&quot;</td><td>2368.0</td><td>77850</td><td>&quot;Lost&quot;</td><td>&quot;Mountain Men&quot;</td><td>3600</td><td>&quot;Wurl Plex&quot;</td><td>&quot;Fast Channels&quot;</td><td>&quot;Mobile&quot;</td><td>&quot;P2+&quot;</td><td>null</td><td>null</td><td>60</td><td>3600</td><td>78.7</td><td>2260.501575</td><td>&quot;Lost&quot;</td><td>&quot;Mountain Men&quot;</td><td>&quot;SKILLS &amp; THRILLS&quot;</td><td>3.0</td><td>3.0</td><td>1.0</td><td>&quot;MOUNTAIN MEN&quot;</td><td>&quot;Documentary&quot;</td><td>0.0</td><td>&quot;ORIGINAL CHARACTER&quot;</td><td>&quot;The History Channel&quot;</td><td>19945.0</td><td>&quot;Mountain Men&quot;</td><td>&quot;THC&quot;</td><td>2012.0</td><td>&quot;Series&quot;</td><td>77850.0</td><td>&quot;Executed&quot;</td><td>&quot;MMEN&quot;</td><td>2368.0</td><td>&quot;Mountain Men&quot;</td><td>&quot;Long Form&quot;</td><td>&quot;SURVIVAL&quot;</td><td>&quot;Warm Springs Productions&quot;</td><td>&quot;EP015556560003&quot;</td><td>&quot;2022/02&quot;</td><td>&quot;VIEW_DATA&quot;</td><td>&quot;Unscripted&quot;</td><td>204</td><td>4</td><td>1</td><td>1</td><td>2012-06-14 00:00:00</td><td>2012</td></tr><tr><td>&quot;Mar&quot;</td><td>2022</td><td>&quot;Tiny House Nation&quot;</td><td>&quot;FYI&quot;</td><td>&quot;460 sq ft long journey to tiny…</td><td>&quot;HMN&quot;</td><td>3990.0</td><td>171831</td><td>&quot;460 Sq Ft Long Journey To Tiny&quot;</td><td>&quot;Tiny House Nation&quot;</td><td>3600</td><td>&quot;Wurl Roku&quot;</td><td>&quot;Fast Channels&quot;</td><td>&quot;CTV&quot;</td><td>&quot;P2+&quot;</td><td>null</td><td>null</td><td>60</td><td>3600</td><td>5522.0</td><td>201114.676453</td><td>&quot;460 Sq Ft Long Journey To Tiny…</td><td>&quot;Tiny House Nation&quot;</td><td>&quot;REAL LIFE&quot;</td><td>7.0</td><td>63.0</td><td>4.0</td><td>&quot;TINY HOUSE HUNTING&quot;</td><td>&quot;Lifestyle&quot;</td><td>0.0</td><td>&quot;LIFESTYLE&quot;</td><td>&quot;FYI&quot;</td><td>27864.0</td><td>&quot;Tiny House Nation - Season 3&quot;</td><td>&quot;FYI&quot;</td><td>2015.0</td><td>&quot;Series&quot;</td><td>171831.0</td><td>&quot;Executed&quot;</td><td>&quot;THNA&quot;</td><td>3990.0</td><td>&quot;Tiny House Nation&quot;</td><td>&quot;Long Form&quot;</td><td>&quot;HOME&quot;</td><td>&quot;Loud Television LLC&quot;</td><td>&quot;EP019366820095&quot;</td><td>&quot;2022/03&quot;</td><td>&quot;VIEW_DATA&quot;</td><td>&quot;Unscripted&quot;</td><td>624</td><td>12</td><td>1</td><td>1</td><td>2017-02-18 00:00:00</td><td>2017</td></tr></tbody></table></div>"
      ],
      "text/plain": [
       "shape: (5, 55)\n",
       "┌───────┬──────┬──────────────────┬───────────┬───┬──────────────────┬──────────────┬──────────────────┬───────────────┐\n",
       "│ Month ┆ Year ┆ Program          ┆ Program - ┆ … ┆ Distinct Episode ┆ # of Episode ┆ program_current_ ┆ premiere_year │\n",
       "│ ---   ┆ ---  ┆ ---              ┆ Network   ┆   ┆ ---              ┆ ---          ┆ premiere_date    ┆ ---           │\n",
       "│ str   ┆ i64  ┆ str              ┆ ---       ┆   ┆ i64              ┆ i64          ┆ ---              ┆ i32           │\n",
       "│       ┆      ┆                  ┆ str       ┆   ┆                  ┆              ┆ datetime[μs]     ┆               │\n",
       "╞═══════╪══════╪══════════════════╪═══════════╪═══╪══════════════════╪══════════════╪══════════════════╪═══════════════╡\n",
       "│ Jan   ┆ 2022 ┆ Sell This House! ┆ FYI       ┆ … ┆ 1                ┆ 1            ┆ 2020-06-01       ┆ 2020          │\n",
       "│       ┆      ┆                  ┆           ┆   ┆                  ┆              ┆ 00:00:00         ┆               │\n",
       "│ Feb   ┆ 2022 ┆ Mountain Men     ┆ HIST      ┆ … ┆ 1                ┆ 1            ┆ 2012-06-14       ┆ 2012          │\n",
       "│       ┆      ┆                  ┆           ┆   ┆                  ┆              ┆ 00:00:00         ┆               │\n",
       "│ Feb   ┆ 2022 ┆ Mountain Men     ┆ HIST      ┆ … ┆ 1                ┆ 1            ┆ 2012-06-14       ┆ 2012          │\n",
       "│       ┆      ┆                  ┆           ┆   ┆                  ┆              ┆ 00:00:00         ┆               │\n",
       "│ Feb   ┆ 2022 ┆ Mountain Men     ┆ HIST      ┆ … ┆ 1                ┆ 1            ┆ 2012-06-14       ┆ 2012          │\n",
       "│       ┆      ┆                  ┆           ┆   ┆                  ┆              ┆ 00:00:00         ┆               │\n",
       "│ Mar   ┆ 2022 ┆ Tiny House       ┆ FYI       ┆ … ┆ 1                ┆ 1            ┆ 2017-02-18       ┆ 2017          │\n",
       "│       ┆      ┆ Nation           ┆           ┆   ┆                  ┆              ┆ 00:00:00         ┆               │\n",
       "└───────┴──────┴──────────────────┴───────────┴───┴──────────────────┴──────────────┴──────────────────┴───────────────┘"
      ]
     },
     "execution_count": 3,
     "metadata": {},
     "output_type": "execute_result"
    }
   ],
   "source": [
    "# Convert the column to datetime if it's not already in datetime format\n",
    "df = df.with_columns( pl.col(\"Program - Current Premiere Date\").str.to_datetime(format=\"%Y-%m-%d\").alias('program_current_premiere_date') )\n",
    "\n",
    "# Extract the year\n",
    "df = df.with_columns( pl.col(\"program_current_premiere_date\").dt.year().alias(\"premiere_year\") )\n",
    "\n",
    "# Drop original column\n",
    "df = df.drop(\"Program - Current Premiere Date\")\n",
    "\n",
    "print(df.shape)\n",
    "df.head()"
   ]
  },
  {
   "cell_type": "markdown",
   "id": "76d8ad8d-e949-448d-ac13-a278a14bb0d0",
   "metadata": {},
   "source": [
    "### Identify shows with a premiere year in 2022 or 2023\n",
    "Removing observations where the Program is a Special."
   ]
  },
  {
   "cell_type": "code",
   "execution_count": 4,
   "id": "e1ff5265-f886-49d5-a5a4-eee39c2981d7",
   "metadata": {},
   "outputs": [
    {
     "data": {
      "text/html": [
       "<div><style>\n",
       ".dataframe > thead > tr,\n",
       ".dataframe > tbody > tr {\n",
       "  text-align: right;\n",
       "  white-space: pre-wrap;\n",
       "}\n",
       "</style>\n",
       "<small>shape: (3, 2)</small><table border=\"1\" class=\"dataframe\"><thead><tr><th>Program - Is Special</th><th>count</th></tr><tr><td>f64</td><td>u32</td></tr></thead><tbody><tr><td>1.0</td><td>563129</td></tr><tr><td>0.0</td><td>11125823</td></tr><tr><td>null</td><td>605315</td></tr></tbody></table></div>"
      ],
      "text/plain": [
       "shape: (3, 2)\n",
       "┌──────────────────────┬──────────┐\n",
       "│ Program - Is Special ┆ count    │\n",
       "│ ---                  ┆ ---      │\n",
       "│ f64                  ┆ u32      │\n",
       "╞══════════════════════╪══════════╡\n",
       "│ 1.0                  ┆ 563129   │\n",
       "│ 0.0                  ┆ 11125823 │\n",
       "│ null                 ┆ 605315   │\n",
       "└──────────────────────┴──────────┘"
      ]
     },
     "execution_count": 4,
     "metadata": {},
     "output_type": "execute_result"
    }
   ],
   "source": [
    "df['Program - Is Special'].value_counts()"
   ]
  },
  {
   "cell_type": "code",
   "execution_count": 5,
   "id": "ee6fd805-1859-4200-8af6-0a049df140f3",
   "metadata": {},
   "outputs": [
    {
     "data": {
      "text/html": [
       "<div><style>\n",
       ".dataframe > thead > tr,\n",
       ".dataframe > tbody > tr {\n",
       "  text-align: right;\n",
       "  white-space: pre-wrap;\n",
       "}\n",
       "</style>\n",
       "<small>shape: (3, 2)</small><table border=\"1\" class=\"dataframe\"><thead><tr><th>Program - Type</th><th>count</th></tr><tr><td>str</td><td>u32</td></tr></thead><tbody><tr><td>&quot;Special&quot;</td><td>567662</td></tr><tr><td>&quot;Series&quot;</td><td>11121290</td></tr><tr><td>null</td><td>605315</td></tr></tbody></table></div>"
      ],
      "text/plain": [
       "shape: (3, 2)\n",
       "┌────────────────┬──────────┐\n",
       "│ Program - Type ┆ count    │\n",
       "│ ---            ┆ ---      │\n",
       "│ str            ┆ u32      │\n",
       "╞════════════════╪══════════╡\n",
       "│ Special        ┆ 567662   │\n",
       "│ Series         ┆ 11121290 │\n",
       "│ null           ┆ 605315   │\n",
       "└────────────────┴──────────┘"
      ]
     },
     "execution_count": 5,
     "metadata": {},
     "output_type": "execute_result"
    }
   ],
   "source": [
    "df['Program - Type'].value_counts()"
   ]
  },
  {
   "cell_type": "code",
   "execution_count": 6,
   "id": "3e41a6a9-1e57-4196-9afa-7525eb848b25",
   "metadata": {
    "scrolled": true
   },
   "outputs": [
    {
     "name": "stdout",
     "output_type": "stream",
     "text": [
      "(1124412, 55)\n"
     ]
    },
    {
     "data": {
      "text/html": [
       "<div><style>\n",
       ".dataframe > thead > tr,\n",
       ".dataframe > tbody > tr {\n",
       "  text-align: right;\n",
       "  white-space: pre-wrap;\n",
       "}\n",
       "</style>\n",
       "<small>shape: (5, 55)</small><table border=\"1\" class=\"dataframe\"><thead><tr><th>Month</th><th>Year</th><th>Program</th><th>Program - Network</th><th>Episode</th><th>Partner - Network</th><th>Series ID</th><th>Program ID Key</th><th>Partner - Episode</th><th>Partner - Program</th><th>Partner - Episode Duration</th><th>Partner - Name</th><th>Partner - Platform</th><th>Partner - Device</th><th>Partner - Demo</th><th>Partner - Rating Source</th><th>Partner - Viewer Code</th><th>Program - Broadcast Length</th><th>Program - Broadcast Length SSSSS</th><th>Exposures</th><th>Minutes Viewed</th><th>Program - Air Title</th><th>Program - Budget Line</th><th>Program - Category</th><th>Program - Episode Number</th><th>Program - External Air Order</th><th>Program - External Season</th><th>Program - Franchise</th><th>Program - Genre Name</th><th>Program - Is Special</th><th>Program - Mega Genre</th><th>Program - Network Name</th><th>Program - PAC ID</th><th>Program - PAC Title</th><th>Program - Premiere Network Code</th><th>Program - Production Year</th><th>Program - Type</th><th>Program - ID</th><th>Program - Status</th><th>Program - Series Code</th><th>Program - Series ID</th><th>Program - Series Name</th><th>Program - Long Form/Short Form</th><th>Program - Sub Category</th><th>Program - Supplier</th><th>Program - TMS ID</th><th>Year and Month</th><th>Partner - Data Type</th><th>Program Sub-Type</th><th>NO.of Scheduled Minutes</th><th>NO.of Telecasts</th><th>Distinct Episode</th><th># of Episode</th><th>program_current_premiere_date</th><th>premiere_year</th></tr><tr><td>str</td><td>i64</td><td>str</td><td>str</td><td>str</td><td>str</td><td>f64</td><td>i64</td><td>str</td><td>str</td><td>i64</td><td>str</td><td>str</td><td>str</td><td>str</td><td>str</td><td>str</td><td>i64</td><td>i64</td><td>f64</td><td>f64</td><td>str</td><td>str</td><td>str</td><td>f64</td><td>f64</td><td>f64</td><td>str</td><td>str</td><td>f64</td><td>str</td><td>str</td><td>f64</td><td>str</td><td>str</td><td>f64</td><td>str</td><td>f64</td><td>str</td><td>str</td><td>f64</td><td>str</td><td>str</td><td>str</td><td>str</td><td>str</td><td>str</td><td>str</td><td>str</td><td>i64</td><td>i64</td><td>i64</td><td>i64</td><td>datetime[μs]</td><td>i32</td></tr></thead><tbody><tr><td>&quot;Jan&quot;</td><td>2022</td><td>&quot;The First 48&quot;</td><td>&quot;AEN&quot;</td><td>&quot;chat trap (#447)&quot;</td><td>&quot;AEN&quot;</td><td>217.0</td><td>242264</td><td>&quot;CHAT TRAP 447&quot;</td><td>&quot;THE FIRST 48&quot;</td><td>3600</td><td>&quot;Nielsen&quot;</td><td>&quot;Live +3&quot;</td><td>null</td><td>&quot;P2+&quot;</td><td>&quot;NCC-L3&quot;</td><td>&quot;LINVOD&quot;</td><td>60</td><td>3600</td><td>1.7364e6</td><td>8.0135e7</td><td>&quot;CHAT TRAP (#447)&quot;</td><td>&quot;The First 48&quot;</td><td>&quot;TRUE CRIME&quot;</td><td>13.0</td><td>550.0</td><td>22.0</td><td>&quot;FIRST 48&quot;</td><td>&quot;Real Life Series&quot;</td><td>0.0</td><td>&quot;CRIME &amp; INVESTIGATION&quot;</td><td>&quot;A&amp;E Television Network&quot;</td><td>37018.0</td><td>&quot;The First 48 - 30x60 season 19&quot;</td><td>&quot;AEN&quot;</td><td>2021.0</td><td>&quot;Series&quot;</td><td>242264.0</td><td>&quot;Executed&quot;</td><td>&quot;FR48&quot;</td><td>217.0</td><td>&quot;The First 48&quot;</td><td>&quot;Long Form&quot;</td><td>&quot;REAL-LIFE HEROES&quot;</td><td>&quot;ITV Studios, Inc&quot;</td><td>&quot;EP006609610819&quot;</td><td>&quot;2022/01&quot;</td><td>&quot;VIEW_DATA&quot;</td><td>&quot;Unscripted&quot;</td><td>126</td><td>2</td><td>1</td><td>1</td><td>2022-01-27 00:00:00</td><td>2022</td></tr><tr><td>&quot;Jan&quot;</td><td>2022</td><td>&quot;Castle&quot;</td><td>&quot;LIFE&quot;</td><td>&quot;time will tell&quot;</td><td>&quot;LIFE&quot;</td><td>6784.0</td><td>255702</td><td>&quot;605 TIME WILL TELL&quot;</td><td>&quot;CASTLE&quot;</td><td>3600</td><td>&quot;Nielsen&quot;</td><td>&quot;Live +3&quot;</td><td>null</td><td>&quot;P2+&quot;</td><td>&quot;NCC-L3&quot;</td><td>&quot;LINVOD&quot;</td><td>60</td><td>3600</td><td>1.4025e6</td><td>6.0163e7</td><td>&quot;Time Will Tell&quot;</td><td>&quot;Castle&quot;</td><td>null</td><td>null</td><td>110.0</td><td>null</td><td>null</td><td>&quot;Dramatic Entertainment&quot;</td><td>0.0</td><td>null</td><td>&quot;Lifetime Television&quot;</td><td>38697.0</td><td>&quot;CASTLE - Series Acquisition&quot;</td><td>&quot;LFT&quot;</td><td>2021.0</td><td>&quot;Series&quot;</td><td>255702.0</td><td>&quot;Executed&quot;</td><td>&quot;CAST&quot;</td><td>6784.0</td><td>&quot;Castle&quot;</td><td>&quot;Long Form&quot;</td><td>null</td><td>&quot;Buena Vista&quot;</td><td>&quot;EP010855880113&quot;</td><td>&quot;2022/01&quot;</td><td>&quot;VIEW_DATA&quot;</td><td>&quot;Scripted&quot;</td><td>126</td><td>2</td><td>1</td><td>1</td><td>2022-01-18 00:00:00</td><td>2022</td></tr><tr><td>&quot;Jan&quot;</td><td>2022</td><td>&quot;Castle&quot;</td><td>&quot;LIFE&quot;</td><td>&quot;the lives of others&quot;</td><td>&quot;LIFE&quot;</td><td>6784.0</td><td>255692</td><td>&quot;519 LIVES OF OTHERS, THE&quot;</td><td>&quot;CASTLE&quot;</td><td>3600</td><td>&quot;Nielsen&quot;</td><td>&quot;Live +3&quot;</td><td>null</td><td>&quot;P2+&quot;</td><td>&quot;NCC-L3&quot;</td><td>&quot;LINVOD&quot;</td><td>60</td><td>3600</td><td>661916.187565</td><td>2.8606e7</td><td>&quot;The Lives of Others&quot;</td><td>&quot;Castle&quot;</td><td>null</td><td>null</td><td>100.0</td><td>null</td><td>null</td><td>&quot;Dramatic Entertainment&quot;</td><td>0.0</td><td>null</td><td>&quot;Lifetime Television&quot;</td><td>38697.0</td><td>&quot;CASTLE - Series Acquisition&quot;</td><td>&quot;LFT&quot;</td><td>2021.0</td><td>&quot;Series&quot;</td><td>255692.0</td><td>&quot;Executed&quot;</td><td>&quot;CAST&quot;</td><td>6784.0</td><td>&quot;Castle&quot;</td><td>&quot;Long Form&quot;</td><td>null</td><td>&quot;Buena Vista&quot;</td><td>&quot;EP010855880100&quot;</td><td>&quot;2022/01&quot;</td><td>&quot;VIEW_DATA&quot;</td><td>&quot;Scripted&quot;</td><td>60</td><td>1</td><td>1</td><td>1</td><td>2022-01-17 00:00:00</td><td>2022</td></tr><tr><td>&quot;Jan&quot;</td><td>2022</td><td>&quot;Castle&quot;</td><td>&quot;LIFE&quot;</td><td>&quot;the human factor&quot;</td><td>&quot;LIFE&quot;</td><td>6784.0</td><td>255696</td><td>&quot;523 HUMAN FACTOR, THE&quot;</td><td>&quot;CASTLE&quot;</td><td>3600</td><td>&quot;Nielsen&quot;</td><td>&quot;Live +3&quot;</td><td>null</td><td>&quot;P2+&quot;</td><td>&quot;NCC-L3&quot;</td><td>&quot;LINVOD&quot;</td><td>60</td><td>3600</td><td>882500.870056</td><td>3.8046e7</td><td>&quot;The Human Factor&quot;</td><td>&quot;Castle&quot;</td><td>null</td><td>null</td><td>104.0</td><td>null</td><td>null</td><td>&quot;Dramatic Entertainment&quot;</td><td>0.0</td><td>null</td><td>&quot;Lifetime Television&quot;</td><td>38697.0</td><td>&quot;CASTLE - Series Acquisition&quot;</td><td>&quot;LFT&quot;</td><td>2021.0</td><td>&quot;Series&quot;</td><td>255696.0</td><td>&quot;Executed&quot;</td><td>&quot;CAST&quot;</td><td>6784.0</td><td>&quot;Castle&quot;</td><td>&quot;Long Form&quot;</td><td>null</td><td>&quot;Buena Vista&quot;</td><td>&quot;EP010855880108&quot;</td><td>&quot;2022/01&quot;</td><td>&quot;VIEW_DATA&quot;</td><td>&quot;Scripted&quot;</td><td>120</td><td>2</td><td>1</td><td>1</td><td>2022-01-17 00:00:00</td><td>2022</td></tr><tr><td>&quot;Jan&quot;</td><td>2022</td><td>&quot;Castle&quot;</td><td>&quot;LIFE&quot;</td><td>&quot;the wrong stuff&quot;</td><td>&quot;LIFE&quot;</td><td>6784.0</td><td>255736</td><td>&quot;716 WRONG STUFF, THE&quot;</td><td>&quot;CASTLE&quot;</td><td>3600</td><td>&quot;Nielsen&quot;</td><td>&quot;Live +3&quot;</td><td>null</td><td>&quot;P2+&quot;</td><td>&quot;NCC-L3&quot;</td><td>&quot;LINVOD&quot;</td><td>60</td><td>3600</td><td>894878.109494</td><td>3.8472e7</td><td>&quot;The Wrong Stuff&quot;</td><td>&quot;Castle&quot;</td><td>null</td><td>null</td><td>144.0</td><td>null</td><td>null</td><td>&quot;Dramatic Entertainment&quot;</td><td>0.0</td><td>null</td><td>&quot;Lifetime Television&quot;</td><td>38697.0</td><td>&quot;CASTLE - Series Acquisition&quot;</td><td>&quot;LFT&quot;</td><td>2021.0</td><td>&quot;Series&quot;</td><td>255736.0</td><td>&quot;Executed&quot;</td><td>&quot;CAST&quot;</td><td>6784.0</td><td>&quot;Castle&quot;</td><td>&quot;Long Form&quot;</td><td>null</td><td>&quot;Buena Vista&quot;</td><td>&quot;EP010855880146&quot;</td><td>&quot;2022/01&quot;</td><td>&quot;VIEW_DATA&quot;</td><td>&quot;Scripted&quot;</td><td>126</td><td>2</td><td>1</td><td>1</td><td>2022-01-31 00:00:00</td><td>2022</td></tr></tbody></table></div>"
      ],
      "text/plain": [
       "shape: (5, 55)\n",
       "┌───────┬──────┬──────────────┬───────────┬───┬────────────────────┬──────────────┬────────────────────┬───────────────┐\n",
       "│ Month ┆ Year ┆ Program      ┆ Program - ┆ … ┆ Distinct Episode   ┆ # of Episode ┆ program_current_pr ┆ premiere_year │\n",
       "│ ---   ┆ ---  ┆ ---          ┆ Network   ┆   ┆ ---                ┆ ---          ┆ emiere_date        ┆ ---           │\n",
       "│ str   ┆ i64  ┆ str          ┆ ---       ┆   ┆ i64                ┆ i64          ┆ ---                ┆ i32           │\n",
       "│       ┆      ┆              ┆ str       ┆   ┆                    ┆              ┆ datetime[μs]       ┆               │\n",
       "╞═══════╪══════╪══════════════╪═══════════╪═══╪════════════════════╪══════════════╪════════════════════╪═══════════════╡\n",
       "│ Jan   ┆ 2022 ┆ The First 48 ┆ AEN       ┆ … ┆ 1                  ┆ 1            ┆ 2022-01-27         ┆ 2022          │\n",
       "│       ┆      ┆              ┆           ┆   ┆                    ┆              ┆ 00:00:00           ┆               │\n",
       "│ Jan   ┆ 2022 ┆ Castle       ┆ LIFE      ┆ … ┆ 1                  ┆ 1            ┆ 2022-01-18         ┆ 2022          │\n",
       "│       ┆      ┆              ┆           ┆   ┆                    ┆              ┆ 00:00:00           ┆               │\n",
       "│ Jan   ┆ 2022 ┆ Castle       ┆ LIFE      ┆ … ┆ 1                  ┆ 1            ┆ 2022-01-17         ┆ 2022          │\n",
       "│       ┆      ┆              ┆           ┆   ┆                    ┆              ┆ 00:00:00           ┆               │\n",
       "│ Jan   ┆ 2022 ┆ Castle       ┆ LIFE      ┆ … ┆ 1                  ┆ 1            ┆ 2022-01-17         ┆ 2022          │\n",
       "│       ┆      ┆              ┆           ┆   ┆                    ┆              ┆ 00:00:00           ┆               │\n",
       "│ Jan   ┆ 2022 ┆ Castle       ┆ LIFE      ┆ … ┆ 1                  ┆ 1            ┆ 2022-01-31         ┆ 2022          │\n",
       "│       ┆      ┆              ┆           ┆   ┆                    ┆              ┆ 00:00:00           ┆               │\n",
       "└───────┴──────┴──────────────┴───────────┴───┴────────────────────┴──────────────┴────────────────────┴───────────────┘"
      ]
     },
     "execution_count": 6,
     "metadata": {},
     "output_type": "execute_result"
    }
   ],
   "source": [
    "df = df.filter( (pl.col(\"premiere_year\").is_in([2022, 2023])) & \n",
    "                (pl.col(\"Program - Is Special\") != 1) & \n",
    "                (pl.col(\"Program - Type\") != \"Special\") &\n",
    "                (pl.col(\"Program Sub-Type\") != \"Movie\") &\n",
    "                (pl.col(\"Program Sub-Type\") != \"Special\") )\n",
    "\n",
    "print(df.shape)\n",
    "df.head()"
   ]
  },
  {
   "cell_type": "code",
   "execution_count": 7,
   "id": "4d944fc9-ba33-465e-a46f-8704d8a65ac4",
   "metadata": {},
   "outputs": [
    {
     "data": {
      "text/html": [
       "<div><style>\n",
       ".dataframe > thead > tr,\n",
       ".dataframe > tbody > tr {\n",
       "  text-align: right;\n",
       "  white-space: pre-wrap;\n",
       "}\n",
       "</style>\n",
       "<small>shape: (2, 56)</small><table border=\"1\" class=\"dataframe\"><thead><tr><th>Month</th><th>Year</th><th>Program</th><th>Program - Network</th><th>Episode</th><th>Partner - Network</th><th>Series ID</th><th>Program ID Key</th><th>Partner - Episode</th><th>Partner - Program</th><th>Partner - Episode Duration</th><th>Partner - Name</th><th>Partner - Platform</th><th>Partner - Device</th><th>Partner - Demo</th><th>Partner - Rating Source</th><th>Partner - Viewer Code</th><th>Program - Broadcast Length</th><th>Program - Broadcast Length SSSSS</th><th>Exposures</th><th>Minutes Viewed</th><th>Program - Air Title</th><th>Program - Budget Line</th><th>Program - Category</th><th>Program - Episode Number</th><th>Program - External Air Order</th><th>Program - External Season</th><th>Program - Franchise</th><th>Program - Genre Name</th><th>Program - Is Special</th><th>Program - Mega Genre</th><th>Program - Network Name</th><th>Program - PAC ID</th><th>Program - PAC Title</th><th>Program - Premiere Network Code</th><th>Program - Production Year</th><th>Program - Type</th><th>Program - ID</th><th>Program - Status</th><th>Program - Series Code</th><th>Program - Series ID</th><th>Program - Series Name</th><th>Program - Long Form/Short Form</th><th>Program - Sub Category</th><th>Program - Supplier</th><th>Program - TMS ID</th><th>Year and Month</th><th>Partner - Data Type</th><th>Program Sub-Type</th><th>NO.of Scheduled Minutes</th><th>NO.of Telecasts</th><th>Distinct Episode</th><th># of Episode</th><th>program_current_premiere_date</th><th>premiere_year</th><th>Series Type</th></tr><tr><td>str</td><td>i64</td><td>str</td><td>str</td><td>str</td><td>str</td><td>f64</td><td>i64</td><td>str</td><td>str</td><td>i64</td><td>str</td><td>str</td><td>str</td><td>str</td><td>str</td><td>str</td><td>i64</td><td>i64</td><td>f64</td><td>f64</td><td>str</td><td>str</td><td>str</td><td>f64</td><td>f64</td><td>f64</td><td>str</td><td>str</td><td>f64</td><td>str</td><td>str</td><td>f64</td><td>str</td><td>str</td><td>f64</td><td>str</td><td>f64</td><td>str</td><td>str</td><td>f64</td><td>str</td><td>str</td><td>str</td><td>str</td><td>str</td><td>str</td><td>str</td><td>str</td><td>i64</td><td>i64</td><td>i64</td><td>i64</td><td>datetime[μs]</td><td>i32</td><td>str</td></tr></thead><tbody><tr><td>&quot;Jan&quot;</td><td>2022</td><td>&quot;The First 48&quot;</td><td>&quot;AEN&quot;</td><td>&quot;chat trap (#447)&quot;</td><td>&quot;AEN&quot;</td><td>217.0</td><td>242264</td><td>&quot;CHAT TRAP 447&quot;</td><td>&quot;THE FIRST 48&quot;</td><td>3600</td><td>&quot;Nielsen&quot;</td><td>&quot;Live +3&quot;</td><td>null</td><td>&quot;P2+&quot;</td><td>&quot;NCC-L3&quot;</td><td>&quot;LINVOD&quot;</td><td>60</td><td>3600</td><td>1.7364e6</td><td>8.0135e7</td><td>&quot;CHAT TRAP (#447)&quot;</td><td>&quot;The First 48&quot;</td><td>&quot;TRUE CRIME&quot;</td><td>13.0</td><td>550.0</td><td>22.0</td><td>&quot;FIRST 48&quot;</td><td>&quot;Real Life Series&quot;</td><td>0.0</td><td>&quot;CRIME &amp; INVESTIGATION&quot;</td><td>&quot;A&amp;E Television Network&quot;</td><td>37018.0</td><td>&quot;The First 48 - 30x60 season 19&quot;</td><td>&quot;AEN&quot;</td><td>2021.0</td><td>&quot;Series&quot;</td><td>242264.0</td><td>&quot;Executed&quot;</td><td>&quot;FR48&quot;</td><td>217.0</td><td>&quot;The First 48&quot;</td><td>&quot;Long Form&quot;</td><td>&quot;REAL-LIFE HEROES&quot;</td><td>&quot;ITV Studios, Inc&quot;</td><td>&quot;EP006609610819&quot;</td><td>&quot;2022/01&quot;</td><td>&quot;VIEW_DATA&quot;</td><td>&quot;Unscripted&quot;</td><td>126</td><td>2</td><td>1</td><td>1</td><td>2022-01-27 00:00:00</td><td>2022</td><td>&quot;Legacy&quot;</td></tr><tr><td>&quot;Jan&quot;</td><td>2022</td><td>&quot;Castle&quot;</td><td>&quot;LIFE&quot;</td><td>&quot;time will tell&quot;</td><td>&quot;LIFE&quot;</td><td>6784.0</td><td>255702</td><td>&quot;605 TIME WILL TELL&quot;</td><td>&quot;CASTLE&quot;</td><td>3600</td><td>&quot;Nielsen&quot;</td><td>&quot;Live +3&quot;</td><td>null</td><td>&quot;P2+&quot;</td><td>&quot;NCC-L3&quot;</td><td>&quot;LINVOD&quot;</td><td>60</td><td>3600</td><td>1.4025e6</td><td>6.0163e7</td><td>&quot;Time Will Tell&quot;</td><td>&quot;Castle&quot;</td><td>null</td><td>null</td><td>110.0</td><td>null</td><td>null</td><td>&quot;Dramatic Entertainment&quot;</td><td>0.0</td><td>null</td><td>&quot;Lifetime Television&quot;</td><td>38697.0</td><td>&quot;CASTLE - Series Acquisition&quot;</td><td>&quot;LFT&quot;</td><td>2021.0</td><td>&quot;Series&quot;</td><td>255702.0</td><td>&quot;Executed&quot;</td><td>&quot;CAST&quot;</td><td>6784.0</td><td>&quot;Castle&quot;</td><td>&quot;Long Form&quot;</td><td>null</td><td>&quot;Buena Vista&quot;</td><td>&quot;EP010855880113&quot;</td><td>&quot;2022/01&quot;</td><td>&quot;VIEW_DATA&quot;</td><td>&quot;Scripted&quot;</td><td>126</td><td>2</td><td>1</td><td>1</td><td>2022-01-18 00:00:00</td><td>2022</td><td>&quot;Unknown&quot;</td></tr></tbody></table></div>"
      ],
      "text/plain": [
       "shape: (2, 56)\n",
       "┌───────┬──────┬──────────────┬───────────────────┬───┬──────────────┬───────────────────┬───────────────┬─────────────┐\n",
       "│ Month ┆ Year ┆ Program      ┆ Program - Network ┆ … ┆ # of Episode ┆ program_current_p ┆ premiere_year ┆ Series Type │\n",
       "│ ---   ┆ ---  ┆ ---          ┆ ---               ┆   ┆ ---          ┆ remiere_date      ┆ ---           ┆ ---         │\n",
       "│ str   ┆ i64  ┆ str          ┆ str               ┆   ┆ i64          ┆ ---               ┆ i32           ┆ str         │\n",
       "│       ┆      ┆              ┆                   ┆   ┆              ┆ datetime[μs]      ┆               ┆             │\n",
       "╞═══════╪══════╪══════════════╪═══════════════════╪═══╪══════════════╪═══════════════════╪═══════════════╪═════════════╡\n",
       "│ Jan   ┆ 2022 ┆ The First 48 ┆ AEN               ┆ … ┆ 1            ┆ 2022-01-27        ┆ 2022          ┆ Legacy      │\n",
       "│       ┆      ┆              ┆                   ┆   ┆              ┆ 00:00:00          ┆               ┆             │\n",
       "│ Jan   ┆ 2022 ┆ Castle       ┆ LIFE              ┆ … ┆ 1            ┆ 2022-01-18        ┆ 2022          ┆ Unknown     │\n",
       "│       ┆      ┆              ┆                   ┆   ┆              ┆ 00:00:00          ┆               ┆             │\n",
       "└───────┴──────┴──────────────┴───────────────────┴───┴──────────────┴───────────────────┴───────────────┴─────────────┘"
      ]
     },
     "execution_count": 7,
     "metadata": {},
     "output_type": "execute_result"
    }
   ],
   "source": [
    "#Create new variable to establish whether season is Legacy or New\n",
    "\n",
    "df = df.with_columns(\n",
    "    pl.when(pl.col(\"Program - External Season\") < 2)\n",
    "    .then(1)\n",
    "    .when(pl.col(\"Program - External Season\") >= 2)\n",
    "    .then(2)\n",
    "    .otherwise(0)\n",
    "    .alias(\"Series Type\")\n",
    ")\n",
    "\n",
    "# Cast to string and replace values\n",
    "df = df.with_columns(\n",
    "    pl.col('Series Type')\n",
    "    .cast(pl.String)\n",
    "    .replace({\n",
    "        '1': 'New',\n",
    "        '2': 'Legacy',\n",
    "        '0': 'Unknown'\n",
    "    })\n",
    "    .alias('Series Type')\n",
    ")\n",
    "\n",
    "df.head(2)"
   ]
  },
  {
   "cell_type": "markdown",
   "id": "09fe0924-339f-4b78-8fd3-c360a3cd14d1",
   "metadata": {},
   "source": [
    "### Count of missing values per column.\n",
    "\n",
    "<br> QUESTION FOR TEAM TO CONSIDER: Topic of how the grouping of variables in the season concatenation will affect the missing value imputation."
   ]
  },
  {
   "cell_type": "code",
   "execution_count": 8,
   "id": "1bbb5d46-a022-4ec7-b59b-9d8c69591569",
   "metadata": {},
   "outputs": [
    {
     "data": {
      "text/html": [
       "<div><style>\n",
       ".dataframe > thead > tr,\n",
       ".dataframe > tbody > tr {\n",
       "  text-align: right;\n",
       "  white-space: pre-wrap;\n",
       "}\n",
       "</style>\n",
       "<small>shape: (1, 56)</small><table border=\"1\" class=\"dataframe\"><thead><tr><th>Month</th><th>Year</th><th>Program</th><th>Program - Network</th><th>Episode</th><th>Partner - Network</th><th>Series ID</th><th>Program ID Key</th><th>Partner - Episode</th><th>Partner - Program</th><th>Partner - Episode Duration</th><th>Partner - Name</th><th>Partner - Platform</th><th>Partner - Device</th><th>Partner - Demo</th><th>Partner - Rating Source</th><th>Partner - Viewer Code</th><th>Program - Broadcast Length</th><th>Program - Broadcast Length SSSSS</th><th>Exposures</th><th>Minutes Viewed</th><th>Program - Air Title</th><th>Program - Budget Line</th><th>Program - Category</th><th>Program - Episode Number</th><th>Program - External Air Order</th><th>Program - External Season</th><th>Program - Franchise</th><th>Program - Genre Name</th><th>Program - Is Special</th><th>Program - Mega Genre</th><th>Program - Network Name</th><th>Program - PAC ID</th><th>Program - PAC Title</th><th>Program - Premiere Network Code</th><th>Program - Production Year</th><th>Program - Type</th><th>Program - ID</th><th>Program - Status</th><th>Program - Series Code</th><th>Program - Series ID</th><th>Program - Series Name</th><th>Program - Long Form/Short Form</th><th>Program - Sub Category</th><th>Program - Supplier</th><th>Program - TMS ID</th><th>Year and Month</th><th>Partner - Data Type</th><th>Program Sub-Type</th><th>NO.of Scheduled Minutes</th><th>NO.of Telecasts</th><th>Distinct Episode</th><th># of Episode</th><th>program_current_premiere_date</th><th>premiere_year</th><th>Series Type</th></tr><tr><td>u32</td><td>u32</td><td>u32</td><td>u32</td><td>u32</td><td>u32</td><td>u32</td><td>u32</td><td>u32</td><td>u32</td><td>u32</td><td>u32</td><td>u32</td><td>u32</td><td>u32</td><td>u32</td><td>u32</td><td>u32</td><td>u32</td><td>u32</td><td>u32</td><td>u32</td><td>u32</td><td>u32</td><td>u32</td><td>u32</td><td>u32</td><td>u32</td><td>u32</td><td>u32</td><td>u32</td><td>u32</td><td>u32</td><td>u32</td><td>u32</td><td>u32</td><td>u32</td><td>u32</td><td>u32</td><td>u32</td><td>u32</td><td>u32</td><td>u32</td><td>u32</td><td>u32</td><td>u32</td><td>u32</td><td>u32</td><td>u32</td><td>u32</td><td>u32</td><td>u32</td><td>u32</td><td>u32</td><td>u32</td><td>u32</td></tr></thead><tbody><tr><td>0</td><td>0</td><td>0</td><td>0</td><td>0</td><td>1084</td><td>0</td><td>0</td><td>38396</td><td>18084</td><td>0</td><td>0</td><td>0</td><td>25114</td><td>0</td><td>1099475</td><td>1099475</td><td>0</td><td>0</td><td>0</td><td>0</td><td>0</td><td>3042</td><td>13513</td><td>71729</td><td>7189</td><td>5322</td><td>390360</td><td>6</td><td>0</td><td>13513</td><td>0</td><td>0</td><td>0</td><td>5187</td><td>0</td><td>0</td><td>0</td><td>0</td><td>0</td><td>0</td><td>0</td><td>0</td><td>13513</td><td>0</td><td>492</td><td>0</td><td>0</td><td>0</td><td>0</td><td>0</td><td>0</td><td>0</td><td>0</td><td>0</td><td>0</td></tr></tbody></table></div>"
      ],
      "text/plain": [
       "shape: (1, 56)\n",
       "┌───────┬──────┬─────────┬───────────────────┬───┬──────────────┬────────────────────────┬───────────────┬─────────────┐\n",
       "│ Month ┆ Year ┆ Program ┆ Program - Network ┆ … ┆ # of Episode ┆ program_current_premie ┆ premiere_year ┆ Series Type │\n",
       "│ ---   ┆ ---  ┆ ---     ┆ ---               ┆   ┆ ---          ┆ re_date                ┆ ---           ┆ ---         │\n",
       "│ u32   ┆ u32  ┆ u32     ┆ u32               ┆   ┆ u32          ┆ ---                    ┆ u32           ┆ u32         │\n",
       "│       ┆      ┆         ┆                   ┆   ┆              ┆ u32                    ┆               ┆             │\n",
       "╞═══════╪══════╪═════════╪═══════════════════╪═══╪══════════════╪════════════════════════╪═══════════════╪═════════════╡\n",
       "│ 0     ┆ 0    ┆ 0       ┆ 0                 ┆ … ┆ 0            ┆ 0                      ┆ 0             ┆ 0           │\n",
       "└───────┴──────┴─────────┴───────────────────┴───┴──────────────┴────────────────────────┴───────────────┴─────────────┘"
      ]
     },
     "execution_count": 8,
     "metadata": {},
     "output_type": "execute_result"
    }
   ],
   "source": [
    "df.null_count()"
   ]
  },
  {
   "cell_type": "code",
   "execution_count": 9,
   "id": "8d35d435-0acb-4232-8ffc-a5721e08fac9",
   "metadata": {
    "scrolled": true
   },
   "outputs": [
    {
     "data": {
      "text/plain": [
       "['Partner - Rating Source', 'Partner - Viewer Code', 'Program - Franchise']"
      ]
     },
     "execution_count": 9,
     "metadata": {},
     "output_type": "execute_result"
    }
   ],
   "source": [
    "too_high = []\n",
    "counts = {}\n",
    "\n",
    "for col in df.columns:\n",
    "    nullz = len( df.filter(pl.col(col).is_null()) )\n",
    "    perc = (nullz/len(df)) * 100\n",
    "    counts[col] = round(perc, 4)\n",
    "    if perc >= 10:\n",
    "        too_high.append(col)\n",
    "\n",
    "#remove those with > 10% null\n",
    "df = df.drop(too_high)\n",
    "\n",
    "too_high"
   ]
  },
  {
   "cell_type": "markdown",
   "id": "37456a48-375e-4cf2-bece-e9087170f4ad",
   "metadata": {},
   "source": [
    "### columns\n",
    "\n",
    "\n",
    "### Program Information\n",
    "\n",
    "1. **Program**: The title of the program or episode aired.\n",
    "1. **Episode**: The specific episode of the program, often including a number or unique identifier.\n",
    "1. **Program - Air Title**: The title of the program as it appeared when aired, which may differ slightly from the official title.\n",
    "1. **Program - Series Name**: The name of the series to which the program belongs.\n",
    "1. **Program - Type**: Indicates the type of programming, such as series, movie, or special event.\n",
    "1. **Program - Category**: Broad classification of the program, such as drama, reality, or documentary.\n",
    "1. **Program - Sub Category**: A more specific categorization within the main category.\n",
    "1. **Program - Genre Name**: The specific genre of the program, providing more detail than the category.\n",
    "1. **Program - Mega Genre**: A broader category that encompasses multiple genres.\n",
    "1. **Program - Long Form/Short Form**: Indicates whether the program is a long-form (typically over 30 minutes) or short-form production.\n",
    "\n",
    "### Broadcast Details\n",
    "\n",
    "1. **Month** and **Year**: The month and year when the program aired.\n",
    "1. **Program - Network**: The network that broadcast the program.\n",
    "1. **Program - Network Name**: The full, official name of the broadcasting network.\n",
    "1. **Program - Broadcast Length**: The duration of the broadcast in seconds.\n",
    "1. **Program - Broadcast Length SSSSS**: The broadcast length in HH:MM:SS format.\n",
    "1. **Program - Premiere Network Code**: A code indicating the network where the program first premiered.\n",
    "1. **Program - Production Year**: The year in which the program was produced.\n",
    "1. **program_current_premiere_date**: The most recent premiere date of the program.\n",
    "1. **premiere_year**: The year when the episode or series first premiered.\n",
    "\n",
    "### Episode and Series Information\n",
    "\n",
    "1. **Program - Episode Number**: The episode's number within its series.\n",
    "1. **Program - External Air Order**: The order in which the episode aired, which may differ from its production order.\n",
    "1. **Program - External Season**: The season number of the program as listed in external sources.\n",
    "1. **Program - Is Special**: Indicates whether the episode is a special presentation (0 for no, 1 for yes).\n",
    "1. **Series Type**: Classifies the series as scripted, unscripted, or other types.\n",
    "1. **Program Sub-Type**: Further classification of the program, such as mini-series or documentary.\n",
    "\n",
    "### Identification and Tracking\n",
    "\n",
    "1. **Series ID**: A unique identifier for the series.\n",
    "1. **Program ID Key**: A unique key assigned to the specific program.\n",
    "1. **Program - ID**: Another unique identifier for the program.\n",
    "1. **Program - PAC ID**: An ID assigned by the Program Allocation Committee (PAC).\n",
    "1. **Program - PAC Title**: The title of the program as recorded by the PAC.\n",
    "1. **Program - Series Code**: A code representing the series.\n",
    "1. **Program - Series ID**: Another identifier corresponding to the series.\n",
    "1. **Program - TMS ID**: A unique identifier from the TMS (Tribune Media Services) database.\n",
    "\n",
    "### Viewership and Performance\n",
    "\n",
    "1. **Exposures**: The number of times the program was viewed by audiences.\n",
    "1. **Minutes Viewed**: The total number of minutes viewed by all audiences for this program.\n",
    "1. **NO.of Scheduled Minutes**: The total number of minutes the program was scheduled to air.\n",
    "1. **NO.of Telecasts**: The number of times the program was broadcast.\n",
    "1. **Distinct Episode**: Indicates whether this is a unique episode (usually 1 for yes). This kind of classification is useful in media and broadcasting analytics to differentiate between original episodes and reruns or syndicated content.\n",
    "1. **# of Episode**: A count or identifier for the episode within the dataset.\n",
    "\n",
    "### Partner Information\n",
    "\n",
    "1. **Partner - Network**: The network of the partner associated with this program.\n",
    "1. **Partner - Episode**: The title of the episode as listed by the partner network.\n",
    "1. **Partner - Program**: The program title as listed by the partner network.\n",
    "1. **Partner - Episode Duration**: The duration of the episode according to the partner.\n",
    "1. **Partner - Name**: The name of the partner network or platform.\n",
    "1. **Partner - Platform**: The distribution platform used by the partner (e.g., cable, streaming).\n",
    "1. **Partner - Device**: The type of device used for viewing (e.g., TV, mobile, desktop).\n",
    "1. **Partner - Demo**: The target demographic for the program.\n",
    "1. **Partner - Data Type**: The type of data reported by the partner.\n",
    "\n",
    "### Production and Business Information\n",
    "\n",
    "1. **Program - Budget Line**: The budget allocation or category for the program.\n",
    "1. **Program - Status**: The current status of the program (e.g., in production, completed, cancelled).\n",
    "1. **Program - Supplier**: The company or entity that supplied the content.\n",
    "1. **Year and Month**: A combined field showing both the year and month of airing.\n"
   ]
  },
  {
   "cell_type": "code",
   "execution_count": 29,
   "id": "6fb51655-68f0-438c-b6df-14dca8dd0ae8",
   "metadata": {
    "scrolled": true
   },
   "outputs": [
    {
     "name": "stdout",
     "output_type": "stream",
     "text": [
      "Month -- String -- 0\n",
      "Year -- Int64 -- 0\n",
      "Program -- String -- 0\n",
      "Program - Network -- String -- 0\n",
      "Episode -- String -- 0\n",
      "Partner - Network -- String -- 1084\n",
      "Series ID -- Float64 -- 0\n",
      "Program ID Key -- Int64 -- 0\n",
      "Partner - Episode -- String -- 38396\n",
      "Partner - Program -- String -- 18084\n",
      "Partner - Episode Duration -- Int64 -- 0\n",
      "Partner - Name -- String -- 0\n",
      "Partner - Platform -- String -- 0\n",
      "Partner - Device -- String -- 25114\n",
      "Partner - Demo -- String -- 0\n",
      "Program - Broadcast Length -- Int64 -- 0\n",
      "Program - Broadcast Length SSSSS -- Int64 -- 0\n",
      "Exposures -- Float64 -- 0\n",
      "Minutes Viewed -- Float64 -- 0\n",
      "Program - Air Title -- String -- 0\n",
      "Program - Budget Line -- String -- 3042\n",
      "Program - Category -- String -- 13513\n",
      "Program - Episode Number -- Float64 -- 71729\n",
      "Program - External Air Order -- Float64 -- 7189\n",
      "Program - External Season -- Float64 -- 5322\n",
      "Program - Genre Name -- String -- 6\n",
      "Program - Is Special -- Float64 -- 0\n",
      "Program - Mega Genre -- String -- 13513\n",
      "Program - Network Name -- String -- 0\n",
      "Program - PAC ID -- Float64 -- 0\n",
      "Program - PAC Title -- String -- 0\n",
      "Program - Premiere Network Code -- String -- 5187\n",
      "Program - Production Year -- Float64 -- 0\n",
      "Program - Type -- String -- 0\n",
      "Program - ID -- Float64 -- 0\n",
      "Program - Status -- String -- 0\n",
      "Program - Series Code -- String -- 0\n",
      "Program - Series ID -- Float64 -- 0\n",
      "Program - Series Name -- String -- 0\n",
      "Program - Long Form/Short Form -- String -- 0\n",
      "Program - Sub Category -- String -- 13513\n",
      "Program - Supplier -- String -- 0\n",
      "Program - TMS ID -- String -- 492\n",
      "Year and Month -- String -- 0\n",
      "Partner - Data Type -- String -- 0\n",
      "Program Sub-Type -- String -- 0\n",
      "NO.of Scheduled Minutes -- Int64 -- 0\n",
      "NO.of Telecasts -- Int64 -- 0\n",
      "Distinct Episode -- Int64 -- 0\n",
      "# of Episode -- Int64 -- 0\n",
      "program_current_premiere_date -- Datetime(time_unit='us', time_zone=None) -- 0\n",
      "premiere_year -- Int32 -- 0\n",
      "Series Type -- String -- 0\n"
     ]
    }
   ],
   "source": [
    "nulls_dict = df.null_count().to_dicts()\n",
    "\n",
    "for dtype, col in zip(df.dtypes, df.columns):\n",
    "    print(col, '--', dtype, '--', nulls_dict[0][col])"
   ]
  },
  {
   "cell_type": "markdown",
   "id": "22a5b2c4-99d5-4e13-a91b-5ab2bc217b3f",
   "metadata": {},
   "source": [
    "### decide which columns would be irrelevant to a model:\n",
    "\n",
    "- Program - Status\n",
    "- Partner - Episode\n",
    "- Partner - Program\n",
    "- Partner - Data Type\n",
    "- Program - TMS ID\n",
    "- Program - Series ID\n",
    "- Program - Series Code\n",
    "- Program - PAC Title\n",
    "- Program - PAC ID\n",
    "- Program - ID\n",
    "- Program ID Key\n",
    "- Series ID\n",
    "- Program - Is Special (already filtered)\n",
    "- Program - Type (already filtered)\n",
    "- Program - Premiere Network Code\n",
    "- Program - Broadcast Length SSSSS  (we already have Program - Broadcast Length which is a better model format)\n"
   ]
  },
  {
   "cell_type": "code",
   "execution_count": 33,
   "id": "858a0ee5-d396-4a7d-aa7a-cc9b86cc54b8",
   "metadata": {},
   "outputs": [
    {
     "data": {
      "text/html": [
       "<div><style>\n",
       ".dataframe > thead > tr,\n",
       ".dataframe > tbody > tr {\n",
       "  text-align: right;\n",
       "  white-space: pre-wrap;\n",
       "}\n",
       "</style>\n",
       "<small>shape: (5, 37)</small><table border=\"1\" class=\"dataframe\"><thead><tr><th>Month</th><th>Year</th><th>Program</th><th>Program - Network</th><th>Episode</th><th>Partner - Network</th><th>Partner - Episode Duration</th><th>Partner - Name</th><th>Partner - Platform</th><th>Partner - Device</th><th>Partner - Demo</th><th>Program - Broadcast Length</th><th>Exposures</th><th>Minutes Viewed</th><th>Program - Air Title</th><th>Program - Budget Line</th><th>Program - Category</th><th>Program - Episode Number</th><th>Program - External Air Order</th><th>Program - External Season</th><th>Program - Genre Name</th><th>Program - Mega Genre</th><th>Program - Network Name</th><th>Program - Production Year</th><th>Program - Series Name</th><th>Program - Long Form/Short Form</th><th>Program - Sub Category</th><th>Program - Supplier</th><th>Year and Month</th><th>Program Sub-Type</th><th>NO.of Scheduled Minutes</th><th>NO.of Telecasts</th><th>Distinct Episode</th><th># of Episode</th><th>program_current_premiere_date</th><th>premiere_year</th><th>Series Type</th></tr><tr><td>str</td><td>i64</td><td>str</td><td>str</td><td>str</td><td>str</td><td>i64</td><td>str</td><td>str</td><td>str</td><td>str</td><td>i64</td><td>f64</td><td>f64</td><td>str</td><td>str</td><td>str</td><td>f64</td><td>f64</td><td>f64</td><td>str</td><td>str</td><td>str</td><td>f64</td><td>str</td><td>str</td><td>str</td><td>str</td><td>str</td><td>str</td><td>i64</td><td>i64</td><td>i64</td><td>i64</td><td>datetime[μs]</td><td>i32</td><td>str</td></tr></thead><tbody><tr><td>&quot;Jan&quot;</td><td>2022</td><td>&quot;The First 48&quot;</td><td>&quot;AEN&quot;</td><td>&quot;chat trap (#447)&quot;</td><td>&quot;AEN&quot;</td><td>3600</td><td>&quot;Nielsen&quot;</td><td>&quot;Live +3&quot;</td><td>null</td><td>&quot;P2+&quot;</td><td>60</td><td>1.7364e6</td><td>8.0135e7</td><td>&quot;CHAT TRAP (#447)&quot;</td><td>&quot;The First 48&quot;</td><td>&quot;TRUE CRIME&quot;</td><td>13.0</td><td>550.0</td><td>22.0</td><td>&quot;Real Life Series&quot;</td><td>&quot;CRIME &amp; INVESTIGATION&quot;</td><td>&quot;A&amp;E Television Network&quot;</td><td>2021.0</td><td>&quot;The First 48&quot;</td><td>&quot;Long Form&quot;</td><td>&quot;REAL-LIFE HEROES&quot;</td><td>&quot;ITV Studios, Inc&quot;</td><td>&quot;2022/01&quot;</td><td>&quot;Unscripted&quot;</td><td>126</td><td>2</td><td>1</td><td>1</td><td>2022-01-27 00:00:00</td><td>2022</td><td>&quot;Legacy&quot;</td></tr><tr><td>&quot;Jan&quot;</td><td>2022</td><td>&quot;Castle&quot;</td><td>&quot;LIFE&quot;</td><td>&quot;time will tell&quot;</td><td>&quot;LIFE&quot;</td><td>3600</td><td>&quot;Nielsen&quot;</td><td>&quot;Live +3&quot;</td><td>null</td><td>&quot;P2+&quot;</td><td>60</td><td>1.4025e6</td><td>6.0163e7</td><td>&quot;Time Will Tell&quot;</td><td>&quot;Castle&quot;</td><td>null</td><td>null</td><td>110.0</td><td>null</td><td>&quot;Dramatic Entertainment&quot;</td><td>null</td><td>&quot;Lifetime Television&quot;</td><td>2021.0</td><td>&quot;Castle&quot;</td><td>&quot;Long Form&quot;</td><td>null</td><td>&quot;Buena Vista&quot;</td><td>&quot;2022/01&quot;</td><td>&quot;Scripted&quot;</td><td>126</td><td>2</td><td>1</td><td>1</td><td>2022-01-18 00:00:00</td><td>2022</td><td>&quot;Unknown&quot;</td></tr><tr><td>&quot;Jan&quot;</td><td>2022</td><td>&quot;Castle&quot;</td><td>&quot;LIFE&quot;</td><td>&quot;the lives of others&quot;</td><td>&quot;LIFE&quot;</td><td>3600</td><td>&quot;Nielsen&quot;</td><td>&quot;Live +3&quot;</td><td>null</td><td>&quot;P2+&quot;</td><td>60</td><td>661916.187565</td><td>2.8606e7</td><td>&quot;The Lives of Others&quot;</td><td>&quot;Castle&quot;</td><td>null</td><td>null</td><td>100.0</td><td>null</td><td>&quot;Dramatic Entertainment&quot;</td><td>null</td><td>&quot;Lifetime Television&quot;</td><td>2021.0</td><td>&quot;Castle&quot;</td><td>&quot;Long Form&quot;</td><td>null</td><td>&quot;Buena Vista&quot;</td><td>&quot;2022/01&quot;</td><td>&quot;Scripted&quot;</td><td>60</td><td>1</td><td>1</td><td>1</td><td>2022-01-17 00:00:00</td><td>2022</td><td>&quot;Unknown&quot;</td></tr><tr><td>&quot;Jan&quot;</td><td>2022</td><td>&quot;Castle&quot;</td><td>&quot;LIFE&quot;</td><td>&quot;the human factor&quot;</td><td>&quot;LIFE&quot;</td><td>3600</td><td>&quot;Nielsen&quot;</td><td>&quot;Live +3&quot;</td><td>null</td><td>&quot;P2+&quot;</td><td>60</td><td>882500.870056</td><td>3.8046e7</td><td>&quot;The Human Factor&quot;</td><td>&quot;Castle&quot;</td><td>null</td><td>null</td><td>104.0</td><td>null</td><td>&quot;Dramatic Entertainment&quot;</td><td>null</td><td>&quot;Lifetime Television&quot;</td><td>2021.0</td><td>&quot;Castle&quot;</td><td>&quot;Long Form&quot;</td><td>null</td><td>&quot;Buena Vista&quot;</td><td>&quot;2022/01&quot;</td><td>&quot;Scripted&quot;</td><td>120</td><td>2</td><td>1</td><td>1</td><td>2022-01-17 00:00:00</td><td>2022</td><td>&quot;Unknown&quot;</td></tr><tr><td>&quot;Jan&quot;</td><td>2022</td><td>&quot;Castle&quot;</td><td>&quot;LIFE&quot;</td><td>&quot;the wrong stuff&quot;</td><td>&quot;LIFE&quot;</td><td>3600</td><td>&quot;Nielsen&quot;</td><td>&quot;Live +3&quot;</td><td>null</td><td>&quot;P2+&quot;</td><td>60</td><td>894878.109494</td><td>3.8472e7</td><td>&quot;The Wrong Stuff&quot;</td><td>&quot;Castle&quot;</td><td>null</td><td>null</td><td>144.0</td><td>null</td><td>&quot;Dramatic Entertainment&quot;</td><td>null</td><td>&quot;Lifetime Television&quot;</td><td>2021.0</td><td>&quot;Castle&quot;</td><td>&quot;Long Form&quot;</td><td>null</td><td>&quot;Buena Vista&quot;</td><td>&quot;2022/01&quot;</td><td>&quot;Scripted&quot;</td><td>126</td><td>2</td><td>1</td><td>1</td><td>2022-01-31 00:00:00</td><td>2022</td><td>&quot;Unknown&quot;</td></tr></tbody></table></div>"
      ],
      "text/plain": [
       "shape: (5, 37)\n",
       "┌───────┬──────┬──────────────┬───────────────────┬───┬──────────────┬───────────────────┬───────────────┬─────────────┐\n",
       "│ Month ┆ Year ┆ Program      ┆ Program - Network ┆ … ┆ # of Episode ┆ program_current_p ┆ premiere_year ┆ Series Type │\n",
       "│ ---   ┆ ---  ┆ ---          ┆ ---               ┆   ┆ ---          ┆ remiere_date      ┆ ---           ┆ ---         │\n",
       "│ str   ┆ i64  ┆ str          ┆ str               ┆   ┆ i64          ┆ ---               ┆ i32           ┆ str         │\n",
       "│       ┆      ┆              ┆                   ┆   ┆              ┆ datetime[μs]      ┆               ┆             │\n",
       "╞═══════╪══════╪══════════════╪═══════════════════╪═══╪══════════════╪═══════════════════╪═══════════════╪═════════════╡\n",
       "│ Jan   ┆ 2022 ┆ The First 48 ┆ AEN               ┆ … ┆ 1            ┆ 2022-01-27        ┆ 2022          ┆ Legacy      │\n",
       "│       ┆      ┆              ┆                   ┆   ┆              ┆ 00:00:00          ┆               ┆             │\n",
       "│ Jan   ┆ 2022 ┆ Castle       ┆ LIFE              ┆ … ┆ 1            ┆ 2022-01-18        ┆ 2022          ┆ Unknown     │\n",
       "│       ┆      ┆              ┆                   ┆   ┆              ┆ 00:00:00          ┆               ┆             │\n",
       "│ Jan   ┆ 2022 ┆ Castle       ┆ LIFE              ┆ … ┆ 1            ┆ 2022-01-17        ┆ 2022          ┆ Unknown     │\n",
       "│       ┆      ┆              ┆                   ┆   ┆              ┆ 00:00:00          ┆               ┆             │\n",
       "│ Jan   ┆ 2022 ┆ Castle       ┆ LIFE              ┆ … ┆ 1            ┆ 2022-01-17        ┆ 2022          ┆ Unknown     │\n",
       "│       ┆      ┆              ┆                   ┆   ┆              ┆ 00:00:00          ┆               ┆             │\n",
       "│ Jan   ┆ 2022 ┆ Castle       ┆ LIFE              ┆ … ┆ 1            ┆ 2022-01-31        ┆ 2022          ┆ Unknown     │\n",
       "│       ┆      ┆              ┆                   ┆   ┆              ┆ 00:00:00          ┆               ┆             │\n",
       "└───────┴──────┴──────────────┴───────────────────┴───┴──────────────┴───────────────────┴───────────────┴─────────────┘"
      ]
     },
     "execution_count": 33,
     "metadata": {},
     "output_type": "execute_result"
    }
   ],
   "source": [
    "irrel_cols = ['Program - Status','Partner - Episode','Partner - Program','Partner - Data Type','Program - TMS ID','Program - Series ID',\n",
    "              'Program - Series Code','Program - PAC Title','Program - PAC ID','Program - ID','Program ID Key','Series ID',\n",
    "              'Program - Is Special','Program - Type','Program - Premiere Network Code','Program - Broadcast Length SSSSS']\n",
    "\n",
    "df = df.drop(irrel_cols)\n",
    "\n",
    "df.head()"
   ]
  },
  {
   "cell_type": "markdown",
   "id": "3a6d811a-4de7-4ad4-a004-646c3e8a1306",
   "metadata": {},
   "source": [
    "### Per Babak's suggestion do clustering which will allow us to fill in a lot of nulls based on which cluster a null record belongs to"
   ]
  },
  {
   "cell_type": "code",
   "execution_count": 34,
   "id": "7c726e3c-0a72-40fa-98b0-5db30e37f6da",
   "metadata": {},
   "outputs": [],
   "source": [
    "df = df.with_columns(pl.col(\"program_current_premiere_date\").dt.epoch(time_unit=\"s\").alias(\"program_current_premiere_date\")) #convert datetime to seconds for ease of modeling\n",
    "#df = df_with_epoch.with_columns( pl.from_epoch(\"program_current_premiere_date\", time_unit=\"s\").alias(\"program_current_premiere_date\") ) #how to convert from epoch seconds back to datetime"
   ]
  },
  {
   "cell_type": "code",
   "execution_count": 54,
   "id": "4b535b29-2ab6-4d55-a775-06356272273b",
   "metadata": {},
   "outputs": [],
   "source": [
    "import polars as pl\n",
    "from sklearn.cluster import KMeans\n",
    "from sklearn.impute import SimpleImputer\n",
    "from sklearn.preprocessing import StandardScaler, OneHotEncoder\n",
    "from sklearn.compose import ColumnTransformer\n",
    "from sklearn.pipeline import Pipeline\n",
    "import seaborn as sns\n",
    "from kneed import KneeLocator"
   ]
  },
  {
   "cell_type": "code",
   "execution_count": 40,
   "id": "624e9a9c-2d6e-4291-ba09-1d199e043b8a",
   "metadata": {},
   "outputs": [
    {
     "data": {
      "text/plain": [
       "['Year',\n",
       " 'Partner - Episode Duration',\n",
       " 'Program - Broadcast Length',\n",
       " 'Exposures',\n",
       " 'Minutes Viewed',\n",
       " 'Program - Episode Number',\n",
       " 'Program - External Air Order',\n",
       " 'Program - External Season',\n",
       " 'Program - Production Year',\n",
       " 'NO.of Scheduled Minutes',\n",
       " 'NO.of Telecasts',\n",
       " 'Distinct Episode',\n",
       " '# of Episode',\n",
       " 'program_current_premiere_date',\n",
       " 'premiere_year']"
      ]
     },
     "execution_count": 40,
     "metadata": {},
     "output_type": "execute_result"
    }
   ],
   "source": [
    "# Select numeric columns\n",
    "numeric_columns = df.select(pl.exclude(pl.String)).columns\n",
    "numeric_columns"
   ]
  },
  {
   "cell_type": "code",
   "execution_count": 42,
   "id": "300a99b7-0b79-4b4f-bd3d-6a323747cb97",
   "metadata": {},
   "outputs": [
    {
     "data": {
      "text/plain": [
       "['Month',\n",
       " 'Program',\n",
       " 'Program - Network',\n",
       " 'Episode',\n",
       " 'Partner - Network',\n",
       " 'Partner - Name',\n",
       " 'Partner - Platform',\n",
       " 'Partner - Device',\n",
       " 'Partner - Demo',\n",
       " 'Program - Air Title',\n",
       " 'Program - Budget Line',\n",
       " 'Program - Category',\n",
       " 'Program - Genre Name',\n",
       " 'Program - Mega Genre',\n",
       " 'Program - Network Name',\n",
       " 'Program - Series Name',\n",
       " 'Program - Long Form/Short Form',\n",
       " 'Program - Sub Category',\n",
       " 'Program - Supplier',\n",
       " 'Year and Month',\n",
       " 'Program Sub-Type',\n",
       " 'Series Type']"
      ]
     },
     "execution_count": 42,
     "metadata": {},
     "output_type": "execute_result"
    }
   ],
   "source": [
    "categorical_columns  = df.select(pl.col(pl.String)).columns\n",
    "categorical_columns"
   ]
  },
  {
   "cell_type": "code",
   "execution_count": 51,
   "id": "a77300d2-1dbd-4a90-8750-2ba1cb132d88",
   "metadata": {},
   "outputs": [],
   "source": [
    "#  pipelines for numeric and categorical data\n",
    "numeric_transformer = Pipeline(steps=[\n",
    "    ('imputer', SimpleImputer(strategy='median')),\n",
    "    ('scaler', StandardScaler())\n",
    "])\n",
    "\n",
    "categorical_transformer = Pipeline(steps=[\n",
    "    ('imputer', SimpleImputer(strategy='constant', fill_value='missing')),\n",
    "    ('onehot', OneHotEncoder(handle_unknown='ignore'))\n",
    "])\n",
    "\n",
    "# combine preprocessing steps\n",
    "preprocessor = ColumnTransformer(\n",
    "    transformers=[\n",
    "        ('num', numeric_transformer, numeric_columns),\n",
    "        ('cat', categorical_transformer, categorical_columns)\n",
    "    ])\n",
    "\n",
    "# fit preprocessor and transform data\n",
    "X_preprocessed = preprocessor.fit_transform(df)"
   ]
  },
  {
   "cell_type": "code",
   "execution_count": 58,
   "id": "3cda0592-fe04-43d3-b3e5-c2a3ac065f2e",
   "metadata": {},
   "outputs": [
    {
     "data": {
      "text/plain": [
       "np.int64(9)"
      ]
     },
     "execution_count": 58,
     "metadata": {},
     "output_type": "execute_result"
    }
   ],
   "source": [
    "# get best num of clusters using elbow method\n",
    "inertia = []\n",
    "k_range = range(1, 21)\n",
    "\n",
    "for k in k_range:\n",
    "    print(k)\n",
    "    kmeans = KMeans(n_clusters=k, random_state=42)\n",
    "    kmeans.fit(X_preprocessed)\n",
    "    inertia.append(kmeans.inertia_)\n",
    "\n",
    "# KneeLocator to find the elbow point\n",
    "kl = KneeLocator(k_range, inertia, curve=\"convex\", direction=\"decreasing\")\n",
    "elbow_point = kl.elbow\n",
    "\n",
    "elbow_point #9 is best"
   ]
  },
  {
   "cell_type": "code",
   "execution_count": 62,
   "id": "51ece1fe-ec88-485e-8ea8-0e289fb799f1",
   "metadata": {},
   "outputs": [
    {
     "data": {
      "text/plain": [
       "<Axes: >"
      ]
     },
     "execution_count": 62,
     "metadata": {},
     "output_type": "execute_result"
    },
    {
     "data": {
      "image/png": "[encoded data removed]",
      "text/plain": [
       "<Figure size 640x480 with 1 Axes>"
      ]
     },
     "metadata": {},
     "output_type": "display_data"
    }
   ],
   "source": [
    "sns.lineplot(x=k_range, y=inertia, marker='o')"
   ]
  },
  {
   "cell_type": "code",
   "execution_count": 74,
   "id": "06573b86-9002-4a5c-9a99-c717428d8d9c",
   "metadata": {},
   "outputs": [],
   "source": [
    "# clustering \n",
    "optimal_kmeans = KMeans(n_clusters=int(elbow_point), random_state=42)\n",
    "cluster_labels = optimal_kmeans.fit_predict(X_preprocessed)\n",
    "\n",
    "df = df.with_columns(pl.Series('Cluster', cluster_labels))"
   ]
  },
  {
   "cell_type": "code",
   "execution_count": 70,
   "id": "b8718b10-ba39-4ac5-8a8b-8ceb6a7a3bec",
   "metadata": {},
   "outputs": [
    {
     "data": {
      "text/plain": [
       "array([8, 8, 5, ..., 2, 2, 2], dtype=int32)"
      ]
     },
     "execution_count": 70,
     "metadata": {},
     "output_type": "execute_result"
    }
   ],
   "source": [
    "def fill_nulls_by_cluster(df, column):\n",
    "\n",
    "    cluster_modes = df.groupby('Cluster')[column].mode().to_dict() # get mode for each cluster\n",
    "    \n",
    "    # Fill nulls\n",
    "    return df[column].fill_null(df['Cluster'].map_dict(cluster_modes))\n",
    "\n",
    "# Apply null filling to all columns\n",
    "for column in df.columns:\n",
    "    if df[column].null_count() > 0:\n",
    "        df = df.with_columns(fill_nulls_by_cluster(df, column).alias(column))"
   ]
  },
  {
   "cell_type": "code",
   "execution_count": null,
   "id": "1e00bc24-fe67-4469-9bfa-f6b96f3d5a0d",
   "metadata": {},
   "outputs": [],
   "source": []
  },
  {
   "cell_type": "code",
   "execution_count": null,
   "id": "23ab006a-68c7-4b00-8ed0-2de4c46baa0a",
   "metadata": {},
   "outputs": [],
   "source": []
  },
  {
   "cell_type": "code",
   "execution_count": null,
   "id": "532d63f5-bdcb-4959-9b9f-ce36125cc8b9",
   "metadata": {},
   "outputs": [],
   "source": []
  },
  {
   "cell_type": "code",
   "execution_count": null,
   "id": "21be2308-69bf-4cfb-8083-6887f0efa336",
   "metadata": {},
   "outputs": [],
   "source": []
  },
  {
   "cell_type": "code",
   "execution_count": null,
   "id": "e6b66e2e-743c-416a-8a32-7d4f286c12d5",
   "metadata": {},
   "outputs": [],
   "source": []
  },
  {
   "cell_type": "code",
   "execution_count": null,
   "id": "c9cf8369-22d5-446b-bfb5-9ec57315b68d",
   "metadata": {},
   "outputs": [],
   "source": []
  },
  {
   "cell_type": "code",
   "execution_count": null,
   "id": "9381484c-1caf-4880-9af6-0ca3dc807667",
   "metadata": {},
   "outputs": [],
   "source": []
  },
  {
   "cell_type": "code",
   "execution_count": null,
   "id": "0962a522-043d-4263-841e-1af115f6ea3b",
   "metadata": {},
   "outputs": [],
   "source": []
  },
  {
   "cell_type": "code",
   "execution_count": null,
   "id": "4306f18b-c409-4952-b6b2-ec0d4fa11226",
   "metadata": {},
   "outputs": [],
   "source": []
  },
  {
   "cell_type": "code",
   "execution_count": null,
   "id": "2d32188e-9778-46a2-b021-a678caca7a2c",
   "metadata": {},
   "outputs": [],
   "source": []
  },
  {
   "cell_type": "markdown",
   "id": "91d08d3b-36f1-438a-bf37-3916242a4583",
   "metadata": {},
   "source": [
    "### #Filling NAs with \"Unknown\" and 0 for purposes of grouping. \n",
    "Beforehand, the grouping was removing Linear variables because they had missing values in one category"
   ]
  },
  {
   "cell_type": "code",
   "execution_count": null,
   "id": "141283c8-54e7-47c1-9f3e-0974c55c9da3",
   "metadata": {
    "scrolled": true
   },
   "outputs": [],
   "source": [
    "for col, dtype in zip(df.columns, df.dtypes):\n",
    "    print(col, '--', dtype)"
   ]
  },
  {
   "cell_type": "code",
   "execution_count": null,
   "id": "9d6be58a-c3f6-4c61-82f0-22e90bb81c69",
   "metadata": {},
   "outputs": [],
   "source": [
    "# Fill NaN with 'Unknown' for categorical/object columns\n",
    "df_filled_str = df.select(pl.col(pl.String).fill_null('Unknown'))\n",
    "df_filled_int32 = df.select(pl.col(pl.Int32).fill_null(0))\n",
    "df_filled_int64 = df.select(pl.col(pl.Int64).fill_null(0))\n",
    "df_filled_float = df.select(pl.col(pl.Float64).fill_null(0.0))\n",
    "df_filled_other = df.select( pl.exclude([pl.Int64, pl.Float64, pl.Int32, pl.String]) )\n",
    "df_filled = pl.concat([df_filled_str, df_filled_int32, df_filled_int64, df_filled_float, df_filled_other], how=\"horizontal\")\n",
    "\n",
    "print(df.shape, df_filled.shape)\n",
    "df_filled.head()"
   ]
  },
  {
   "cell_type": "code",
   "execution_count": null,
   "id": "33e63659-61f7-4dc1-8bba-11c1f65c542c",
   "metadata": {
    "scrolled": true
   },
   "outputs": [],
   "source": [
    "df_filled.null_count()"
   ]
  },
  {
   "cell_type": "code",
   "execution_count": null,
   "id": "716c59a2-00cf-4261-88a8-757f59f9358c",
   "metadata": {},
   "outputs": [],
   "source": [
    "#Drop columns relevant to the episode\n",
    "df_filled = df_filled.drop(['Program - Episode Number','Program - External Air Order','Episode','# of Episode','Distinct Episode',\n",
    "                      'Year and Month','Month','Partner - Episode','Program - Air Title','Program - Budget Line'])\n"
   ]
  },
  {
   "cell_type": "code",
   "execution_count": null,
   "id": "8d6905d0-4959-4b61-b806-46873627f8d7",
   "metadata": {
    "scrolled": true
   },
   "outputs": [],
   "source": [
    "#pretty low unkown numbers among the categorical columns\n",
    "categorical_columns = df_filled.select(pl.col(pl.String)).columns\n",
    "\n",
    "counts = {}\n",
    "for col in categorical_columns:\n",
    "    unk = len( df_filled.filter(pl.col(col) == 'Unknown') )\n",
    "    perc = (unk/len(df_filled)) * 100\n",
    "    counts[col] = round(perc, 4)\n",
    "\n",
    "counts"
   ]
  },
  {
   "cell_type": "code",
   "execution_count": null,
   "id": "7dda87fe-b680-467c-9d3d-d0ff0d4ef5a0",
   "metadata": {},
   "outputs": [],
   "source": [
    "#looks like  'Program - Franchise' has 34% unknown. let's toss it"
   ]
  },
  {
   "cell_type": "code",
   "execution_count": null,
   "id": "2a5b0699-5715-4217-839c-0df35fa29294",
   "metadata": {},
   "outputs": [],
   "source": [
    "agg_cols = ['Program', 'Program - Network', 'Partner - Network', 'Partner - Program', \n",
    "             'Partner - Name', 'Partner - Platform', 'Partner - Device', 'Partner - Demo',\n",
    "             'Program - Category', 'Program - Franchise', 'Program - Genre Name', \n",
    "             'Program - Mega Genre', 'Program - Network Name', 'Program - PAC Title', \n",
    "             'Program - Premiere Network Code', 'Program - Status', 'Program - Series Code', \n",
    "             'Program - Series Name', 'Program - Long Form/Short Form', 'Program - Sub Category',\n",
    "             'Program - Supplier', 'Program - TMS ID', 'Partner - Data Type', 'Program Sub-Type',\n",
    "             'Series Type', 'premiere_year','Year','Series ID','Program ID Key',\n",
    "             'Program - External Season','Program - PAC ID','Program - Production Year',\n",
    "             'Program - ID', 'Program - Series ID']\n",
    "\n",
    "aggregated_seasons = df_filled.group_by(agg_cols).agg(\n",
    "    pl.col('Partner - Episode Duration').sum().alias(\"sum - Episode Duration\"),\n",
    "    pl.col('Program - Broadcast Length').sum().alias(\"sum - Program - Broadcast Length\"),\n",
    "    pl.col('Program - Broadcast Length SSSSS').sum().alias(\"sum - Program - Broadcast Length SSSSS\"),\n",
    "    pl.col('Exposures').sum().alias(\"sum - Exposures\"),\n",
    "    pl.col('Minutes Viewed').sum().alias(\"sum - Minutes Viewed\"),\n",
    "    pl.col('NO.of Scheduled Minutes').sum().alias(\"sum - NO.of Scheduled Minutes\"),\n",
    "    pl.col('NO.of Telecasts').sum().alias(\"sum - NO.of Telecasts\"),\n",
    ")\n",
    "aggregated_seasons"
   ]
  }
 ],
 "metadata": {
  "kernelspec": {
   "display_name": "Python 3 (ipykernel)",
   "language": "python",
   "name": "python3"
  },
  "language_info": {
   "codemirror_mode": {
    "name": "ipython",
    "version": 3
   },
   "file_extension": ".py",
   "mimetype": "text/x-python",
   "name": "python",
   "nbconvert_exporter": "python",
   "pygments_lexer": "ipython3",
   "version": "3.11.9"
  }
 },
 "nbformat": 4,
 "nbformat_minor": 5
}
