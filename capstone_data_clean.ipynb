{
 "cells": [
  {
   "cell_type": "markdown",
   "id": "2f58efbc-a64b-4c22-a119-e5cb7826a60e",
   "metadata": {
    "jp-MarkdownHeadingCollapsed": true
   },
   "source": [
    "# Info"
   ]
  },
  {
   "cell_type": "markdown",
   "id": "24c51e58-9894-4dfc-bcb2-142f973bf7ac",
   "metadata": {},
   "source": [
    "### Prepare for Data Wrangling: Notes from Sponsor\n",
    "\n",
    "#### Show Types to focus on: \n",
    "1. Legacy Series In-Premiere: Defined as a series with more than two season available. The new season is only available on 1st/2nd window platforms, but the library is available on 1st/2nd/3rd window platforms.\n",
    "2. New Series In-Premiere: Defined as a series with less than two seasons. Generally, they are only available on 1st/2nd window platforms. If in its 2nd season, there could be a season one available on 1st/2nd/3rd window platforms, but I can’t think of any that happened like that in FY22/FY23 (aka the data you will be working with).\n",
    "\n",
    "#### Show Types to exclude:\n",
    "1. Movies/Specials\n",
    "2. Non-Returning/Cancelled series (ie Dog the Bounty Hunter, and even Dance Moms eventhoug they are trying to revive that this year)\n",
    "\n",
    "\n",
    "#### Ad-Sales Platforms to focus on:\n",
    "1. Live +7: This drives about 90% of the total Ad-Sales P2+ mins (this data is generally complete b/c it comes from Nielsen)\n",
    "2. Non-Linear: These top partners drive 80%-90% of the Ad-Sales Non-Linear P2+ Mins. Would try to ensure that the data here is complete and makes sense. I recently had to pull Ad-sales non-linear data for a presentation and attached was my data pull. Thought this would be helpful so you can see the scale of all the platforms at a high level.\n",
    "    a. On Demand:\n",
    "        (1) O&O\n",
    "        (2) vMVPD Hulu Live: HUGE NOTE: Will explain more in person, but we have licensed a large amount of our library content to Hulu SVOD, therefore that inventory does not live on Hulu Live for ad-sales to monetize. (i.e. all Alone library lives on Hulu SVOD, and only the new Alone season is available on Hulu Live each year).\n",
    "        (3) vMVPD Philo\n",
    "        (4) vMVPD SlingTV\n",
    "        (5) STB VOD4+ Comcast\n",
    "    b. FAST: Samsung\n",
    "    \n",
    "#### Primary Levers to focus: \n",
    "\n",
    "1. Paid Media - Sent by Cristina\n",
    "2. Organic Social Media (A+E under impression that Hoya 2 will retrieve this)\n",
    "3. Partner Earned Media (Still pending with A+E)\n",
    "4. O&O IFW Content - Sent by Cristina\n",
    "5. 3rd Windowing Platforms (FAST/SVOD/AVOD) - Available via CP Data\n",
    "\n",
    "\n",
    "##### Focusing on New / Returning Shows\n"
   ]
  },
  {
   "cell_type": "markdown",
   "id": "845087c8-b965-441f-8483-d55b24fadc96",
   "metadata": {},
   "source": [
    "### columns\n",
    "\n",
    "### Program Information\n",
    "\n",
    "1. **Program**: The title of the program or episode aired.\n",
    "1. **Episode**: The specific episode of the program, often including a number or unique identifier.\n",
    "1. **Program - Air Title**: The title of the program as it appeared when aired, which may differ slightly from the official title.\n",
    "1. **Program - Series Name**: The name of the series to which the program belongs.\n",
    "1. **Program - Type**: Indicates the type of programming, such as series, movie, or special event.\n",
    "1. **Program - Category**: Broad classification of the program, such as drama, reality, or documentary.\n",
    "1. **Program - Sub Category**: A more specific categorization within the main category.\n",
    "1. **Program - Genre Name**: The specific genre of the program, providing more detail than the category.\n",
    "1. **Program - Mega Genre**: A broader category that encompasses multiple genres.\n",
    "1. **Program - Long Form/Short Form**: Indicates whether the program is a long-form (typically over 30 minutes) or short-form production.\n",
    "\n",
    "### Broadcast Details\n",
    "\n",
    "1. **Month** and **Year**: The month and year when the program aired.\n",
    "1. **Program - Network**: The network that broadcast the program.\n",
    "1. **Program - Network Name**: The full, official name of the broadcasting network.\n",
    "1. **Program - Broadcast Length**: The duration of the broadcast in seconds.\n",
    "1. **Program - Broadcast Length SSSSS**: The broadcast length in HH:MM:SS format.\n",
    "1. **Program - Premiere Network Code**: A code indicating the network where the program first premiered.\n",
    "1. **Program - Production Year**: The year in which the program was produced.\n",
    "1. **program_current_premiere_date**: The most recent premiere date of the program.\n",
    "1. **premiere_year**: The year when the episode or series first premiered.\n",
    "\n",
    "### Episode and Series Information\n",
    "\n",
    "1. **Program - Episode Number**: The episode's number within its series.\n",
    "1. **Program - External Air Order**: The order in which the episode aired, which may differ from its production order.\n",
    "1. **Program - External Season**: The season number of the program as listed in external sources.\n",
    "1. **Program - Is Special**: Indicates whether the episode is a special presentation (0 for no, 1 for yes).\n",
    "1. **Series Type**: Classifies the series as scripted, unscripted, or other types.\n",
    "1. **Program Sub-Type**: Further classification of the program, such as mini-series or documentary.\n",
    "\n",
    "### Identification and Tracking\n",
    "\n",
    "1. **Series ID**: A unique identifier for the series.\n",
    "1. **Program ID Key**: A unique key assigned to the specific program.\n",
    "1. **Program - ID**: Another unique identifier for the program.\n",
    "1. **Program - PAC ID**: An ID assigned by the Program Allocation Committee (PAC).\n",
    "1. **Program - PAC Title**: The title of the program as recorded by the PAC.\n",
    "1. **Program - Series Code**: A code representing the series.\n",
    "1. **Program - Series ID**: Another identifier corresponding to the series.\n",
    "1. **Program - TMS ID**: A unique identifier from the TMS (Tribune Media Services) database.\n",
    "\n",
    "### Viewership and Performance\n",
    "\n",
    "1. **Exposures**: The number of times the program was viewed by audiences.\n",
    "1. **Minutes Viewed**: The total number of minutes viewed by all audiences for this program.\n",
    "1. **NO.of Scheduled Minutes**: The total number of minutes the program was scheduled to air.\n",
    "1. **NO.of Telecasts**: The number of times the program was broadcast.\n",
    "1. **Distinct Episode**: Indicates whether this is a unique episode (usually 1 for yes). This kind of classification is useful in media and broadcasting analytics to differentiate between original episodes and reruns or syndicated content.\n",
    "1. **# of Episode**: A count or identifier for the episode within the dataset.\n",
    "\n",
    "### Partner Information\n",
    "\n",
    "1. **Partner - Network**: The network of the partner associated with this program.\n",
    "1. **Partner - Episode**: The title of the episode as listed by the partner network.\n",
    "1. **Partner - Program**: The program title as listed by the partner network.\n",
    "1. **Partner - Episode Duration**: The duration of the episode according to the partner.\n",
    "1. **Partner - Name**: The name of the partner network or platform.\n",
    "1. **Partner - Platform**: The distribution platform used by the partner (e.g., cable, streaming).\n",
    "1. **Partner - Device**: The type of device used for viewing (e.g., TV, mobile, desktop).\n",
    "1. **Partner - Demo**: The target demographic for the program.\n",
    "1. **Partner - Data Type**: The type of data reported by the partner.\n",
    "\n",
    "### Production and Business Information\n",
    "\n",
    "1. **Program - Budget Line**: The budget allocation or category for the program.\n",
    "1. **Program - Status**: The current status of the program (e.g., in production, completed, cancelled).\n",
    "1. **Program - Supplier**: The company or entity that supplied the content.\n",
    "1. **Year and Month**: A combined field showing both the year and month of airing.\n"
   ]
  },
  {
   "cell_type": "markdown",
   "id": "15733220-3aad-4c4b-ae5f-07d9e712c827",
   "metadata": {},
   "source": [
    "# Cleaning 1\n",
    "focusing on data sponsor indicated"
   ]
  },
  {
   "cell_type": "code",
   "execution_count": 1,
   "id": "d21d0a3f-7035-458a-b338-7b72fa2b5be4",
   "metadata": {
    "scrolled": true
   },
   "outputs": [
    {
     "name": "stdout",
     "output_type": "stream",
     "text": [
      "(12294267, 54)\n"
     ]
    },
    {
     "data": {
      "text/html": [
       "<div><style>\n",
       ".dataframe > thead > tr,\n",
       ".dataframe > tbody > tr {\n",
       "  text-align: right;\n",
       "  white-space: pre-wrap;\n",
       "}\n",
       "</style>\n",
       "<small>shape: (5, 54)</small><table border=\"1\" class=\"dataframe\"><thead><tr><th>Month</th><th>Year</th><th>Program</th><th>Program - Network</th><th>Episode</th><th>Partner - Network</th><th>Series ID</th><th>Program ID Key</th><th>Partner - Episode</th><th>Partner - Program</th><th>Partner - Episode Duration</th><th>Partner - Name</th><th>Partner - Platform</th><th>Partner - Device</th><th>Partner - Demo</th><th>Partner - Rating Source</th><th>Partner - Viewer Code</th><th>Program - Broadcast Length</th><th>Program - Broadcast Length SSSSS</th><th>Exposures</th><th>Minutes Viewed</th><th>Program - Current Premiere Date</th><th>Program - Air Title</th><th>Program - Budget Line</th><th>Program - Category</th><th>Program - Episode Number</th><th>Program - External Air Order</th><th>Program - External Season</th><th>Program - Franchise</th><th>Program - Genre Name</th><th>Program - Is Special</th><th>Program - Mega Genre</th><th>Program - Network Name</th><th>Program - PAC ID</th><th>Program - PAC Title</th><th>Program - Premiere Network Code</th><th>Program - Production Year</th><th>Program - Type</th><th>Program - ID</th><th>Program - Status</th><th>Program - Series Code</th><th>Program - Series ID</th><th>Program - Series Name</th><th>Program - Long Form/Short Form</th><th>Program - Sub Category</th><th>Program - Supplier</th><th>Program - TMS ID</th><th>Year and Month</th><th>Partner - Data Type</th><th>Program Sub-Type</th><th>NO.of Scheduled Minutes</th><th>NO.of Telecasts</th><th>Distinct Episode</th><th># of Episode</th></tr><tr><td>str</td><td>i64</td><td>str</td><td>str</td><td>str</td><td>str</td><td>f64</td><td>i64</td><td>str</td><td>str</td><td>i64</td><td>str</td><td>str</td><td>str</td><td>str</td><td>str</td><td>str</td><td>i64</td><td>i64</td><td>f64</td><td>f64</td><td>str</td><td>str</td><td>str</td><td>str</td><td>f64</td><td>f64</td><td>f64</td><td>str</td><td>str</td><td>f64</td><td>str</td><td>str</td><td>f64</td><td>str</td><td>str</td><td>f64</td><td>str</td><td>f64</td><td>str</td><td>str</td><td>f64</td><td>str</td><td>str</td><td>str</td><td>str</td><td>str</td><td>str</td><td>str</td><td>str</td><td>i64</td><td>i64</td><td>i64</td><td>i64</td></tr></thead><tbody><tr><td>&quot;Jan&quot;</td><td>2022</td><td>&quot;Sell This House!&quot;</td><td>&quot;FYI&quot;</td><td>&quot;nightmare on windsong trail (#…</td><td>&quot;HMN&quot;</td><td>191</td><td>236912</td><td>&quot;Nightmare on Windsong Trail&quot;</td><td>&quot;&quot;Sell This House!&quot;&quot;</td><td>1800</td><td>&quot;Wurl Vizio&quot;</td><td>&quot;Fast Channels&quot;</td><td>&quot;CTV&quot;</td><td>&quot;P2+&quot;</td><td>null</td><td>null</td><td>30</td><td>1800</td><td>514</td><td>12483.325631723</td><td>&quot;2020-06-01&quot;</td><td>&quot;Nightmare on Windsong Trail (#…</td><td>&quot;Sell This House&quot;</td><td>&quot;REAL LIFE&quot;</td><td>4</td><td>204</td><td>16</td><td>&quot;SELL THIS HOUSE&quot;</td><td>&quot;Reality TV&quot;</td><td>0</td><td>&quot;LIFESTYLE&quot;</td><td>&quot;FYI&quot;</td><td>36481</td><td>&quot;Sell This House 2019&quot;</td><td>&quot;FYI&quot;</td><td>2020</td><td>&quot;Series&quot;</td><td>236912</td><td>&quot;Executed&quot;</td><td>&quot;SELL&quot;</td><td>191</td><td>&quot;Sell This House!&quot;</td><td>&quot;Long Form&quot;</td><td>&quot;HOME&quot;</td><td>&quot;Six West Originals LLC&quot;</td><td>&quot;EP005867900219&quot;</td><td>&quot;2022/01&quot;</td><td>&quot;VIEW_DATA&quot;</td><td>&quot;Unscripted&quot;</td><td>116</td><td>4</td><td>1</td><td>1</td></tr><tr><td>&quot;Feb&quot;</td><td>2022</td><td>&quot;Mountain Men&quot;</td><td>&quot;HIST&quot;</td><td>&quot;lost&quot;</td><td>&quot;XT Outdoor&quot;</td><td>2368</td><td>77850</td><td>&quot;Lost&quot;</td><td>&quot;Mountain Men&quot;</td><td>3600</td><td>&quot;Wurl Plex&quot;</td><td>&quot;Fast Channels&quot;</td><td>&quot;CTV&quot;</td><td>&quot;P2+&quot;</td><td>null</td><td>null</td><td>60</td><td>3600</td><td>629.6</td><td>22839.763777248</td><td>&quot;2012-06-14&quot;</td><td>&quot;Lost&quot;</td><td>&quot;Mountain Men&quot;</td><td>&quot;SKILLS &amp; THRILLS&quot;</td><td>3</td><td>3</td><td>1</td><td>&quot;MOUNTAIN MEN&quot;</td><td>&quot;Documentary&quot;</td><td>0</td><td>&quot;ORIGINAL CHARACTER&quot;</td><td>&quot;The History Channel&quot;</td><td>19945</td><td>&quot;Mountain Men&quot;</td><td>&quot;THC&quot;</td><td>2012</td><td>&quot;Series&quot;</td><td>77850</td><td>&quot;Executed&quot;</td><td>&quot;MMEN&quot;</td><td>2368</td><td>&quot;Mountain Men&quot;</td><td>&quot;Long Form&quot;</td><td>&quot;SURVIVAL&quot;</td><td>&quot;Warm Springs Productions&quot;</td><td>&quot;EP015556560003&quot;</td><td>&quot;2022/02&quot;</td><td>&quot;VIEW_DATA&quot;</td><td>&quot;Unscripted&quot;</td><td>204</td><td>4</td><td>1</td><td>1</td></tr><tr><td>&quot;Feb&quot;</td><td>2022</td><td>&quot;Mountain Men&quot;</td><td>&quot;HIST&quot;</td><td>&quot;lost&quot;</td><td>&quot;XT Outdoor&quot;</td><td>2368</td><td>77850</td><td>&quot;Lost&quot;</td><td>&quot;Mountain Men&quot;</td><td>3600</td><td>&quot;Wurl Plex&quot;</td><td>&quot;Fast Channels&quot;</td><td>&quot;Desktop&quot;</td><td>&quot;P2+&quot;</td><td>null</td><td>null</td><td>60</td><td>3600</td><td>78.7</td><td>2187.105519003</td><td>&quot;2012-06-14&quot;</td><td>&quot;Lost&quot;</td><td>&quot;Mountain Men&quot;</td><td>&quot;SKILLS &amp; THRILLS&quot;</td><td>3</td><td>3</td><td>1</td><td>&quot;MOUNTAIN MEN&quot;</td><td>&quot;Documentary&quot;</td><td>0</td><td>&quot;ORIGINAL CHARACTER&quot;</td><td>&quot;The History Channel&quot;</td><td>19945</td><td>&quot;Mountain Men&quot;</td><td>&quot;THC&quot;</td><td>2012</td><td>&quot;Series&quot;</td><td>77850</td><td>&quot;Executed&quot;</td><td>&quot;MMEN&quot;</td><td>2368</td><td>&quot;Mountain Men&quot;</td><td>&quot;Long Form&quot;</td><td>&quot;SURVIVAL&quot;</td><td>&quot;Warm Springs Productions&quot;</td><td>&quot;EP015556560003&quot;</td><td>&quot;2022/02&quot;</td><td>&quot;VIEW_DATA&quot;</td><td>&quot;Unscripted&quot;</td><td>204</td><td>4</td><td>1</td><td>1</td></tr><tr><td>&quot;Feb&quot;</td><td>2022</td><td>&quot;Mountain Men&quot;</td><td>&quot;HIST&quot;</td><td>&quot;lost&quot;</td><td>&quot;XT Outdoor&quot;</td><td>2368</td><td>77850</td><td>&quot;Lost&quot;</td><td>&quot;Mountain Men&quot;</td><td>3600</td><td>&quot;Wurl Plex&quot;</td><td>&quot;Fast Channels&quot;</td><td>&quot;Mobile&quot;</td><td>&quot;P2+&quot;</td><td>null</td><td>null</td><td>60</td><td>3600</td><td>78.7</td><td>2260.501575472</td><td>&quot;2012-06-14&quot;</td><td>&quot;Lost&quot;</td><td>&quot;Mountain Men&quot;</td><td>&quot;SKILLS &amp; THRILLS&quot;</td><td>3</td><td>3</td><td>1</td><td>&quot;MOUNTAIN MEN&quot;</td><td>&quot;Documentary&quot;</td><td>0</td><td>&quot;ORIGINAL CHARACTER&quot;</td><td>&quot;The History Channel&quot;</td><td>19945</td><td>&quot;Mountain Men&quot;</td><td>&quot;THC&quot;</td><td>2012</td><td>&quot;Series&quot;</td><td>77850</td><td>&quot;Executed&quot;</td><td>&quot;MMEN&quot;</td><td>2368</td><td>&quot;Mountain Men&quot;</td><td>&quot;Long Form&quot;</td><td>&quot;SURVIVAL&quot;</td><td>&quot;Warm Springs Productions&quot;</td><td>&quot;EP015556560003&quot;</td><td>&quot;2022/02&quot;</td><td>&quot;VIEW_DATA&quot;</td><td>&quot;Unscripted&quot;</td><td>204</td><td>4</td><td>1</td><td>1</td></tr><tr><td>&quot;Mar&quot;</td><td>2022</td><td>&quot;Tiny House Nation&quot;</td><td>&quot;FYI&quot;</td><td>&quot;460 sq ft long journey to tiny…</td><td>&quot;HMN&quot;</td><td>3990</td><td>171831</td><td>&quot;460 Sq Ft Long Journey To Tiny&quot;</td><td>&quot;Tiny House Nation&quot;</td><td>3600</td><td>&quot;Wurl Roku&quot;</td><td>&quot;Fast Channels&quot;</td><td>&quot;CTV&quot;</td><td>&quot;P2+&quot;</td><td>null</td><td>null</td><td>60</td><td>3600</td><td>5522</td><td>201114.676452963</td><td>&quot;2017-02-18&quot;</td><td>&quot;460 Sq Ft Long Journey To Tiny…</td><td>&quot;Tiny House Nation&quot;</td><td>&quot;REAL LIFE&quot;</td><td>7</td><td>63</td><td>4</td><td>&quot;TINY HOUSE HUNTING&quot;</td><td>&quot;Lifestyle&quot;</td><td>0</td><td>&quot;LIFESTYLE&quot;</td><td>&quot;FYI&quot;</td><td>27864</td><td>&quot;Tiny House Nation - Season 3&quot;</td><td>&quot;FYI&quot;</td><td>2015</td><td>&quot;Series&quot;</td><td>171831</td><td>&quot;Executed&quot;</td><td>&quot;THNA&quot;</td><td>3990</td><td>&quot;Tiny House Nation&quot;</td><td>&quot;Long Form&quot;</td><td>&quot;HOME&quot;</td><td>&quot;Loud Television LLC&quot;</td><td>&quot;EP019366820095&quot;</td><td>&quot;2022/03&quot;</td><td>&quot;VIEW_DATA&quot;</td><td>&quot;Unscripted&quot;</td><td>624</td><td>12</td><td>1</td><td>1</td></tr></tbody></table></div>"
      ],
      "text/plain": [
       "shape: (5, 54)\n",
       "┌───────┬──────┬────────────────────┬───────────┬───┬────────────────────┬───────────────────┬──────────┬──────────────┐\n",
       "│ Month ┆ Year ┆ Program            ┆ Program - ┆ … ┆ NO.of Scheduled    ┆ NO.of Telecasts   ┆ Distinct ┆ # of Episode │\n",
       "│ ---   ┆ ---  ┆ ---                ┆ Network   ┆   ┆ Minutes            ┆ ---               ┆ Episode  ┆ ---          │\n",
       "│ str   ┆ i64  ┆ str                ┆ ---       ┆   ┆ ---                ┆ i64               ┆ ---      ┆ i64          │\n",
       "│       ┆      ┆                    ┆ str       ┆   ┆ i64                ┆                   ┆ i64      ┆              │\n",
       "╞═══════╪══════╪════════════════════╪═══════════╪═══╪════════════════════╪═══════════════════╪══════════╪══════════════╡\n",
       "│ Jan   ┆ 2022 ┆ Sell This House!   ┆ FYI       ┆ … ┆ 116                ┆ 4                 ┆ 1        ┆ 1            │\n",
       "│ Feb   ┆ 2022 ┆ Mountain Men       ┆ HIST      ┆ … ┆ 204                ┆ 4                 ┆ 1        ┆ 1            │\n",
       "│ Feb   ┆ 2022 ┆ Mountain Men       ┆ HIST      ┆ … ┆ 204                ┆ 4                 ┆ 1        ┆ 1            │\n",
       "│ Feb   ┆ 2022 ┆ Mountain Men       ┆ HIST      ┆ … ┆ 204                ┆ 4                 ┆ 1        ┆ 1            │\n",
       "│ Mar   ┆ 2022 ┆ Tiny House Nation  ┆ FYI       ┆ … ┆ 624                ┆ 12                ┆ 1        ┆ 1            │\n",
       "└───────┴──────┴────────────────────┴───────────┴───┴────────────────────┴───────────────────┴──────────┴──────────────┘"
      ]
     },
     "execution_count": 1,
     "metadata": {},
     "output_type": "execute_result"
    }
   ],
   "source": [
    "import pandas as pd\n",
    "import numpy as np\n",
    "import os\n",
    "import polars as pl\n",
    "\n",
    "pl.Config.set_fmt_float(\"full\") #avoid displaying values in scientific notation\n",
    "\n",
    "df = pl.read_parquet('capstone_data.parquet')\n",
    "\n",
    "print(df.shape)\n",
    "df.head()"
   ]
  },
  {
   "cell_type": "code",
   "execution_count": 2,
   "id": "3180109e-50b5-4ff5-8f77-1c07663bc927",
   "metadata": {
    "scrolled": true
   },
   "outputs": [
    {
     "name": "stdout",
     "output_type": "stream",
     "text": [
      "(12294267, 55)\n"
     ]
    },
    {
     "data": {
      "text/html": [
       "<div><style>\n",
       ".dataframe > thead > tr,\n",
       ".dataframe > tbody > tr {\n",
       "  text-align: right;\n",
       "  white-space: pre-wrap;\n",
       "}\n",
       "</style>\n",
       "<small>shape: (5, 55)</small><table border=\"1\" class=\"dataframe\"><thead><tr><th>Month</th><th>Year</th><th>Program</th><th>Program - Network</th><th>Episode</th><th>Partner - Network</th><th>Series ID</th><th>Program ID Key</th><th>Partner - Episode</th><th>Partner - Program</th><th>Partner - Episode Duration</th><th>Partner - Name</th><th>Partner - Platform</th><th>Partner - Device</th><th>Partner - Demo</th><th>Partner - Rating Source</th><th>Partner - Viewer Code</th><th>Program - Broadcast Length</th><th>Program - Broadcast Length SSSSS</th><th>Exposures</th><th>Minutes Viewed</th><th>Program - Air Title</th><th>Program - Budget Line</th><th>Program - Category</th><th>Program - Episode Number</th><th>Program - External Air Order</th><th>Program - External Season</th><th>Program - Franchise</th><th>Program - Genre Name</th><th>Program - Is Special</th><th>Program - Mega Genre</th><th>Program - Network Name</th><th>Program - PAC ID</th><th>Program - PAC Title</th><th>Program - Premiere Network Code</th><th>Program - Production Year</th><th>Program - Type</th><th>Program - ID</th><th>Program - Status</th><th>Program - Series Code</th><th>Program - Series ID</th><th>Program - Series Name</th><th>Program - Long Form/Short Form</th><th>Program - Sub Category</th><th>Program - Supplier</th><th>Program - TMS ID</th><th>Year and Month</th><th>Partner - Data Type</th><th>Program Sub-Type</th><th>NO.of Scheduled Minutes</th><th>NO.of Telecasts</th><th>Distinct Episode</th><th># of Episode</th><th>program_current_premiere_date</th><th>premiere_year</th></tr><tr><td>str</td><td>i64</td><td>str</td><td>str</td><td>str</td><td>str</td><td>f64</td><td>i64</td><td>str</td><td>str</td><td>i64</td><td>str</td><td>str</td><td>str</td><td>str</td><td>str</td><td>str</td><td>i64</td><td>i64</td><td>f64</td><td>f64</td><td>str</td><td>str</td><td>str</td><td>f64</td><td>f64</td><td>f64</td><td>str</td><td>str</td><td>f64</td><td>str</td><td>str</td><td>f64</td><td>str</td><td>str</td><td>f64</td><td>str</td><td>f64</td><td>str</td><td>str</td><td>f64</td><td>str</td><td>str</td><td>str</td><td>str</td><td>str</td><td>str</td><td>str</td><td>str</td><td>i64</td><td>i64</td><td>i64</td><td>i64</td><td>datetime[μs]</td><td>i32</td></tr></thead><tbody><tr><td>&quot;Jan&quot;</td><td>2022</td><td>&quot;Sell This House!&quot;</td><td>&quot;FYI&quot;</td><td>&quot;nightmare on windsong trail (#…</td><td>&quot;HMN&quot;</td><td>191</td><td>236912</td><td>&quot;Nightmare on Windsong Trail&quot;</td><td>&quot;&quot;Sell This House!&quot;&quot;</td><td>1800</td><td>&quot;Wurl Vizio&quot;</td><td>&quot;Fast Channels&quot;</td><td>&quot;CTV&quot;</td><td>&quot;P2+&quot;</td><td>null</td><td>null</td><td>30</td><td>1800</td><td>514</td><td>12483.325631723</td><td>&quot;Nightmare on Windsong Trail (#…</td><td>&quot;Sell This House&quot;</td><td>&quot;REAL LIFE&quot;</td><td>4</td><td>204</td><td>16</td><td>&quot;SELL THIS HOUSE&quot;</td><td>&quot;Reality TV&quot;</td><td>0</td><td>&quot;LIFESTYLE&quot;</td><td>&quot;FYI&quot;</td><td>36481</td><td>&quot;Sell This House 2019&quot;</td><td>&quot;FYI&quot;</td><td>2020</td><td>&quot;Series&quot;</td><td>236912</td><td>&quot;Executed&quot;</td><td>&quot;SELL&quot;</td><td>191</td><td>&quot;Sell This House!&quot;</td><td>&quot;Long Form&quot;</td><td>&quot;HOME&quot;</td><td>&quot;Six West Originals LLC&quot;</td><td>&quot;EP005867900219&quot;</td><td>&quot;2022/01&quot;</td><td>&quot;VIEW_DATA&quot;</td><td>&quot;Unscripted&quot;</td><td>116</td><td>4</td><td>1</td><td>1</td><td>2020-06-01 00:00:00</td><td>2020</td></tr><tr><td>&quot;Feb&quot;</td><td>2022</td><td>&quot;Mountain Men&quot;</td><td>&quot;HIST&quot;</td><td>&quot;lost&quot;</td><td>&quot;XT Outdoor&quot;</td><td>2368</td><td>77850</td><td>&quot;Lost&quot;</td><td>&quot;Mountain Men&quot;</td><td>3600</td><td>&quot;Wurl Plex&quot;</td><td>&quot;Fast Channels&quot;</td><td>&quot;CTV&quot;</td><td>&quot;P2+&quot;</td><td>null</td><td>null</td><td>60</td><td>3600</td><td>629.6</td><td>22839.763777248</td><td>&quot;Lost&quot;</td><td>&quot;Mountain Men&quot;</td><td>&quot;SKILLS &amp; THRILLS&quot;</td><td>3</td><td>3</td><td>1</td><td>&quot;MOUNTAIN MEN&quot;</td><td>&quot;Documentary&quot;</td><td>0</td><td>&quot;ORIGINAL CHARACTER&quot;</td><td>&quot;The History Channel&quot;</td><td>19945</td><td>&quot;Mountain Men&quot;</td><td>&quot;THC&quot;</td><td>2012</td><td>&quot;Series&quot;</td><td>77850</td><td>&quot;Executed&quot;</td><td>&quot;MMEN&quot;</td><td>2368</td><td>&quot;Mountain Men&quot;</td><td>&quot;Long Form&quot;</td><td>&quot;SURVIVAL&quot;</td><td>&quot;Warm Springs Productions&quot;</td><td>&quot;EP015556560003&quot;</td><td>&quot;2022/02&quot;</td><td>&quot;VIEW_DATA&quot;</td><td>&quot;Unscripted&quot;</td><td>204</td><td>4</td><td>1</td><td>1</td><td>2012-06-14 00:00:00</td><td>2012</td></tr><tr><td>&quot;Feb&quot;</td><td>2022</td><td>&quot;Mountain Men&quot;</td><td>&quot;HIST&quot;</td><td>&quot;lost&quot;</td><td>&quot;XT Outdoor&quot;</td><td>2368</td><td>77850</td><td>&quot;Lost&quot;</td><td>&quot;Mountain Men&quot;</td><td>3600</td><td>&quot;Wurl Plex&quot;</td><td>&quot;Fast Channels&quot;</td><td>&quot;Desktop&quot;</td><td>&quot;P2+&quot;</td><td>null</td><td>null</td><td>60</td><td>3600</td><td>78.7</td><td>2187.105519003</td><td>&quot;Lost&quot;</td><td>&quot;Mountain Men&quot;</td><td>&quot;SKILLS &amp; THRILLS&quot;</td><td>3</td><td>3</td><td>1</td><td>&quot;MOUNTAIN MEN&quot;</td><td>&quot;Documentary&quot;</td><td>0</td><td>&quot;ORIGINAL CHARACTER&quot;</td><td>&quot;The History Channel&quot;</td><td>19945</td><td>&quot;Mountain Men&quot;</td><td>&quot;THC&quot;</td><td>2012</td><td>&quot;Series&quot;</td><td>77850</td><td>&quot;Executed&quot;</td><td>&quot;MMEN&quot;</td><td>2368</td><td>&quot;Mountain Men&quot;</td><td>&quot;Long Form&quot;</td><td>&quot;SURVIVAL&quot;</td><td>&quot;Warm Springs Productions&quot;</td><td>&quot;EP015556560003&quot;</td><td>&quot;2022/02&quot;</td><td>&quot;VIEW_DATA&quot;</td><td>&quot;Unscripted&quot;</td><td>204</td><td>4</td><td>1</td><td>1</td><td>2012-06-14 00:00:00</td><td>2012</td></tr><tr><td>&quot;Feb&quot;</td><td>2022</td><td>&quot;Mountain Men&quot;</td><td>&quot;HIST&quot;</td><td>&quot;lost&quot;</td><td>&quot;XT Outdoor&quot;</td><td>2368</td><td>77850</td><td>&quot;Lost&quot;</td><td>&quot;Mountain Men&quot;</td><td>3600</td><td>&quot;Wurl Plex&quot;</td><td>&quot;Fast Channels&quot;</td><td>&quot;Mobile&quot;</td><td>&quot;P2+&quot;</td><td>null</td><td>null</td><td>60</td><td>3600</td><td>78.7</td><td>2260.501575472</td><td>&quot;Lost&quot;</td><td>&quot;Mountain Men&quot;</td><td>&quot;SKILLS &amp; THRILLS&quot;</td><td>3</td><td>3</td><td>1</td><td>&quot;MOUNTAIN MEN&quot;</td><td>&quot;Documentary&quot;</td><td>0</td><td>&quot;ORIGINAL CHARACTER&quot;</td><td>&quot;The History Channel&quot;</td><td>19945</td><td>&quot;Mountain Men&quot;</td><td>&quot;THC&quot;</td><td>2012</td><td>&quot;Series&quot;</td><td>77850</td><td>&quot;Executed&quot;</td><td>&quot;MMEN&quot;</td><td>2368</td><td>&quot;Mountain Men&quot;</td><td>&quot;Long Form&quot;</td><td>&quot;SURVIVAL&quot;</td><td>&quot;Warm Springs Productions&quot;</td><td>&quot;EP015556560003&quot;</td><td>&quot;2022/02&quot;</td><td>&quot;VIEW_DATA&quot;</td><td>&quot;Unscripted&quot;</td><td>204</td><td>4</td><td>1</td><td>1</td><td>2012-06-14 00:00:00</td><td>2012</td></tr><tr><td>&quot;Mar&quot;</td><td>2022</td><td>&quot;Tiny House Nation&quot;</td><td>&quot;FYI&quot;</td><td>&quot;460 sq ft long journey to tiny…</td><td>&quot;HMN&quot;</td><td>3990</td><td>171831</td><td>&quot;460 Sq Ft Long Journey To Tiny&quot;</td><td>&quot;Tiny House Nation&quot;</td><td>3600</td><td>&quot;Wurl Roku&quot;</td><td>&quot;Fast Channels&quot;</td><td>&quot;CTV&quot;</td><td>&quot;P2+&quot;</td><td>null</td><td>null</td><td>60</td><td>3600</td><td>5522</td><td>201114.676452963</td><td>&quot;460 Sq Ft Long Journey To Tiny…</td><td>&quot;Tiny House Nation&quot;</td><td>&quot;REAL LIFE&quot;</td><td>7</td><td>63</td><td>4</td><td>&quot;TINY HOUSE HUNTING&quot;</td><td>&quot;Lifestyle&quot;</td><td>0</td><td>&quot;LIFESTYLE&quot;</td><td>&quot;FYI&quot;</td><td>27864</td><td>&quot;Tiny House Nation - Season 3&quot;</td><td>&quot;FYI&quot;</td><td>2015</td><td>&quot;Series&quot;</td><td>171831</td><td>&quot;Executed&quot;</td><td>&quot;THNA&quot;</td><td>3990</td><td>&quot;Tiny House Nation&quot;</td><td>&quot;Long Form&quot;</td><td>&quot;HOME&quot;</td><td>&quot;Loud Television LLC&quot;</td><td>&quot;EP019366820095&quot;</td><td>&quot;2022/03&quot;</td><td>&quot;VIEW_DATA&quot;</td><td>&quot;Unscripted&quot;</td><td>624</td><td>12</td><td>1</td><td>1</td><td>2017-02-18 00:00:00</td><td>2017</td></tr></tbody></table></div>"
      ],
      "text/plain": [
       "shape: (5, 55)\n",
       "┌───────┬──────┬──────────────────┬───────────┬───┬──────────────────┬──────────────┬──────────────────┬───────────────┐\n",
       "│ Month ┆ Year ┆ Program          ┆ Program - ┆ … ┆ Distinct Episode ┆ # of Episode ┆ program_current_ ┆ premiere_year │\n",
       "│ ---   ┆ ---  ┆ ---              ┆ Network   ┆   ┆ ---              ┆ ---          ┆ premiere_date    ┆ ---           │\n",
       "│ str   ┆ i64  ┆ str              ┆ ---       ┆   ┆ i64              ┆ i64          ┆ ---              ┆ i32           │\n",
       "│       ┆      ┆                  ┆ str       ┆   ┆                  ┆              ┆ datetime[μs]     ┆               │\n",
       "╞═══════╪══════╪══════════════════╪═══════════╪═══╪══════════════════╪══════════════╪══════════════════╪═══════════════╡\n",
       "│ Jan   ┆ 2022 ┆ Sell This House! ┆ FYI       ┆ … ┆ 1                ┆ 1            ┆ 2020-06-01       ┆ 2020          │\n",
       "│       ┆      ┆                  ┆           ┆   ┆                  ┆              ┆ 00:00:00         ┆               │\n",
       "│ Feb   ┆ 2022 ┆ Mountain Men     ┆ HIST      ┆ … ┆ 1                ┆ 1            ┆ 2012-06-14       ┆ 2012          │\n",
       "│       ┆      ┆                  ┆           ┆   ┆                  ┆              ┆ 00:00:00         ┆               │\n",
       "│ Feb   ┆ 2022 ┆ Mountain Men     ┆ HIST      ┆ … ┆ 1                ┆ 1            ┆ 2012-06-14       ┆ 2012          │\n",
       "│       ┆      ┆                  ┆           ┆   ┆                  ┆              ┆ 00:00:00         ┆               │\n",
       "│ Feb   ┆ 2022 ┆ Mountain Men     ┆ HIST      ┆ … ┆ 1                ┆ 1            ┆ 2012-06-14       ┆ 2012          │\n",
       "│       ┆      ┆                  ┆           ┆   ┆                  ┆              ┆ 00:00:00         ┆               │\n",
       "│ Mar   ┆ 2022 ┆ Tiny House       ┆ FYI       ┆ … ┆ 1                ┆ 1            ┆ 2017-02-18       ┆ 2017          │\n",
       "│       ┆      ┆ Nation           ┆           ┆   ┆                  ┆              ┆ 00:00:00         ┆               │\n",
       "└───────┴──────┴──────────────────┴───────────┴───┴──────────────────┴──────────────┴──────────────────┴───────────────┘"
      ]
     },
     "execution_count": 2,
     "metadata": {},
     "output_type": "execute_result"
    }
   ],
   "source": [
    "# Convert the column to datetime if it's not already in datetime format\n",
    "df = df.with_columns( pl.col(\"Program - Current Premiere Date\").str.to_datetime(format=\"%Y-%m-%d\").alias('program_current_premiere_date') )\n",
    "\n",
    "# Extract the year\n",
    "df = df.with_columns( pl.col(\"program_current_premiere_date\").dt.year().alias(\"premiere_year\") )\n",
    "\n",
    "# Drop original column\n",
    "df = df.drop(\"Program - Current Premiere Date\")\n",
    "\n",
    "print(df.shape)\n",
    "df.head()"
   ]
  },
  {
   "cell_type": "markdown",
   "id": "76d8ad8d-e949-448d-ac13-a278a14bb0d0",
   "metadata": {},
   "source": [
    "### Identify shows with a premiere year in 2022 or 2023\n",
    "Removing observations where the Program is a Special."
   ]
  },
  {
   "cell_type": "code",
   "execution_count": null,
   "id": "e1ff5265-f886-49d5-a5a4-eee39c2981d7",
   "metadata": {},
   "outputs": [],
   "source": [
    "df['Program - Is Special'].value_counts()"
   ]
  },
  {
   "cell_type": "code",
   "execution_count": null,
   "id": "ee6fd805-1859-4200-8af6-0a049df140f3",
   "metadata": {},
   "outputs": [],
   "source": [
    "df['Program - Type'].value_counts()"
   ]
  },
  {
   "cell_type": "code",
   "execution_count": 3,
   "id": "3e41a6a9-1e57-4196-9afa-7525eb848b25",
   "metadata": {},
   "outputs": [
    {
     "name": "stdout",
     "output_type": "stream",
     "text": [
      "(1124412, 55)\n"
     ]
    },
    {
     "data": {
      "text/html": [
       "<div><style>\n",
       ".dataframe > thead > tr,\n",
       ".dataframe > tbody > tr {\n",
       "  text-align: right;\n",
       "  white-space: pre-wrap;\n",
       "}\n",
       "</style>\n",
       "<small>shape: (5, 55)</small><table border=\"1\" class=\"dataframe\"><thead><tr><th>Month</th><th>Year</th><th>Program</th><th>Program - Network</th><th>Episode</th><th>Partner - Network</th><th>Series ID</th><th>Program ID Key</th><th>Partner - Episode</th><th>Partner - Program</th><th>Partner - Episode Duration</th><th>Partner - Name</th><th>Partner - Platform</th><th>Partner - Device</th><th>Partner - Demo</th><th>Partner - Rating Source</th><th>Partner - Viewer Code</th><th>Program - Broadcast Length</th><th>Program - Broadcast Length SSSSS</th><th>Exposures</th><th>Minutes Viewed</th><th>Program - Air Title</th><th>Program - Budget Line</th><th>Program - Category</th><th>Program - Episode Number</th><th>Program - External Air Order</th><th>Program - External Season</th><th>Program - Franchise</th><th>Program - Genre Name</th><th>Program - Is Special</th><th>Program - Mega Genre</th><th>Program - Network Name</th><th>Program - PAC ID</th><th>Program - PAC Title</th><th>Program - Premiere Network Code</th><th>Program - Production Year</th><th>Program - Type</th><th>Program - ID</th><th>Program - Status</th><th>Program - Series Code</th><th>Program - Series ID</th><th>Program - Series Name</th><th>Program - Long Form/Short Form</th><th>Program - Sub Category</th><th>Program - Supplier</th><th>Program - TMS ID</th><th>Year and Month</th><th>Partner - Data Type</th><th>Program Sub-Type</th><th>NO.of Scheduled Minutes</th><th>NO.of Telecasts</th><th>Distinct Episode</th><th># of Episode</th><th>program_current_premiere_date</th><th>premiere_year</th></tr><tr><td>str</td><td>i64</td><td>str</td><td>str</td><td>str</td><td>str</td><td>f64</td><td>i64</td><td>str</td><td>str</td><td>i64</td><td>str</td><td>str</td><td>str</td><td>str</td><td>str</td><td>str</td><td>i64</td><td>i64</td><td>f64</td><td>f64</td><td>str</td><td>str</td><td>str</td><td>f64</td><td>f64</td><td>f64</td><td>str</td><td>str</td><td>f64</td><td>str</td><td>str</td><td>f64</td><td>str</td><td>str</td><td>f64</td><td>str</td><td>f64</td><td>str</td><td>str</td><td>f64</td><td>str</td><td>str</td><td>str</td><td>str</td><td>str</td><td>str</td><td>str</td><td>str</td><td>i64</td><td>i64</td><td>i64</td><td>i64</td><td>datetime[μs]</td><td>i32</td></tr></thead><tbody><tr><td>&quot;Jan&quot;</td><td>2022</td><td>&quot;The First 48&quot;</td><td>&quot;AEN&quot;</td><td>&quot;chat trap (#447)&quot;</td><td>&quot;AEN&quot;</td><td>217</td><td>242264</td><td>&quot;CHAT TRAP 447&quot;</td><td>&quot;THE FIRST 48&quot;</td><td>3600</td><td>&quot;Nielsen&quot;</td><td>&quot;Live +3&quot;</td><td>null</td><td>&quot;P2+&quot;</td><td>&quot;NCC-L3&quot;</td><td>&quot;LINVOD&quot;</td><td>60</td><td>3600</td><td>1736362.8961146</td><td>80134503.8293337</td><td>&quot;CHAT TRAP (#447)&quot;</td><td>&quot;The First 48&quot;</td><td>&quot;TRUE CRIME&quot;</td><td>13</td><td>550</td><td>22</td><td>&quot;FIRST 48&quot;</td><td>&quot;Real Life Series&quot;</td><td>0</td><td>&quot;CRIME &amp; INVESTIGATION&quot;</td><td>&quot;A&amp;E Television Network&quot;</td><td>37018</td><td>&quot;The First 48 - 30x60 season 19&quot;</td><td>&quot;AEN&quot;</td><td>2021</td><td>&quot;Series&quot;</td><td>242264</td><td>&quot;Executed&quot;</td><td>&quot;FR48&quot;</td><td>217</td><td>&quot;The First 48&quot;</td><td>&quot;Long Form&quot;</td><td>&quot;REAL-LIFE HEROES&quot;</td><td>&quot;ITV Studios, Inc&quot;</td><td>&quot;EP006609610819&quot;</td><td>&quot;2022/01&quot;</td><td>&quot;VIEW_DATA&quot;</td><td>&quot;Unscripted&quot;</td><td>126</td><td>2</td><td>1</td><td>1</td><td>2022-01-27 00:00:00</td><td>2022</td></tr><tr><td>&quot;Jan&quot;</td><td>2022</td><td>&quot;Castle&quot;</td><td>&quot;LIFE&quot;</td><td>&quot;time will tell&quot;</td><td>&quot;LIFE&quot;</td><td>6784</td><td>255702</td><td>&quot;605 TIME WILL TELL&quot;</td><td>&quot;CASTLE&quot;</td><td>3600</td><td>&quot;Nielsen&quot;</td><td>&quot;Live +3&quot;</td><td>null</td><td>&quot;P2+&quot;</td><td>&quot;NCC-L3&quot;</td><td>&quot;LINVOD&quot;</td><td>60</td><td>3600</td><td>1402511.9914286</td><td>60163472.4068925</td><td>&quot;Time Will Tell&quot;</td><td>&quot;Castle&quot;</td><td>null</td><td>null</td><td>110</td><td>null</td><td>null</td><td>&quot;Dramatic Entertainment&quot;</td><td>0</td><td>null</td><td>&quot;Lifetime Television&quot;</td><td>38697</td><td>&quot;CASTLE - Series Acquisition&quot;</td><td>&quot;LFT&quot;</td><td>2021</td><td>&quot;Series&quot;</td><td>255702</td><td>&quot;Executed&quot;</td><td>&quot;CAST&quot;</td><td>6784</td><td>&quot;Castle&quot;</td><td>&quot;Long Form&quot;</td><td>null</td><td>&quot;Buena Vista&quot;</td><td>&quot;EP010855880113&quot;</td><td>&quot;2022/01&quot;</td><td>&quot;VIEW_DATA&quot;</td><td>&quot;Scripted&quot;</td><td>126</td><td>2</td><td>1</td><td>1</td><td>2022-01-18 00:00:00</td><td>2022</td></tr><tr><td>&quot;Jan&quot;</td><td>2022</td><td>&quot;Castle&quot;</td><td>&quot;LIFE&quot;</td><td>&quot;the lives of others&quot;</td><td>&quot;LIFE&quot;</td><td>6784</td><td>255692</td><td>&quot;519 LIVES OF OTHERS, THE&quot;</td><td>&quot;CASTLE&quot;</td><td>3600</td><td>&quot;Nielsen&quot;</td><td>&quot;Live +3&quot;</td><td>null</td><td>&quot;P2+&quot;</td><td>&quot;NCC-L3&quot;</td><td>&quot;LINVOD&quot;</td><td>60</td><td>3600</td><td>661916.187565</td><td>28605811.2392674</td><td>&quot;The Lives of Others&quot;</td><td>&quot;Castle&quot;</td><td>null</td><td>null</td><td>100</td><td>null</td><td>null</td><td>&quot;Dramatic Entertainment&quot;</td><td>0</td><td>null</td><td>&quot;Lifetime Television&quot;</td><td>38697</td><td>&quot;CASTLE - Series Acquisition&quot;</td><td>&quot;LFT&quot;</td><td>2021</td><td>&quot;Series&quot;</td><td>255692</td><td>&quot;Executed&quot;</td><td>&quot;CAST&quot;</td><td>6784</td><td>&quot;Castle&quot;</td><td>&quot;Long Form&quot;</td><td>null</td><td>&quot;Buena Vista&quot;</td><td>&quot;EP010855880100&quot;</td><td>&quot;2022/01&quot;</td><td>&quot;VIEW_DATA&quot;</td><td>&quot;Scripted&quot;</td><td>60</td><td>1</td><td>1</td><td>1</td><td>2022-01-17 00:00:00</td><td>2022</td></tr><tr><td>&quot;Jan&quot;</td><td>2022</td><td>&quot;Castle&quot;</td><td>&quot;LIFE&quot;</td><td>&quot;the human factor&quot;</td><td>&quot;LIFE&quot;</td><td>6784</td><td>255696</td><td>&quot;523 HUMAN FACTOR, THE&quot;</td><td>&quot;CASTLE&quot;</td><td>3600</td><td>&quot;Nielsen&quot;</td><td>&quot;Live +3&quot;</td><td>null</td><td>&quot;P2+&quot;</td><td>&quot;NCC-L3&quot;</td><td>&quot;LINVOD&quot;</td><td>60</td><td>3600</td><td>882500.8700562</td><td>38045927.2870392</td><td>&quot;The Human Factor&quot;</td><td>&quot;Castle&quot;</td><td>null</td><td>null</td><td>104</td><td>null</td><td>null</td><td>&quot;Dramatic Entertainment&quot;</td><td>0</td><td>null</td><td>&quot;Lifetime Television&quot;</td><td>38697</td><td>&quot;CASTLE - Series Acquisition&quot;</td><td>&quot;LFT&quot;</td><td>2021</td><td>&quot;Series&quot;</td><td>255696</td><td>&quot;Executed&quot;</td><td>&quot;CAST&quot;</td><td>6784</td><td>&quot;Castle&quot;</td><td>&quot;Long Form&quot;</td><td>null</td><td>&quot;Buena Vista&quot;</td><td>&quot;EP010855880108&quot;</td><td>&quot;2022/01&quot;</td><td>&quot;VIEW_DATA&quot;</td><td>&quot;Scripted&quot;</td><td>120</td><td>2</td><td>1</td><td>1</td><td>2022-01-17 00:00:00</td><td>2022</td></tr><tr><td>&quot;Jan&quot;</td><td>2022</td><td>&quot;Castle&quot;</td><td>&quot;LIFE&quot;</td><td>&quot;the wrong stuff&quot;</td><td>&quot;LIFE&quot;</td><td>6784</td><td>255736</td><td>&quot;716 WRONG STUFF, THE&quot;</td><td>&quot;CASTLE&quot;</td><td>3600</td><td>&quot;Nielsen&quot;</td><td>&quot;Live +3&quot;</td><td>null</td><td>&quot;P2+&quot;</td><td>&quot;NCC-L3&quot;</td><td>&quot;LINVOD&quot;</td><td>60</td><td>3600</td><td>894878.1094937</td><td>38472001.2383885</td><td>&quot;The Wrong Stuff&quot;</td><td>&quot;Castle&quot;</td><td>null</td><td>null</td><td>144</td><td>null</td><td>null</td><td>&quot;Dramatic Entertainment&quot;</td><td>0</td><td>null</td><td>&quot;Lifetime Television&quot;</td><td>38697</td><td>&quot;CASTLE - Series Acquisition&quot;</td><td>&quot;LFT&quot;</td><td>2021</td><td>&quot;Series&quot;</td><td>255736</td><td>&quot;Executed&quot;</td><td>&quot;CAST&quot;</td><td>6784</td><td>&quot;Castle&quot;</td><td>&quot;Long Form&quot;</td><td>null</td><td>&quot;Buena Vista&quot;</td><td>&quot;EP010855880146&quot;</td><td>&quot;2022/01&quot;</td><td>&quot;VIEW_DATA&quot;</td><td>&quot;Scripted&quot;</td><td>126</td><td>2</td><td>1</td><td>1</td><td>2022-01-31 00:00:00</td><td>2022</td></tr></tbody></table></div>"
      ],
      "text/plain": [
       "shape: (5, 55)\n",
       "┌───────┬──────┬──────────────┬───────────┬───┬────────────────────┬──────────────┬────────────────────┬───────────────┐\n",
       "│ Month ┆ Year ┆ Program      ┆ Program - ┆ … ┆ Distinct Episode   ┆ # of Episode ┆ program_current_pr ┆ premiere_year │\n",
       "│ ---   ┆ ---  ┆ ---          ┆ Network   ┆   ┆ ---                ┆ ---          ┆ emiere_date        ┆ ---           │\n",
       "│ str   ┆ i64  ┆ str          ┆ ---       ┆   ┆ i64                ┆ i64          ┆ ---                ┆ i32           │\n",
       "│       ┆      ┆              ┆ str       ┆   ┆                    ┆              ┆ datetime[μs]       ┆               │\n",
       "╞═══════╪══════╪══════════════╪═══════════╪═══╪════════════════════╪══════════════╪════════════════════╪═══════════════╡\n",
       "│ Jan   ┆ 2022 ┆ The First 48 ┆ AEN       ┆ … ┆ 1                  ┆ 1            ┆ 2022-01-27         ┆ 2022          │\n",
       "│       ┆      ┆              ┆           ┆   ┆                    ┆              ┆ 00:00:00           ┆               │\n",
       "│ Jan   ┆ 2022 ┆ Castle       ┆ LIFE      ┆ … ┆ 1                  ┆ 1            ┆ 2022-01-18         ┆ 2022          │\n",
       "│       ┆      ┆              ┆           ┆   ┆                    ┆              ┆ 00:00:00           ┆               │\n",
       "│ Jan   ┆ 2022 ┆ Castle       ┆ LIFE      ┆ … ┆ 1                  ┆ 1            ┆ 2022-01-17         ┆ 2022          │\n",
       "│       ┆      ┆              ┆           ┆   ┆                    ┆              ┆ 00:00:00           ┆               │\n",
       "│ Jan   ┆ 2022 ┆ Castle       ┆ LIFE      ┆ … ┆ 1                  ┆ 1            ┆ 2022-01-17         ┆ 2022          │\n",
       "│       ┆      ┆              ┆           ┆   ┆                    ┆              ┆ 00:00:00           ┆               │\n",
       "│ Jan   ┆ 2022 ┆ Castle       ┆ LIFE      ┆ … ┆ 1                  ┆ 1            ┆ 2022-01-31         ┆ 2022          │\n",
       "│       ┆      ┆              ┆           ┆   ┆                    ┆              ┆ 00:00:00           ┆               │\n",
       "└───────┴──────┴──────────────┴───────────┴───┴────────────────────┴──────────────┴────────────────────┴───────────────┘"
      ]
     },
     "execution_count": 3,
     "metadata": {},
     "output_type": "execute_result"
    }
   ],
   "source": [
    "df = df.filter( (pl.col(\"premiere_year\").is_in([2022, 2023])) & \n",
    "                (pl.col(\"Program - Is Special\") != 1) & \n",
    "                (pl.col(\"Program - Type\") != \"Special\") &\n",
    "                (pl.col(\"Program Sub-Type\") != \"Movie\") &\n",
    "                (pl.col(\"Program Sub-Type\") != \"Special\") )\n",
    "\n",
    "print(df.shape)\n",
    "df.head()"
   ]
  },
  {
   "cell_type": "code",
   "execution_count": 4,
   "id": "4d944fc9-ba33-465e-a46f-8704d8a65ac4",
   "metadata": {},
   "outputs": [
    {
     "data": {
      "text/html": [
       "<div><style>\n",
       ".dataframe > thead > tr,\n",
       ".dataframe > tbody > tr {\n",
       "  text-align: right;\n",
       "  white-space: pre-wrap;\n",
       "}\n",
       "</style>\n",
       "<small>shape: (2, 56)</small><table border=\"1\" class=\"dataframe\"><thead><tr><th>Month</th><th>Year</th><th>Program</th><th>Program - Network</th><th>Episode</th><th>Partner - Network</th><th>Series ID</th><th>Program ID Key</th><th>Partner - Episode</th><th>Partner - Program</th><th>Partner - Episode Duration</th><th>Partner - Name</th><th>Partner - Platform</th><th>Partner - Device</th><th>Partner - Demo</th><th>Partner - Rating Source</th><th>Partner - Viewer Code</th><th>Program - Broadcast Length</th><th>Program - Broadcast Length SSSSS</th><th>Exposures</th><th>Minutes Viewed</th><th>Program - Air Title</th><th>Program - Budget Line</th><th>Program - Category</th><th>Program - Episode Number</th><th>Program - External Air Order</th><th>Program - External Season</th><th>Program - Franchise</th><th>Program - Genre Name</th><th>Program - Is Special</th><th>Program - Mega Genre</th><th>Program - Network Name</th><th>Program - PAC ID</th><th>Program - PAC Title</th><th>Program - Premiere Network Code</th><th>Program - Production Year</th><th>Program - Type</th><th>Program - ID</th><th>Program - Status</th><th>Program - Series Code</th><th>Program - Series ID</th><th>Program - Series Name</th><th>Program - Long Form/Short Form</th><th>Program - Sub Category</th><th>Program - Supplier</th><th>Program - TMS ID</th><th>Year and Month</th><th>Partner - Data Type</th><th>Program Sub-Type</th><th>NO.of Scheduled Minutes</th><th>NO.of Telecasts</th><th>Distinct Episode</th><th># of Episode</th><th>program_current_premiere_date</th><th>premiere_year</th><th>Series Type</th></tr><tr><td>str</td><td>i64</td><td>str</td><td>str</td><td>str</td><td>str</td><td>f64</td><td>i64</td><td>str</td><td>str</td><td>i64</td><td>str</td><td>str</td><td>str</td><td>str</td><td>str</td><td>str</td><td>i64</td><td>i64</td><td>f64</td><td>f64</td><td>str</td><td>str</td><td>str</td><td>f64</td><td>f64</td><td>f64</td><td>str</td><td>str</td><td>f64</td><td>str</td><td>str</td><td>f64</td><td>str</td><td>str</td><td>f64</td><td>str</td><td>f64</td><td>str</td><td>str</td><td>f64</td><td>str</td><td>str</td><td>str</td><td>str</td><td>str</td><td>str</td><td>str</td><td>str</td><td>i64</td><td>i64</td><td>i64</td><td>i64</td><td>datetime[μs]</td><td>i32</td><td>str</td></tr></thead><tbody><tr><td>&quot;Jan&quot;</td><td>2022</td><td>&quot;The First 48&quot;</td><td>&quot;AEN&quot;</td><td>&quot;chat trap (#447)&quot;</td><td>&quot;AEN&quot;</td><td>217</td><td>242264</td><td>&quot;CHAT TRAP 447&quot;</td><td>&quot;THE FIRST 48&quot;</td><td>3600</td><td>&quot;Nielsen&quot;</td><td>&quot;Live +3&quot;</td><td>null</td><td>&quot;P2+&quot;</td><td>&quot;NCC-L3&quot;</td><td>&quot;LINVOD&quot;</td><td>60</td><td>3600</td><td>1736362.8961146</td><td>80134503.8293337</td><td>&quot;CHAT TRAP (#447)&quot;</td><td>&quot;The First 48&quot;</td><td>&quot;TRUE CRIME&quot;</td><td>13</td><td>550</td><td>22</td><td>&quot;FIRST 48&quot;</td><td>&quot;Real Life Series&quot;</td><td>0</td><td>&quot;CRIME &amp; INVESTIGATION&quot;</td><td>&quot;A&amp;E Television Network&quot;</td><td>37018</td><td>&quot;The First 48 - 30x60 season 19&quot;</td><td>&quot;AEN&quot;</td><td>2021</td><td>&quot;Series&quot;</td><td>242264</td><td>&quot;Executed&quot;</td><td>&quot;FR48&quot;</td><td>217</td><td>&quot;The First 48&quot;</td><td>&quot;Long Form&quot;</td><td>&quot;REAL-LIFE HEROES&quot;</td><td>&quot;ITV Studios, Inc&quot;</td><td>&quot;EP006609610819&quot;</td><td>&quot;2022/01&quot;</td><td>&quot;VIEW_DATA&quot;</td><td>&quot;Unscripted&quot;</td><td>126</td><td>2</td><td>1</td><td>1</td><td>2022-01-27 00:00:00</td><td>2022</td><td>&quot;Legacy&quot;</td></tr><tr><td>&quot;Jan&quot;</td><td>2022</td><td>&quot;Castle&quot;</td><td>&quot;LIFE&quot;</td><td>&quot;time will tell&quot;</td><td>&quot;LIFE&quot;</td><td>6784</td><td>255702</td><td>&quot;605 TIME WILL TELL&quot;</td><td>&quot;CASTLE&quot;</td><td>3600</td><td>&quot;Nielsen&quot;</td><td>&quot;Live +3&quot;</td><td>null</td><td>&quot;P2+&quot;</td><td>&quot;NCC-L3&quot;</td><td>&quot;LINVOD&quot;</td><td>60</td><td>3600</td><td>1402511.9914286</td><td>60163472.4068925</td><td>&quot;Time Will Tell&quot;</td><td>&quot;Castle&quot;</td><td>null</td><td>null</td><td>110</td><td>null</td><td>null</td><td>&quot;Dramatic Entertainment&quot;</td><td>0</td><td>null</td><td>&quot;Lifetime Television&quot;</td><td>38697</td><td>&quot;CASTLE - Series Acquisition&quot;</td><td>&quot;LFT&quot;</td><td>2021</td><td>&quot;Series&quot;</td><td>255702</td><td>&quot;Executed&quot;</td><td>&quot;CAST&quot;</td><td>6784</td><td>&quot;Castle&quot;</td><td>&quot;Long Form&quot;</td><td>null</td><td>&quot;Buena Vista&quot;</td><td>&quot;EP010855880113&quot;</td><td>&quot;2022/01&quot;</td><td>&quot;VIEW_DATA&quot;</td><td>&quot;Scripted&quot;</td><td>126</td><td>2</td><td>1</td><td>1</td><td>2022-01-18 00:00:00</td><td>2022</td><td>&quot;Unknown&quot;</td></tr></tbody></table></div>"
      ],
      "text/plain": [
       "shape: (2, 56)\n",
       "┌───────┬──────┬──────────────┬───────────────────┬───┬──────────────┬───────────────────┬───────────────┬─────────────┐\n",
       "│ Month ┆ Year ┆ Program      ┆ Program - Network ┆ … ┆ # of Episode ┆ program_current_p ┆ premiere_year ┆ Series Type │\n",
       "│ ---   ┆ ---  ┆ ---          ┆ ---               ┆   ┆ ---          ┆ remiere_date      ┆ ---           ┆ ---         │\n",
       "│ str   ┆ i64  ┆ str          ┆ str               ┆   ┆ i64          ┆ ---               ┆ i32           ┆ str         │\n",
       "│       ┆      ┆              ┆                   ┆   ┆              ┆ datetime[μs]      ┆               ┆             │\n",
       "╞═══════╪══════╪══════════════╪═══════════════════╪═══╪══════════════╪═══════════════════╪═══════════════╪═════════════╡\n",
       "│ Jan   ┆ 2022 ┆ The First 48 ┆ AEN               ┆ … ┆ 1            ┆ 2022-01-27        ┆ 2022          ┆ Legacy      │\n",
       "│       ┆      ┆              ┆                   ┆   ┆              ┆ 00:00:00          ┆               ┆             │\n",
       "│ Jan   ┆ 2022 ┆ Castle       ┆ LIFE              ┆ … ┆ 1            ┆ 2022-01-18        ┆ 2022          ┆ Unknown     │\n",
       "│       ┆      ┆              ┆                   ┆   ┆              ┆ 00:00:00          ┆               ┆             │\n",
       "└───────┴──────┴──────────────┴───────────────────┴───┴──────────────┴───────────────────┴───────────────┴─────────────┘"
      ]
     },
     "execution_count": 4,
     "metadata": {},
     "output_type": "execute_result"
    }
   ],
   "source": [
    "#Create new variable to establish whether season is Legacy or New\n",
    "\n",
    "df = df.with_columns(\n",
    "    pl.when(pl.col(\"Program - External Season\") < 2)\n",
    "    .then(pl.lit('New'))\n",
    "    .when(pl.col(\"Program - External Season\") >= 2)\n",
    "    .then(pl.lit('Legacy'))\n",
    "    .otherwise(pl.lit('Unknown'))\n",
    "    .alias(\"Series Type\")\n",
    ")\n",
    "\n",
    "df.head(2)"
   ]
  },
  {
   "cell_type": "markdown",
   "id": "71b20ea7-1d1a-4a81-a264-6875419e1a21",
   "metadata": {},
   "source": [
    "# Cleaning 2\n",
    "Dealing with nulls\n",
    "Removing irrelevant columns"
   ]
  },
  {
   "cell_type": "code",
   "execution_count": 5,
   "id": "1bbb5d46-a022-4ec7-b59b-9d8c69591569",
   "metadata": {},
   "outputs": [
    {
     "data": {
      "text/html": [
       "<div><style>\n",
       ".dataframe > thead > tr,\n",
       ".dataframe > tbody > tr {\n",
       "  text-align: right;\n",
       "  white-space: pre-wrap;\n",
       "}\n",
       "</style>\n",
       "<small>shape: (1, 56)</small><table border=\"1\" class=\"dataframe\"><thead><tr><th>Month</th><th>Year</th><th>Program</th><th>Program - Network</th><th>Episode</th><th>Partner - Network</th><th>Series ID</th><th>Program ID Key</th><th>Partner - Episode</th><th>Partner - Program</th><th>Partner - Episode Duration</th><th>Partner - Name</th><th>Partner - Platform</th><th>Partner - Device</th><th>Partner - Demo</th><th>Partner - Rating Source</th><th>Partner - Viewer Code</th><th>Program - Broadcast Length</th><th>Program - Broadcast Length SSSSS</th><th>Exposures</th><th>Minutes Viewed</th><th>Program - Air Title</th><th>Program - Budget Line</th><th>Program - Category</th><th>Program - Episode Number</th><th>Program - External Air Order</th><th>Program - External Season</th><th>Program - Franchise</th><th>Program - Genre Name</th><th>Program - Is Special</th><th>Program - Mega Genre</th><th>Program - Network Name</th><th>Program - PAC ID</th><th>Program - PAC Title</th><th>Program - Premiere Network Code</th><th>Program - Production Year</th><th>Program - Type</th><th>Program - ID</th><th>Program - Status</th><th>Program - Series Code</th><th>Program - Series ID</th><th>Program - Series Name</th><th>Program - Long Form/Short Form</th><th>Program - Sub Category</th><th>Program - Supplier</th><th>Program - TMS ID</th><th>Year and Month</th><th>Partner - Data Type</th><th>Program Sub-Type</th><th>NO.of Scheduled Minutes</th><th>NO.of Telecasts</th><th>Distinct Episode</th><th># of Episode</th><th>program_current_premiere_date</th><th>premiere_year</th><th>Series Type</th></tr><tr><td>u32</td><td>u32</td><td>u32</td><td>u32</td><td>u32</td><td>u32</td><td>u32</td><td>u32</td><td>u32</td><td>u32</td><td>u32</td><td>u32</td><td>u32</td><td>u32</td><td>u32</td><td>u32</td><td>u32</td><td>u32</td><td>u32</td><td>u32</td><td>u32</td><td>u32</td><td>u32</td><td>u32</td><td>u32</td><td>u32</td><td>u32</td><td>u32</td><td>u32</td><td>u32</td><td>u32</td><td>u32</td><td>u32</td><td>u32</td><td>u32</td><td>u32</td><td>u32</td><td>u32</td><td>u32</td><td>u32</td><td>u32</td><td>u32</td><td>u32</td><td>u32</td><td>u32</td><td>u32</td><td>u32</td><td>u32</td><td>u32</td><td>u32</td><td>u32</td><td>u32</td><td>u32</td><td>u32</td><td>u32</td><td>u32</td></tr></thead><tbody><tr><td>0</td><td>0</td><td>0</td><td>0</td><td>0</td><td>1084</td><td>0</td><td>0</td><td>38396</td><td>18084</td><td>0</td><td>0</td><td>0</td><td>25114</td><td>0</td><td>1099475</td><td>1099475</td><td>0</td><td>0</td><td>0</td><td>0</td><td>0</td><td>3042</td><td>13513</td><td>71729</td><td>7189</td><td>5322</td><td>390360</td><td>6</td><td>0</td><td>13513</td><td>0</td><td>0</td><td>0</td><td>5187</td><td>0</td><td>0</td><td>0</td><td>0</td><td>0</td><td>0</td><td>0</td><td>0</td><td>13513</td><td>0</td><td>492</td><td>0</td><td>0</td><td>0</td><td>0</td><td>0</td><td>0</td><td>0</td><td>0</td><td>0</td><td>0</td></tr></tbody></table></div>"
      ],
      "text/plain": [
       "shape: (1, 56)\n",
       "┌───────┬──────┬─────────┬───────────────────┬───┬──────────────┬────────────────────────┬───────────────┬─────────────┐\n",
       "│ Month ┆ Year ┆ Program ┆ Program - Network ┆ … ┆ # of Episode ┆ program_current_premie ┆ premiere_year ┆ Series Type │\n",
       "│ ---   ┆ ---  ┆ ---     ┆ ---               ┆   ┆ ---          ┆ re_date                ┆ ---           ┆ ---         │\n",
       "│ u32   ┆ u32  ┆ u32     ┆ u32               ┆   ┆ u32          ┆ ---                    ┆ u32           ┆ u32         │\n",
       "│       ┆      ┆         ┆                   ┆   ┆              ┆ u32                    ┆               ┆             │\n",
       "╞═══════╪══════╪═════════╪═══════════════════╪═══╪══════════════╪════════════════════════╪═══════════════╪═════════════╡\n",
       "│ 0     ┆ 0    ┆ 0       ┆ 0                 ┆ … ┆ 0            ┆ 0                      ┆ 0             ┆ 0           │\n",
       "└───────┴──────┴─────────┴───────────────────┴───┴──────────────┴────────────────────────┴───────────────┴─────────────┘"
      ]
     },
     "execution_count": 5,
     "metadata": {},
     "output_type": "execute_result"
    }
   ],
   "source": [
    "# Count of missing values per column.\n",
    "df.null_count()"
   ]
  },
  {
   "cell_type": "code",
   "execution_count": 6,
   "id": "8d35d435-0acb-4232-8ffc-a5721e08fac9",
   "metadata": {
    "scrolled": true
   },
   "outputs": [
    {
     "name": "stdout",
     "output_type": "stream",
     "text": [
      "Month -- String -- 0\n",
      "Year -- Int64 -- 0\n",
      "Program -- String -- 0\n",
      "Program - Network -- String -- 0\n",
      "Episode -- String -- 0\n",
      "Partner - Network -- String -- 1084\n",
      "Series ID -- Float64 -- 0\n",
      "Program ID Key -- Int64 -- 0\n",
      "Partner - Episode -- String -- 38396\n",
      "Partner - Program -- String -- 18084\n",
      "Partner - Episode Duration -- Int64 -- 0\n",
      "Partner - Name -- String -- 0\n",
      "Partner - Platform -- String -- 0\n",
      "Partner - Device -- String -- 25114\n",
      "Partner - Demo -- String -- 0\n",
      "Partner - Rating Source -- String -- 1099475\n",
      "Partner - Viewer Code -- String -- 1099475\n",
      "Program - Broadcast Length -- Int64 -- 0\n",
      "Program - Broadcast Length SSSSS -- Int64 -- 0\n",
      "Exposures -- Float64 -- 0\n",
      "Minutes Viewed -- Float64 -- 0\n",
      "Program - Air Title -- String -- 0\n",
      "Program - Budget Line -- String -- 3042\n",
      "Program - Category -- String -- 13513\n",
      "Program - Episode Number -- Float64 -- 71729\n",
      "Program - External Air Order -- Float64 -- 7189\n",
      "Program - External Season -- Float64 -- 5322\n",
      "Program - Franchise -- String -- 390360\n",
      "Program - Genre Name -- String -- 6\n",
      "Program - Is Special -- Float64 -- 0\n",
      "Program - Mega Genre -- String -- 13513\n",
      "Program - Network Name -- String -- 0\n",
      "Program - PAC ID -- Float64 -- 0\n",
      "Program - PAC Title -- String -- 0\n",
      "Program - Premiere Network Code -- String -- 5187\n",
      "Program - Production Year -- Float64 -- 0\n",
      "Program - Type -- String -- 0\n",
      "Program - ID -- Float64 -- 0\n",
      "Program - Status -- String -- 0\n",
      "Program - Series Code -- String -- 0\n",
      "Program - Series ID -- Float64 -- 0\n",
      "Program - Series Name -- String -- 0\n",
      "Program - Long Form/Short Form -- String -- 0\n",
      "Program - Sub Category -- String -- 13513\n",
      "Program - Supplier -- String -- 0\n",
      "Program - TMS ID -- String -- 492\n",
      "Year and Month -- String -- 0\n",
      "Partner - Data Type -- String -- 0\n",
      "Program Sub-Type -- String -- 0\n",
      "NO.of Scheduled Minutes -- Int64 -- 0\n",
      "NO.of Telecasts -- Int64 -- 0\n",
      "Distinct Episode -- Int64 -- 0\n",
      "# of Episode -- Int64 -- 0\n",
      "program_current_premiere_date -- Datetime(time_unit='us', time_zone=None) -- 0\n",
      "premiere_year -- Int32 -- 0\n",
      "Series Type -- String -- 0\n"
     ]
    },
    {
     "data": {
      "text/plain": [
       "['Partner - Rating Source', 'Partner - Viewer Code', 'Program - Franchise']"
      ]
     },
     "execution_count": 6,
     "metadata": {},
     "output_type": "execute_result"
    }
   ],
   "source": [
    "#remove those with > 10% null\n",
    "too_high = []\n",
    "counts = {}\n",
    "\n",
    "for col in df.columns:\n",
    "    nullz = len( df.filter(pl.col(col).is_null()) )\n",
    "    print(col, '--', df[col].dtype, '--', nullz)\n",
    "    \n",
    "    perc = (nullz/len(df)) * 100\n",
    "    counts[col] = round(perc, 4)\n",
    "    if perc >= 10:\n",
    "        too_high.append(col)\n",
    "\n",
    "df = df.drop(too_high)\n",
    "\n",
    "too_high"
   ]
  },
  {
   "cell_type": "code",
   "execution_count": 7,
   "id": "308cf723-f92e-4d79-b476-c8bd98043ffc",
   "metadata": {},
   "outputs": [],
   "source": [
    "#make all string columns lowercase and trim\n",
    "df = df.with_columns( pl.col(pl.Utf8).str.strip_chars().str.to_lowercase() )"
   ]
  },
  {
   "cell_type": "code",
   "execution_count": 8,
   "id": "05f01c36-8cf4-45d7-9d2c-effd38bfe618",
   "metadata": {},
   "outputs": [],
   "source": [
    "# these columns should not be interpreted as numeric. turn into strings. \n",
    "df = df.with_columns( pl.col('Year').cast(pl.String).alias('Year') )\n",
    "df = df.with_columns( pl.col('Program - Production Year').cast(pl.String).alias('Program - Production Year') )\n",
    "df = df.with_columns( pl.col('premiere_year').cast(pl.String).alias('premiere_year') )"
   ]
  },
  {
   "cell_type": "code",
   "execution_count": 9,
   "id": "e29ef8c4-484f-48c1-8bb9-7d11766bf114",
   "metadata": {},
   "outputs": [],
   "source": [
    "# make better unique program ID\n",
    "df = df.with_columns( pl.col('Program - ID').cast(pl.String).alias(\"Program - ID\") )\n",
    "df = df.with_columns( (pl.col(\"Program\") + \"_\" + pl.col(\"Program - ID\")).alias(\"Program\") )"
   ]
  },
  {
   "cell_type": "code",
   "execution_count": 10,
   "id": "0de8ebd2-e23e-4438-969f-59ee9ade52d0",
   "metadata": {},
   "outputs": [],
   "source": [
    "#important independent vars and the dependent var cols arent allowed to have missing values. we need to remove the nulls in these columns\n",
    "df = df.drop_nulls(subset=[\"Program\", \"Exposures\", \"Minutes Viewed\"])"
   ]
  },
  {
   "cell_type": "code",
   "execution_count": 11,
   "id": "4635f68b-1375-43f4-9b6a-bc8b7b4e672e",
   "metadata": {},
   "outputs": [
    {
     "data": {
      "text/plain": [
       "['Partner - Demo',\n",
       " 'Program - Is Special',\n",
       " 'Program - Type',\n",
       " 'Program - Long Form/Short Form',\n",
       " 'Partner - Data Type',\n",
       " 'Distinct Episode',\n",
       " '# of Episode']"
      ]
     },
     "execution_count": 11,
     "metadata": {},
     "output_type": "execute_result"
    }
   ],
   "source": [
    "#identify columns with only 1 unique value and remove because there is no point including these cols in model\n",
    "one_val_cols = [col for col in df.columns if df[col].n_unique() == 1]\n",
    "one_val_cols"
   ]
  },
  {
   "cell_type": "code",
   "execution_count": 12,
   "id": "858a0ee5-d396-4a7d-aa7a-cc9b86cc54b8",
   "metadata": {},
   "outputs": [
    {
     "data": {
      "text/html": [
       "<div><style>\n",
       ".dataframe > thead > tr,\n",
       ".dataframe > tbody > tr {\n",
       "  text-align: right;\n",
       "  white-space: pre-wrap;\n",
       "}\n",
       "</style>\n",
       "<small>shape: (2, 26)</small><table border=\"1\" class=\"dataframe\"><thead><tr><th>Month</th><th>Year</th><th>Program</th><th>Program - Network</th><th>Partner - Network</th><th>Partner - Episode Duration</th><th>Partner - Name</th><th>Partner - Platform</th><th>Partner - Device</th><th>Program - Broadcast Length</th><th>Exposures</th><th>Minutes Viewed</th><th>Program - Category</th><th>Program - Genre Name</th><th>Program - Mega Genre</th><th>Program - Network Name</th><th>Program - Production Year</th><th>Program - Status</th><th>Program - Sub Category</th><th>Program - Supplier</th><th>Program Sub-Type</th><th>NO.of Scheduled Minutes</th><th>NO.of Telecasts</th><th>program_current_premiere_date</th><th>premiere_year</th><th>Series Type</th></tr><tr><td>str</td><td>str</td><td>str</td><td>str</td><td>str</td><td>i64</td><td>str</td><td>str</td><td>str</td><td>i64</td><td>f64</td><td>f64</td><td>str</td><td>str</td><td>str</td><td>str</td><td>str</td><td>str</td><td>str</td><td>str</td><td>str</td><td>i64</td><td>i64</td><td>datetime[μs]</td><td>str</td><td>str</td></tr></thead><tbody><tr><td>&quot;jan&quot;</td><td>&quot;2022&quot;</td><td>&quot;the first 48_242264.0&quot;</td><td>&quot;aen&quot;</td><td>&quot;aen&quot;</td><td>3600</td><td>&quot;nielsen&quot;</td><td>&quot;live +3&quot;</td><td>null</td><td>60</td><td>1736362.8961146</td><td>80134503.8293337</td><td>&quot;true crime&quot;</td><td>&quot;real life series&quot;</td><td>&quot;crime &amp; investigation&quot;</td><td>&quot;a&amp;e television network&quot;</td><td>&quot;2021.0&quot;</td><td>&quot;executed&quot;</td><td>&quot;real-life heroes&quot;</td><td>&quot;itv studios, inc&quot;</td><td>&quot;unscripted&quot;</td><td>126</td><td>2</td><td>2022-01-27 00:00:00</td><td>&quot;2022&quot;</td><td>&quot;legacy&quot;</td></tr><tr><td>&quot;jan&quot;</td><td>&quot;2022&quot;</td><td>&quot;castle_255702.0&quot;</td><td>&quot;life&quot;</td><td>&quot;life&quot;</td><td>3600</td><td>&quot;nielsen&quot;</td><td>&quot;live +3&quot;</td><td>null</td><td>60</td><td>1402511.9914286</td><td>60163472.4068925</td><td>null</td><td>&quot;dramatic entertainment&quot;</td><td>null</td><td>&quot;lifetime television&quot;</td><td>&quot;2021.0&quot;</td><td>&quot;executed&quot;</td><td>null</td><td>&quot;buena vista&quot;</td><td>&quot;scripted&quot;</td><td>126</td><td>2</td><td>2022-01-18 00:00:00</td><td>&quot;2022&quot;</td><td>&quot;unknown&quot;</td></tr></tbody></table></div>"
      ],
      "text/plain": [
       "shape: (2, 26)\n",
       "┌───────┬──────┬───────────────────┬───────────┬───┬──────────────────┬──────────────────┬───────────────┬─────────────┐\n",
       "│ Month ┆ Year ┆ Program           ┆ Program - ┆ … ┆ NO.of Telecasts  ┆ program_current_ ┆ premiere_year ┆ Series Type │\n",
       "│ ---   ┆ ---  ┆ ---               ┆ Network   ┆   ┆ ---              ┆ premiere_date    ┆ ---           ┆ ---         │\n",
       "│ str   ┆ str  ┆ str               ┆ ---       ┆   ┆ i64              ┆ ---              ┆ str           ┆ str         │\n",
       "│       ┆      ┆                   ┆ str       ┆   ┆                  ┆ datetime[μs]     ┆               ┆             │\n",
       "╞═══════╪══════╪═══════════════════╪═══════════╪═══╪══════════════════╪══════════════════╪═══════════════╪═════════════╡\n",
       "│ jan   ┆ 2022 ┆ the first         ┆ aen       ┆ … ┆ 2                ┆ 2022-01-27       ┆ 2022          ┆ legacy      │\n",
       "│       ┆      ┆ 48_242264.0       ┆           ┆   ┆                  ┆ 00:00:00         ┆               ┆             │\n",
       "│ jan   ┆ 2022 ┆ castle_255702.0   ┆ life      ┆ … ┆ 2                ┆ 2022-01-18       ┆ 2022          ┆ unknown     │\n",
       "│       ┆      ┆                   ┆           ┆   ┆                  ┆ 00:00:00         ┆               ┆             │\n",
       "└───────┴──────┴───────────────────┴───────────┴───┴──────────────────┴──────────────────┴───────────────┴─────────────┘"
      ]
     },
     "execution_count": 12,
     "metadata": {},
     "output_type": "execute_result"
    }
   ],
   "source": [
    "# these columns would be irrelevant to a model:\n",
    "\n",
    "irrel_cols = ['Episode',                          #not needed when grouping by program\n",
    "              'Partner - Data Type',              #no bearing on success of program, internal admin\n",
    "              '# of Episode',                     #no bearing on success of program, internal admin\n",
    "              'Partner - Episode',                #agg by program makes this irrel\n",
    "              'Partner - Program',                #duplicate, have program name\n",
    "              'Program - Air Title',              #duplicate, have program name\n",
    "              'Program - Broadcast Length SSSSS', #duplicate we already have Program - Broadcast Length which is a better model format)\n",
    "              'Program - Budget Line',            #duplicate, have program name\n",
    "              'Program - Episode Number',         #agg by program makes this irrel\n",
    "              'Program - ID',                     #already combined with program name\n",
    "              'Program - Is Special',             #already filtered\n",
    "              'Program - Type',                   #already filtered\n",
    "              'Program - PAC ID',                 #no bearing on success of program, internal admin\n",
    "              'Program - PAC Title',              #duplicate, have program name\n",
    "              'Program - Premiere Network Code',  #no bearing on success of program, internal admin\n",
    "              'Program - Series Code',            #no bearing on success of program, internal admin\n",
    "              'Program - Series ID',              #already done with program id\n",
    "              'Program - Series Name',            #duplicate, have program name\n",
    "              'Program - TMS ID',                 #no bearing on success of program, internal admin\n",
    "              'Program - External Season',        #no bearing on success of program, internal admin\n",
    "              'Program - External Air Order',     #no bearing on success of program, internal admin\n",
    "              'Program ID Key',                   #no bearing on success of program, internal admin\n",
    "              'Series ID',                        #no bearing on success of program, internal admin\n",
    "              'Year and Month'                    #duplicate, already have year and month columns\n",
    "             ] + one_val_cols\n",
    "\n",
    "df = df.drop(irrel_cols)\n",
    "\n",
    "df.head(2)"
   ]
  },
  {
   "cell_type": "markdown",
   "id": "3a6d811a-4de7-4ad4-a004-646c3e8a1306",
   "metadata": {},
   "source": [
    "### Imputing, option 1: use unsupervised clustering to group episodes\n",
    "fill in nulls based on which cluster a null record belongs to"
   ]
  },
  {
   "cell_type": "code",
   "execution_count": null,
   "id": "4b535b29-2ab6-4d55-a775-06356272273b",
   "metadata": {},
   "outputs": [],
   "source": [
    "import polars as pl\n",
    "from sklearn.cluster import KMeans\n",
    "from sklearn.impute import SimpleImputer\n",
    "from sklearn.preprocessing import StandardScaler, OneHotEncoder\n",
    "from sklearn.compose import ColumnTransformer\n",
    "from sklearn.pipeline import Pipeline\n",
    "import seaborn as sns\n",
    "from kneed import KneeLocator"
   ]
  },
  {
   "cell_type": "code",
   "execution_count": null,
   "id": "7c726e3c-0a72-40fa-98b0-5db30e37f6da",
   "metadata": {},
   "outputs": [],
   "source": [
    "df = df.with_columns(pl.col(\"program_current_premiere_date\").dt.epoch(time_unit=\"s\").alias(\"program_current_premiere_date\")) #convert datetime to seconds for ease of clustering modeling"
   ]
  },
  {
   "cell_type": "code",
   "execution_count": null,
   "id": "624e9a9c-2d6e-4291-ba09-1d199e043b8a",
   "metadata": {},
   "outputs": [],
   "source": [
    "# id numeric and categorical columns\n",
    "numeric_columns = df.select(pl.exclude(pl.String)).columns\n",
    "categorical_columns  = df.select(pl.col(pl.String)).columns\n",
    "\n",
    "print('numeric_columns:', '\\n', numeric_columns,'\\n')\n",
    "print('categorical_columns:', '\\n', categorical_columns)"
   ]
  },
  {
   "cell_type": "code",
   "execution_count": null,
   "id": "a77300d2-1dbd-4a90-8750-2ba1cb132d88",
   "metadata": {},
   "outputs": [],
   "source": [
    "#  pipelines for numeric and categorical data\n",
    "numeric_transformer = Pipeline(steps=[\n",
    "    ('imputer', SimpleImputer(strategy='median')),\n",
    "    ('scaler', StandardScaler())\n",
    "])\n",
    "\n",
    "categorical_transformer = Pipeline(steps=[\n",
    "    ('imputer', SimpleImputer(strategy='constant', fill_value='missing')),\n",
    "    ('onehot', OneHotEncoder(handle_unknown='ignore'))\n",
    "])\n",
    "\n",
    "# combine preprocessing steps\n",
    "preprocessor = ColumnTransformer(\n",
    "    transformers=[\n",
    "        ('num', numeric_transformer, numeric_columns),\n",
    "        ('cat', categorical_transformer, categorical_columns)\n",
    "    ])\n",
    "\n",
    "# fit preprocessor and transform data\n",
    "X_preprocessed = preprocessor.fit_transform(df)"
   ]
  },
  {
   "cell_type": "code",
   "execution_count": null,
   "id": "3cda0592-fe04-43d3-b3e5-c2a3ac065f2e",
   "metadata": {},
   "outputs": [],
   "source": [
    "# get best num of clusters using elbow and silhouette methods. This will take 2min\n",
    "inertia = []\n",
    "k_range = range(1, 21)\n",
    "\n",
    "for k in k_range:\n",
    "    #print(k)\n",
    "    kmeans = KMeans(n_clusters=k, random_state=42, max_iter=300)\n",
    "    kmeans.fit(X_preprocessed)\n",
    "    inertia.append(kmeans.inertia_)\n",
    "\n",
    "# KneeLocator to find the elbow point\n",
    "kl = KneeLocator(k_range, inertia, curve=\"convex\", direction=\"decreasing\")\n",
    "elbow_point = kl.elbow\n",
    "\n",
    "elbow_point = int(elbow_point) #usually == 7"
   ]
  },
  {
   "cell_type": "code",
   "execution_count": null,
   "id": "51ece1fe-ec88-485e-8ea8-0e289fb799f1",
   "metadata": {},
   "outputs": [],
   "source": [
    "sns.lineplot(x=k_range, y=inertia, marker='o')"
   ]
  },
  {
   "cell_type": "code",
   "execution_count": null,
   "id": "06573b86-9002-4a5c-9a99-c717428d8d9c",
   "metadata": {},
   "outputs": [],
   "source": [
    "# final clustering \n",
    "optimal_kmeans = KMeans(n_clusters=elbow_point, random_state=42)\n",
    "cluster_labels = optimal_kmeans.fit_predict(X_preprocessed)\n",
    "\n",
    "df = df.with_columns(pl.Series('Cluster', cluster_labels))"
   ]
  },
  {
   "cell_type": "code",
   "execution_count": null,
   "id": "2ac50035-2223-470a-afbf-a89f9aeb5ab0",
   "metadata": {},
   "outputs": [],
   "source": [
    "#fill nulls in columns with mode or median from their cluster\n",
    "#rationale is better imputation within clusters of similar records vs entire dataset\n",
    "\n",
    "for col in df.columns:\n",
    "    if (col != 'Cluster') and (df[col].null_count() > 0):\n",
    "\n",
    "        for cluster in range(elbow_point):\n",
    "            filt_df = df.filter(pl.col('Cluster') == cluster)\n",
    "            \n",
    "            if df[col].dtype == pl.String:\n",
    "                val_counts = filt_df[col].value_counts().sort(by='count', descending=True) #get mode value per categorical column\n",
    "                fill_val = val_counts['count'][0]\n",
    "            else:\n",
    "                fill_val = filt_df[col].median()\n",
    "    \n",
    "            df = df.with_columns(pl.col(col).fill_null(fill_val))\n",
    "            \n",
    "df.null_count()"
   ]
  },
  {
   "cell_type": "code",
   "execution_count": null,
   "id": "637d0b6c-09d2-4d6b-8fcc-6a0e7f6167d7",
   "metadata": {},
   "outputs": [],
   "source": [
    "df = df.with_columns( pl.from_epoch(\"program_current_premiere_date\", time_unit=\"s\").alias(\"program_current_premiere_date\") ) #convert back from epoch seconds to datetime in order to group"
   ]
  },
  {
   "cell_type": "markdown",
   "id": "be92b511-82dc-4551-a1c4-5698559148a4",
   "metadata": {},
   "source": [
    "### Imputing, option 2 use 'Program - Mega Genre' as way to group episides\n",
    "Fill in nulls based on which genre a null record belongs to\n",
    "<br> This is only category that is both descriptive and where programs are evenly spread throughout"
   ]
  },
  {
   "cell_type": "code",
   "execution_count": 13,
   "id": "b30e4911-728e-45d8-8168-b495f41dac15",
   "metadata": {},
   "outputs": [
    {
     "data": {
      "text/plain": [
       "[\"history's greatest stories\",\n",
       " 'original character',\n",
       " 'crime & investigation',\n",
       " 'lifestyle',\n",
       " 'biography presents',\n",
       " 'history',\n",
       " 'scripted',\n",
       " \"history's mysteries\",\n",
       " 'reality entertainment',\n",
       " 'Unknown']"
      ]
     },
     "execution_count": 13,
     "metadata": {},
     "output_type": "execute_result"
    }
   ],
   "source": [
    "#cant replace None in 'Program - Mega Genre' with mode value because that would be circular logic\n",
    "#instead we make new category\n",
    "#df = df.with_columns([ pl.col('Program - Mega Genre').when(pl.col('Program - Mega Genre').is_null()).then('Unknown').otherwise(pl.col('Program - Mega Genre')) ])\n",
    "\n",
    "df = df.with_columns(\n",
    "    pl.when(pl.col('Program - Mega Genre').is_null() )\n",
    "    .then(pl.lit('Unknown'))\n",
    "    .otherwise(pl.col('Program - Mega Genre'))\n",
    "    .alias('Program - Mega Genre')\n",
    ")\n",
    "\n",
    "mega_genres = df['Program - Mega Genre'].unique().to_list()\n",
    "mega_genres"
   ]
  },
  {
   "cell_type": "code",
   "execution_count": 14,
   "id": "cc9f18b8-e1a6-4c14-a2bb-531e83d9e9a3",
   "metadata": {},
   "outputs": [
    {
     "data": {
      "text/html": [
       "<div><style>\n",
       ".dataframe > thead > tr,\n",
       ".dataframe > tbody > tr {\n",
       "  text-align: right;\n",
       "  white-space: pre-wrap;\n",
       "}\n",
       "</style>\n",
       "<small>shape: (1, 26)</small><table border=\"1\" class=\"dataframe\"><thead><tr><th>Month</th><th>Year</th><th>Program</th><th>Program - Network</th><th>Partner - Network</th><th>Partner - Episode Duration</th><th>Partner - Name</th><th>Partner - Platform</th><th>Partner - Device</th><th>Program - Broadcast Length</th><th>Exposures</th><th>Minutes Viewed</th><th>Program - Category</th><th>Program - Genre Name</th><th>Program - Mega Genre</th><th>Program - Network Name</th><th>Program - Production Year</th><th>Program - Status</th><th>Program - Sub Category</th><th>Program - Supplier</th><th>Program Sub-Type</th><th>NO.of Scheduled Minutes</th><th>NO.of Telecasts</th><th>program_current_premiere_date</th><th>premiere_year</th><th>Series Type</th></tr><tr><td>u32</td><td>u32</td><td>u32</td><td>u32</td><td>u32</td><td>u32</td><td>u32</td><td>u32</td><td>u32</td><td>u32</td><td>u32</td><td>u32</td><td>u32</td><td>u32</td><td>u32</td><td>u32</td><td>u32</td><td>u32</td><td>u32</td><td>u32</td><td>u32</td><td>u32</td><td>u32</td><td>u32</td><td>u32</td><td>u32</td></tr></thead><tbody><tr><td>0</td><td>0</td><td>0</td><td>0</td><td>0</td><td>0</td><td>0</td><td>0</td><td>0</td><td>0</td><td>0</td><td>0</td><td>0</td><td>0</td><td>0</td><td>0</td><td>0</td><td>0</td><td>0</td><td>0</td><td>0</td><td>0</td><td>0</td><td>0</td><td>0</td><td>0</td></tr></tbody></table></div>"
      ],
      "text/plain": [
       "shape: (1, 26)\n",
       "┌───────┬──────┬─────────┬───────────────────┬───┬─────────────────┬─────────────────────┬───────────────┬─────────────┐\n",
       "│ Month ┆ Year ┆ Program ┆ Program - Network ┆ … ┆ NO.of Telecasts ┆ program_current_pre ┆ premiere_year ┆ Series Type │\n",
       "│ ---   ┆ ---  ┆ ---     ┆ ---               ┆   ┆ ---             ┆ miere_date          ┆ ---           ┆ ---         │\n",
       "│ u32   ┆ u32  ┆ u32     ┆ u32               ┆   ┆ u32             ┆ ---                 ┆ u32           ┆ u32         │\n",
       "│       ┆      ┆         ┆                   ┆   ┆                 ┆ u32                 ┆               ┆             │\n",
       "╞═══════╪══════╪═════════╪═══════════════════╪═══╪═════════════════╪═════════════════════╪═══════════════╪═════════════╡\n",
       "│ 0     ┆ 0    ┆ 0       ┆ 0                 ┆ … ┆ 0               ┆ 0                   ┆ 0             ┆ 0           │\n",
       "└───────┴──────┴─────────┴───────────────────┴───┴─────────────────┴─────────────────────┴───────────────┴─────────────┘"
      ]
     },
     "execution_count": 14,
     "metadata": {},
     "output_type": "execute_result"
    }
   ],
   "source": [
    "for col in df.columns:\n",
    "    if (col != 'Program - Mega Genre') and (df[col].null_count() > 0):\n",
    "\n",
    "        for genre in mega_genres:\n",
    "            filt_df = df.filter(pl.col('Program - Mega Genre') == genre) #filter to just 1 genre\n",
    "\n",
    "            #get mode or median value from filtered data\n",
    "            if df[col].dtype == pl.String:\n",
    "                val_counts = filt_df[col].value_counts().sort(by='count', descending=True) \n",
    "                fill_val = val_counts['count'][0]\n",
    "            else:\n",
    "                fill_val = filt_df[col].median()\n",
    "    \n",
    "            df = df.with_columns(pl.col(col).fill_null(fill_val)) #fill that col's nulls with mode or median values\n",
    "            \n",
    "df.null_count()"
   ]
  },
  {
   "cell_type": "markdown",
   "id": "01c7b13b-9ff6-4528-bc69-7a65705aa7c2",
   "metadata": {},
   "source": [
    "### write cleaned data"
   ]
  },
  {
   "cell_type": "code",
   "execution_count": 15,
   "id": "532d63f5-bdcb-4959-9b9f-ce36125cc8b9",
   "metadata": {},
   "outputs": [],
   "source": [
    "df.write_parquet('pregrouped_cleaned_capstone_data.parquet', compression='gzip')"
   ]
  },
  {
   "cell_type": "code",
   "execution_count": null,
   "id": "4c7b8932-53aa-4ba2-b800-764bb6e44760",
   "metadata": {},
   "outputs": [],
   "source": [
    "#remove this later. just so we dont have to repeat above when working on code\n",
    "df = pl.read_parquet('pregrouped_cleaned_capstone_data.parquet') "
   ]
  },
  {
   "cell_type": "markdown",
   "id": "6989d05f-a1bb-4a30-91cf-15d698332f79",
   "metadata": {},
   "source": [
    "# Prep for modeling. what is success and group by program"
   ]
  },
  {
   "cell_type": "markdown",
   "id": "24e87fd4-57ca-49aa-9773-4d8a015df38e",
   "metadata": {},
   "source": [
    "### group by program and aggregate median for all numeric columns. mode for all categorical columns"
   ]
  },
  {
   "cell_type": "code",
   "execution_count": 17,
   "id": "21be2308-69bf-4cfb-8083-6887f0efa336",
   "metadata": {},
   "outputs": [
    {
     "name": "stdout",
     "output_type": "stream",
     "text": [
      "(3966, 25)\n"
     ]
    },
    {
     "data": {
      "text/html": [
       "<div><style>\n",
       ".dataframe > thead > tr,\n",
       ".dataframe > tbody > tr {\n",
       "  text-align: right;\n",
       "  white-space: pre-wrap;\n",
       "}\n",
       "</style>\n",
       "<small>shape: (5, 25)</small><table border=\"1\" class=\"dataframe\"><thead><tr><th>Program</th><th>Partner - Episode Duration</th><th>Program - Broadcast Length</th><th>Exposures</th><th>Minutes Viewed</th><th>NO.of Scheduled Minutes</th><th>NO.of Telecasts</th><th>program_current_premiere_date</th><th>Month</th><th>Year</th><th>Program - Network</th><th>Partner - Network</th><th>Partner - Name</th><th>Partner - Platform</th><th>Partner - Device</th><th>Program - Category</th><th>Program - Genre Name</th><th>Program - Mega Genre</th><th>Program - Network Name</th><th>Program - Production Year</th><th>Program - Sub Category</th><th>Program - Supplier</th><th>Program Sub-Type</th><th>premiere_year</th><th>Series Type</th></tr><tr><td>str</td><td>f64</td><td>f64</td><td>f64</td><td>f64</td><td>i64</td><td>i64</td><td>datetime[μs]</td><td>str</td><td>str</td><td>str</td><td>str</td><td>str</td><td>str</td><td>str</td><td>str</td><td>str</td><td>str</td><td>str</td><td>str</td><td>str</td><td>str</td><td>str</td><td>str</td><td>str</td></tr></thead><tbody><tr><td>&quot;american pickers_235262.0&quot;</td><td>3600</td><td>60</td><td>9131449.366435267</td><td>395921557.9927566</td><td>15616376</td><td>17</td><td>2022-01-08 00:00:00</td><td>&quot;jun&quot;</td><td>&quot;2022&quot;</td><td>&quot;hist&quot;</td><td>&quot;hist&quot;</td><td>&quot;comcast&quot;</td><td>&quot;vmvpd vod&quot;</td><td>&quot;ctv&quot;</td><td>&quot;skills &amp; thrills&quot;</td><td>&quot;reality tv&quot;</td><td>&quot;original character&quot;</td><td>&quot;the history channel&quot;</td><td>&quot;2020.0&quot;</td><td>&quot;artifactual &amp; transactional&quot;</td><td>&quot;cineflix international media l…</td><td>&quot;unscripted&quot;</td><td>&quot;2022&quot;</td><td>&quot;legacy&quot;</td></tr><tr><td>&quot;american pickers: best of_2682…</td><td>3600</td><td>60</td><td>1264500.6575126024</td><td>55396322.38637683</td><td>5689563</td><td>2</td><td>2022-07-23 00:00:00</td><td>&quot;jul&quot;</td><td>&quot;2023&quot;</td><td>&quot;hist&quot;</td><td>&quot;hist&quot;</td><td>&quot;comcast&quot;</td><td>&quot;vmvpd vod&quot;</td><td>&quot;ctv&quot;</td><td>&quot;skills &amp; thrills&quot;</td><td>&quot;reality tv&quot;</td><td>&quot;original character&quot;</td><td>&quot;the history channel&quot;</td><td>&quot;2022.0&quot;</td><td>&quot;artifactual &amp; transactional&quot;</td><td>&quot;stamford post production&quot;</td><td>&quot;unscripted&quot;</td><td>&quot;2022&quot;</td><td>&quot;legacy&quot;</td></tr><tr><td>&quot;barrett-jackson: revved up_287…</td><td>3600</td><td>60</td><td>66008.5485993</td><td>2699097.865406129</td><td>204598</td><td>2</td><td>2023-09-03 00:00:00</td><td>&quot;sep&quot;</td><td>&quot;2023&quot;</td><td>&quot;fyi&quot;</td><td>&quot;fyi&quot;</td><td>&quot;spectrum&quot;</td><td>&quot;stb vod&quot;</td><td>&quot;ctv&quot;</td><td>&quot;skills &amp; thrills&quot;</td><td>&quot;other&quot;</td><td>&quot;original character&quot;</td><td>&quot;fyi&quot;</td><td>&quot;2023.0&quot;</td><td>&quot;gearhead&quot;</td><td>&quot;stamford post production&quot;</td><td>&quot;unscripted&quot;</td><td>&quot;2023&quot;</td><td>&quot;legacy&quot;</td></tr><tr><td>&quot;storage wars_265702.0&quot;</td><td>1800</td><td>30</td><td>1451701.6962401036</td><td>30718815.967402324</td><td>2909038</td><td>8</td><td>2023-06-13 00:00:00</td><td>&quot;jun&quot;</td><td>&quot;2023&quot;</td><td>&quot;aen&quot;</td><td>&quot;aen&quot;</td><td>&quot;comcast&quot;</td><td>&quot;vmvpd vod&quot;</td><td>&quot;ctv&quot;</td><td>&quot;skills &amp; thrills&quot;</td><td>&quot;real life series&quot;</td><td>&quot;original character&quot;</td><td>&quot;a&amp;e television network&quot;</td><td>&quot;2022.0&quot;</td><td>&quot;artifactual &amp; transactional&quot;</td><td>&quot;original productions, llc&quot;</td><td>&quot;unscripted&quot;</td><td>&quot;2023&quot;</td><td>&quot;legacy&quot;</td></tr><tr><td>&quot;the curse of oak island: diggi…</td><td>3600</td><td>60</td><td>1785780.5836947002</td><td>80449415.2954462</td><td>119</td><td>2</td><td>2022-11-29 00:00:00</td><td>&quot;nov&quot;</td><td>&quot;2022&quot;</td><td>&quot;hist&quot;</td><td>&quot;hist&quot;</td><td>&quot;nielsen&quot;</td><td>&quot;dvr 4-7&quot;</td><td>&quot;11313&quot;</td><td>&quot;history&quot;</td><td>&quot;reality tv&quot;</td><td>&quot;history&#x27;s mysteries&quot;</td><td>&quot;the history channel&quot;</td><td>&quot;2022.0&quot;</td><td>&quot;investigating history&quot;</td><td>&quot;stamford post production&quot;</td><td>&quot;docu-drama&quot;</td><td>&quot;2022&quot;</td><td>&quot;legacy&quot;</td></tr></tbody></table></div>"
      ],
      "text/plain": [
       "shape: (5, 25)\n",
       "┌──────────────┬──────────────┬──────────────┬─────────────┬───┬─────────────┬─────────────┬─────────────┬─────────────┐\n",
       "│ Program      ┆ Partner -    ┆ Program -    ┆ Exposures   ┆ … ┆ Program -   ┆ Program     ┆ premiere_ye ┆ Series Type │\n",
       "│ ---          ┆ Episode      ┆ Broadcast    ┆ ---         ┆   ┆ Supplier    ┆ Sub-Type    ┆ ar          ┆ ---         │\n",
       "│ str          ┆ Duration     ┆ Length       ┆ f64         ┆   ┆ ---         ┆ ---         ┆ ---         ┆ str         │\n",
       "│              ┆ ---          ┆ ---          ┆             ┆   ┆ str         ┆ str         ┆ str         ┆             │\n",
       "│              ┆ f64          ┆ f64          ┆             ┆   ┆             ┆             ┆             ┆             │\n",
       "╞══════════════╪══════════════╪══════════════╪═════════════╪═══╪═════════════╪═════════════╪═════════════╪═════════════╡\n",
       "│ american pic ┆ 3600         ┆ 60           ┆ 9131449.366 ┆ … ┆ cineflix    ┆ unscripted  ┆ 2022        ┆ legacy      │\n",
       "│ kers_235262. ┆              ┆              ┆ 435267      ┆   ┆ internation ┆             ┆             ┆             │\n",
       "│ 0            ┆              ┆              ┆             ┆   ┆ al media l… ┆             ┆             ┆             │\n",
       "│ american     ┆ 3600         ┆ 60           ┆ 1264500.657 ┆ … ┆ stamford    ┆ unscripted  ┆ 2022        ┆ legacy      │\n",
       "│ pickers:     ┆              ┆              ┆ 5126024     ┆   ┆ post        ┆             ┆             ┆             │\n",
       "│ best         ┆              ┆              ┆             ┆   ┆ production  ┆             ┆             ┆             │\n",
       "│ of_2682…     ┆              ┆              ┆             ┆   ┆             ┆             ┆             ┆             │\n",
       "│ barrett-jack ┆ 3600         ┆ 60           ┆ 66008.54859 ┆ … ┆ stamford    ┆ unscripted  ┆ 2023        ┆ legacy      │\n",
       "│ son: revved  ┆              ┆              ┆ 93          ┆   ┆ post        ┆             ┆             ┆             │\n",
       "│ up_287…      ┆              ┆              ┆             ┆   ┆ production  ┆             ┆             ┆             │\n",
       "│ storage wars ┆ 1800         ┆ 30           ┆ 1451701.696 ┆ … ┆ original    ┆ unscripted  ┆ 2023        ┆ legacy      │\n",
       "│ _265702.0    ┆              ┆              ┆ 2401036     ┆   ┆ productions ┆             ┆             ┆             │\n",
       "│              ┆              ┆              ┆             ┆   ┆ , llc       ┆             ┆             ┆             │\n",
       "│ the curse of ┆ 3600         ┆ 60           ┆ 1785780.583 ┆ … ┆ stamford    ┆ docu-drama  ┆ 2022        ┆ legacy      │\n",
       "│ oak island:  ┆              ┆              ┆ 6947002     ┆   ┆ post        ┆             ┆             ┆             │\n",
       "│ diggi…       ┆              ┆              ┆             ┆   ┆ production  ┆             ┆             ┆             │\n",
       "└──────────────┴──────────────┴──────────────┴─────────────┴───┴─────────────┴─────────────┴─────────────┴─────────────┘"
      ]
     },
     "execution_count": 17,
     "metadata": {},
     "output_type": "execute_result"
    }
   ],
   "source": [
    "program_groups = (\n",
    "    df.group_by(\"Program\")\n",
    "    .agg([\n",
    "        pl.median('Partner - Episode Duration'),\n",
    "        pl.median('Program - Broadcast Length'),\n",
    "        pl.sum('Exposures'),\n",
    "        pl.sum('Minutes Viewed'),\n",
    "        pl.sum('NO.of Scheduled Minutes'),\n",
    "        pl.sum('NO.of Telecasts'),\n",
    "        pl.median('program_current_premiere_date'),\n",
    "        pl.col(\"Month\").mode().first(),\n",
    "        pl.col(\"Year\").mode().first(),\n",
    "        pl.col(\"Program - Network\").mode().first(),\n",
    "        pl.col(\"Partner - Network\").mode().first(),\n",
    "        pl.col(\"Partner - Name\").mode().first(),\n",
    "        pl.col(\"Partner - Platform\").mode().first(),\n",
    "        pl.col(\"Partner - Device\").mode().first(),\n",
    "        pl.col(\"Program - Category\").mode().first(),\n",
    "        pl.col(\"Program - Genre Name\").mode().first(),\n",
    "        pl.col(\"Program - Mega Genre\").mode().first(),\n",
    "        pl.col(\"Program - Network Name\").mode().first(),\n",
    "        pl.col(\"Program - Production Year\").mode().first(),\n",
    "        pl.col(\"Program - Sub Category\").mode().first(),\n",
    "        pl.col(\"Program - Supplier\").mode().first(),\n",
    "        pl.col(\"Program Sub-Type\").mode().first(),\n",
    "        pl.col(\"premiere_year\").mode().first(),\n",
    "        pl.col(\"Series Type\").mode().first(),\n",
    "        #pl.col(\"Cluster\").mode().first(), #comment out if you didnt use clustering to impute\n",
    "    ])\n",
    ")\n",
    "\n",
    "print(program_groups.shape)\n",
    "program_groups.head()"
   ]
  },
  {
   "cell_type": "markdown",
   "id": "38ee4fbf-7d61-40c3-9956-976e86b211c5",
   "metadata": {},
   "source": [
    "### create success metric. success = top quartile of shows like it.\n",
    "\n",
    "chose 'Program - Mega Genre' because it's descriptive and programs are evenly spread throughout. Unlike other high level categories like platform\n",
    "<br> decide if we want Exposures or Minutes viewed to be our dependant variable"
   ]
  },
  {
   "cell_type": "code",
   "execution_count": 18,
   "id": "5acb15bd-195d-447f-8391-da8aad8ce1ae",
   "metadata": {},
   "outputs": [
    {
     "data": {
      "text/html": [
       "<div><style>\n",
       ".dataframe > thead > tr,\n",
       ".dataframe > tbody > tr {\n",
       "  text-align: right;\n",
       "  white-space: pre-wrap;\n",
       "}\n",
       "</style>\n",
       "<small>shape: (10, 2)</small><table border=\"1\" class=\"dataframe\"><thead><tr><th>Program - Mega Genre</th><th>count</th></tr><tr><td>str</td><td>u32</td></tr></thead><tbody><tr><td>&quot;reality entertainment&quot;</td><td>1002</td></tr><tr><td>&quot;original character&quot;</td><td>700</td></tr><tr><td>&quot;history&#x27;s greatest stories&quot;</td><td>62</td></tr><tr><td>&quot;Unknown&quot;</td><td>128</td></tr><tr><td>&quot;scripted&quot;</td><td>238</td></tr><tr><td>&quot;lifestyle&quot;</td><td>569</td></tr><tr><td>&quot;history&#x27;s mysteries&quot;</td><td>416</td></tr><tr><td>&quot;history&quot;</td><td>77</td></tr><tr><td>&quot;crime &amp; investigation&quot;</td><td>616</td></tr><tr><td>&quot;biography presents&quot;</td><td>158</td></tr></tbody></table></div>"
      ],
      "text/plain": [
       "shape: (10, 2)\n",
       "┌────────────────────────────┬───────┐\n",
       "│ Program - Mega Genre       ┆ count │\n",
       "│ ---                        ┆ ---   │\n",
       "│ str                        ┆ u32   │\n",
       "╞════════════════════════════╪═══════╡\n",
       "│ reality entertainment      ┆ 1002  │\n",
       "│ original character         ┆ 700   │\n",
       "│ history's greatest stories ┆ 62    │\n",
       "│ Unknown                    ┆ 128   │\n",
       "│ scripted                   ┆ 238   │\n",
       "│ lifestyle                  ┆ 569   │\n",
       "│ history's mysteries        ┆ 416   │\n",
       "│ history                    ┆ 77    │\n",
       "│ crime & investigation      ┆ 616   │\n",
       "│ biography presents         ┆ 158   │\n",
       "└────────────────────────────┴───────┘"
      ]
     },
     "execution_count": 18,
     "metadata": {},
     "output_type": "execute_result"
    }
   ],
   "source": [
    "program_groups['Program - Mega Genre'].value_counts()"
   ]
  },
  {
   "cell_type": "code",
   "execution_count": 19,
   "id": "dcadea19-8fd8-472b-a6ec-8eec03b65d55",
   "metadata": {},
   "outputs": [
    {
     "data": {
      "text/html": [
       "<div><style>\n",
       ".dataframe > thead > tr,\n",
       ".dataframe > tbody > tr {\n",
       "  text-align: right;\n",
       "  white-space: pre-wrap;\n",
       "}\n",
       "</style>\n",
       "<small>shape: (10, 3)</small><table border=\"1\" class=\"dataframe\"><thead><tr><th>Program - Mega Genre</th><th>Exposures_top25p_thrshld</th><th>Mins_vewd_top25p_thrshld</th></tr><tr><td>str</td><td>f64</td><td>f64</td></tr></thead><tbody><tr><td>&quot;scripted&quot;</td><td>952403.6556434999</td><td>42167356.54756177</td></tr><tr><td>&quot;reality entertainment&quot;</td><td>763542.8193943078</td><td>30532877.539857168</td></tr><tr><td>&quot;original character&quot;</td><td>2712845.4532601833</td><td>112179664.797785</td></tr><tr><td>&quot;lifestyle&quot;</td><td>1288786.3258771624</td><td>43779970.00039177</td></tr><tr><td>&quot;history&#x27;s mysteries&quot;</td><td>6554474.779885544</td><td>291962386.72339123</td></tr><tr><td>&quot;history&#x27;s greatest stories&quot;</td><td>4331926.355617829</td><td>205015921.04523033</td></tr><tr><td>&quot;history&quot;</td><td>1969116.27021684</td><td>83528952.11858805</td></tr><tr><td>&quot;crime &amp; investigation&quot;</td><td>2694531.835024678</td><td>99252479.39529541</td></tr><tr><td>&quot;biography presents&quot;</td><td>967752.0645707811</td><td>43134303.84051917</td></tr><tr><td>&quot;Unknown&quot;</td><td>6912497.265562498</td><td>296733547.0531369</td></tr></tbody></table></div>"
      ],
      "text/plain": [
       "shape: (10, 3)\n",
       "┌────────────────────────────┬──────────────────────────┬──────────────────────────┐\n",
       "│ Program - Mega Genre       ┆ Exposures_top25p_thrshld ┆ Mins_vewd_top25p_thrshld │\n",
       "│ ---                        ┆ ---                      ┆ ---                      │\n",
       "│ str                        ┆ f64                      ┆ f64                      │\n",
       "╞════════════════════════════╪══════════════════════════╪══════════════════════════╡\n",
       "│ scripted                   ┆ 952403.6556434999        ┆ 42167356.54756177        │\n",
       "│ reality entertainment      ┆ 763542.8193943078        ┆ 30532877.539857168       │\n",
       "│ original character         ┆ 2712845.4532601833       ┆ 112179664.797785         │\n",
       "│ lifestyle                  ┆ 1288786.3258771624       ┆ 43779970.00039177        │\n",
       "│ history's mysteries        ┆ 6554474.779885544        ┆ 291962386.72339123       │\n",
       "│ history's greatest stories ┆ 4331926.355617829        ┆ 205015921.04523033       │\n",
       "│ history                    ┆ 1969116.27021684         ┆ 83528952.11858805        │\n",
       "│ crime & investigation      ┆ 2694531.835024678        ┆ 99252479.39529541        │\n",
       "│ biography presents         ┆ 967752.0645707811        ┆ 43134303.84051917        │\n",
       "│ Unknown                    ┆ 6912497.265562498        ┆ 296733547.0531369        │\n",
       "└────────────────────────────┴──────────────────────────┴──────────────────────────┘"
      ]
     },
     "execution_count": 19,
     "metadata": {},
     "output_type": "execute_result"
    }
   ],
   "source": [
    "# for each mega genre establish a threshold for success by \n",
    "# identifying the boundary between the top 25% of programs and lower 75%\n",
    "\n",
    "success_thresholds = (\n",
    "    program_groups.group_by('Program - Mega Genre') \n",
    "    .agg([\n",
    "        pl.quantile('Exposures', 0.75).alias(\"Exposures_top25p_thrshld\"),\n",
    "        pl.quantile('Minutes Viewed', 0.75).alias(\"Mins_vewd_top25p_thrshld\")\n",
    "    ])\n",
    ")\n",
    "\n",
    "#join these new threshold values back into program_groups in order to evaluate success\n",
    "program_groups = program_groups.join(success_thresholds, on='Program - Mega Genre', how='inner')\n",
    "\n",
    "success_thresholds.sort(by='Program - Mega Genre', descending=True)"
   ]
  },
  {
   "cell_type": "code",
   "execution_count": 20,
   "id": "952cfc80-bd69-4b08-9786-e2dc8ce0c8dd",
   "metadata": {},
   "outputs": [
    {
     "data": {
      "text/html": [
       "<div><style>\n",
       ".dataframe > thead > tr,\n",
       ".dataframe > tbody > tr {\n",
       "  text-align: right;\n",
       "  white-space: pre-wrap;\n",
       "}\n",
       "</style>\n",
       "<small>shape: (5, 29)</small><table border=\"1\" class=\"dataframe\"><thead><tr><th>Program</th><th>Partner - Episode Duration</th><th>Program - Broadcast Length</th><th>Exposures</th><th>Minutes Viewed</th><th>NO.of Scheduled Minutes</th><th>NO.of Telecasts</th><th>program_current_premiere_date</th><th>Month</th><th>Year</th><th>Program - Network</th><th>Partner - Network</th><th>Partner - Name</th><th>Partner - Platform</th><th>Partner - Device</th><th>Program - Category</th><th>Program - Genre Name</th><th>Program - Mega Genre</th><th>Program - Network Name</th><th>Program - Production Year</th><th>Program - Sub Category</th><th>Program - Supplier</th><th>Program Sub-Type</th><th>premiere_year</th><th>Series Type</th><th>Exposures_top25p_thrshld</th><th>Mins_vewd_top25p_thrshld</th><th>Exposures_success</th><th>Mins_vewd_success</th></tr><tr><td>str</td><td>f64</td><td>f64</td><td>f64</td><td>f64</td><td>i64</td><td>i64</td><td>datetime[μs]</td><td>str</td><td>str</td><td>str</td><td>str</td><td>str</td><td>str</td><td>str</td><td>str</td><td>str</td><td>str</td><td>str</td><td>str</td><td>str</td><td>str</td><td>str</td><td>str</td><td>str</td><td>f64</td><td>f64</td><td>i32</td><td>i32</td></tr></thead><tbody><tr><td>&quot;american pickers_235262.0&quot;</td><td>3600</td><td>60</td><td>9131449.366435267</td><td>395921557.9927566</td><td>15616376</td><td>17</td><td>2022-01-08 00:00:00</td><td>&quot;jun&quot;</td><td>&quot;2022&quot;</td><td>&quot;hist&quot;</td><td>&quot;hist&quot;</td><td>&quot;comcast&quot;</td><td>&quot;vmvpd vod&quot;</td><td>&quot;ctv&quot;</td><td>&quot;skills &amp; thrills&quot;</td><td>&quot;reality tv&quot;</td><td>&quot;original character&quot;</td><td>&quot;the history channel&quot;</td><td>&quot;2020.0&quot;</td><td>&quot;artifactual &amp; transactional&quot;</td><td>&quot;cineflix international media l…</td><td>&quot;unscripted&quot;</td><td>&quot;2022&quot;</td><td>&quot;legacy&quot;</td><td>2712845.4532601833</td><td>112179664.797785</td><td>1</td><td>1</td></tr><tr><td>&quot;american pickers: best of_2682…</td><td>3600</td><td>60</td><td>1264500.6575126024</td><td>55396322.38637683</td><td>5689563</td><td>2</td><td>2022-07-23 00:00:00</td><td>&quot;jul&quot;</td><td>&quot;2023&quot;</td><td>&quot;hist&quot;</td><td>&quot;hist&quot;</td><td>&quot;comcast&quot;</td><td>&quot;vmvpd vod&quot;</td><td>&quot;ctv&quot;</td><td>&quot;skills &amp; thrills&quot;</td><td>&quot;reality tv&quot;</td><td>&quot;original character&quot;</td><td>&quot;the history channel&quot;</td><td>&quot;2022.0&quot;</td><td>&quot;artifactual &amp; transactional&quot;</td><td>&quot;stamford post production&quot;</td><td>&quot;unscripted&quot;</td><td>&quot;2022&quot;</td><td>&quot;legacy&quot;</td><td>2712845.4532601833</td><td>112179664.797785</td><td>0</td><td>0</td></tr><tr><td>&quot;barrett-jackson: revved up_287…</td><td>3600</td><td>60</td><td>66008.5485993</td><td>2699097.865406129</td><td>204598</td><td>2</td><td>2023-09-03 00:00:00</td><td>&quot;sep&quot;</td><td>&quot;2023&quot;</td><td>&quot;fyi&quot;</td><td>&quot;fyi&quot;</td><td>&quot;spectrum&quot;</td><td>&quot;stb vod&quot;</td><td>&quot;ctv&quot;</td><td>&quot;skills &amp; thrills&quot;</td><td>&quot;other&quot;</td><td>&quot;original character&quot;</td><td>&quot;fyi&quot;</td><td>&quot;2023.0&quot;</td><td>&quot;gearhead&quot;</td><td>&quot;stamford post production&quot;</td><td>&quot;unscripted&quot;</td><td>&quot;2023&quot;</td><td>&quot;legacy&quot;</td><td>2712845.4532601833</td><td>112179664.797785</td><td>0</td><td>0</td></tr><tr><td>&quot;storage wars_265702.0&quot;</td><td>1800</td><td>30</td><td>1451701.6962401036</td><td>30718815.967402324</td><td>2909038</td><td>8</td><td>2023-06-13 00:00:00</td><td>&quot;jun&quot;</td><td>&quot;2023&quot;</td><td>&quot;aen&quot;</td><td>&quot;aen&quot;</td><td>&quot;comcast&quot;</td><td>&quot;vmvpd vod&quot;</td><td>&quot;ctv&quot;</td><td>&quot;skills &amp; thrills&quot;</td><td>&quot;real life series&quot;</td><td>&quot;original character&quot;</td><td>&quot;a&amp;e television network&quot;</td><td>&quot;2022.0&quot;</td><td>&quot;artifactual &amp; transactional&quot;</td><td>&quot;original productions, llc&quot;</td><td>&quot;unscripted&quot;</td><td>&quot;2023&quot;</td><td>&quot;legacy&quot;</td><td>2712845.4532601833</td><td>112179664.797785</td><td>0</td><td>0</td></tr><tr><td>&quot;the curse of oak island: diggi…</td><td>3600</td><td>60</td><td>1785780.5836947002</td><td>80449415.2954462</td><td>119</td><td>2</td><td>2022-11-29 00:00:00</td><td>&quot;nov&quot;</td><td>&quot;2022&quot;</td><td>&quot;hist&quot;</td><td>&quot;hist&quot;</td><td>&quot;nielsen&quot;</td><td>&quot;dvr 4-7&quot;</td><td>&quot;11313&quot;</td><td>&quot;history&quot;</td><td>&quot;reality tv&quot;</td><td>&quot;history&#x27;s mysteries&quot;</td><td>&quot;the history channel&quot;</td><td>&quot;2022.0&quot;</td><td>&quot;investigating history&quot;</td><td>&quot;stamford post production&quot;</td><td>&quot;docu-drama&quot;</td><td>&quot;2022&quot;</td><td>&quot;legacy&quot;</td><td>6554474.779885544</td><td>291962386.72339123</td><td>0</td><td>0</td></tr></tbody></table></div>"
      ],
      "text/plain": [
       "shape: (5, 29)\n",
       "┌──────────────┬──────────────┬──────────────┬─────────────┬───┬─────────────┬─────────────┬─────────────┬─────────────┐\n",
       "│ Program      ┆ Partner -    ┆ Program -    ┆ Exposures   ┆ … ┆ Exposures_t ┆ Mins_vewd_t ┆ Exposures_s ┆ Mins_vewd_s │\n",
       "│ ---          ┆ Episode      ┆ Broadcast    ┆ ---         ┆   ┆ op25p_thrsh ┆ op25p_thrsh ┆ uccess      ┆ uccess      │\n",
       "│ str          ┆ Duration     ┆ Length       ┆ f64         ┆   ┆ ld          ┆ ld          ┆ ---         ┆ ---         │\n",
       "│              ┆ ---          ┆ ---          ┆             ┆   ┆ ---         ┆ ---         ┆ i32         ┆ i32         │\n",
       "│              ┆ f64          ┆ f64          ┆             ┆   ┆ f64         ┆ f64         ┆             ┆             │\n",
       "╞══════════════╪══════════════╪══════════════╪═════════════╪═══╪═════════════╪═════════════╪═════════════╪═════════════╡\n",
       "│ american pic ┆ 3600         ┆ 60           ┆ 9131449.366 ┆ … ┆ 2712845.453 ┆ 112179664.7 ┆ 1           ┆ 1           │\n",
       "│ kers_235262. ┆              ┆              ┆ 435267      ┆   ┆ 2601833     ┆ 97785       ┆             ┆             │\n",
       "│ 0            ┆              ┆              ┆             ┆   ┆             ┆             ┆             ┆             │\n",
       "│ american     ┆ 3600         ┆ 60           ┆ 1264500.657 ┆ … ┆ 2712845.453 ┆ 112179664.7 ┆ 0           ┆ 0           │\n",
       "│ pickers:     ┆              ┆              ┆ 5126024     ┆   ┆ 2601833     ┆ 97785       ┆             ┆             │\n",
       "│ best         ┆              ┆              ┆             ┆   ┆             ┆             ┆             ┆             │\n",
       "│ of_2682…     ┆              ┆              ┆             ┆   ┆             ┆             ┆             ┆             │\n",
       "│ barrett-jack ┆ 3600         ┆ 60           ┆ 66008.54859 ┆ … ┆ 2712845.453 ┆ 112179664.7 ┆ 0           ┆ 0           │\n",
       "│ son: revved  ┆              ┆              ┆ 93          ┆   ┆ 2601833     ┆ 97785       ┆             ┆             │\n",
       "│ up_287…      ┆              ┆              ┆             ┆   ┆             ┆             ┆             ┆             │\n",
       "│ storage wars ┆ 1800         ┆ 30           ┆ 1451701.696 ┆ … ┆ 2712845.453 ┆ 112179664.7 ┆ 0           ┆ 0           │\n",
       "│ _265702.0    ┆              ┆              ┆ 2401036     ┆   ┆ 2601833     ┆ 97785       ┆             ┆             │\n",
       "│ the curse of ┆ 3600         ┆ 60           ┆ 1785780.583 ┆ … ┆ 6554474.779 ┆ 291962386.7 ┆ 0           ┆ 0           │\n",
       "│ oak island:  ┆              ┆              ┆ 6947002     ┆   ┆ 885544      ┆ 2339123     ┆             ┆             │\n",
       "│ diggi…       ┆              ┆              ┆             ┆   ┆             ┆             ┆             ┆             │\n",
       "└──────────────┴──────────────┴──────────────┴─────────────┴───┴─────────────┴─────────────┴─────────────┴─────────────┘"
      ]
     },
     "execution_count": 20,
     "metadata": {},
     "output_type": "execute_result"
    }
   ],
   "source": [
    "# calculate success. \n",
    "# a program is a success if it exposures/mins_viewed are >= to the top 25% of its group's values\n",
    "    # IE within the \"lifestyle\" mega genre there are programs with Exposures values from 70 up to 5,557,774. \n",
    "    #    if a lifestyle program's value is above the top 25% threshold of 1288786 for exposures, then it is a success\n",
    "#xx = program_groups.with_columns( pl.col('Exposures').cast(pl.String).alias(\"Program - ID\") )\n",
    "\n",
    "program_groups = program_groups.with_columns(\n",
    "    pl.when(pl.col('Exposures') >= pl.col('Exposures_top25p_thrshld'))\n",
    "      .then(1)\n",
    "      .otherwise(0)\n",
    "      .alias('Exposures_success')\n",
    ")\n",
    "\n",
    "program_groups = program_groups.with_columns(\n",
    "    pl.when(pl.col('Minutes Viewed') >= pl.col('Mins_vewd_top25p_thrshld'))\n",
    "      .then(1)\n",
    "      .otherwise(0)\n",
    "      .alias('Mins_vewd_success')\n",
    ")\n",
    "\n",
    "program_groups.head()"
   ]
  },
  {
   "cell_type": "code",
   "execution_count": 21,
   "id": "80488ce6-7bd8-4515-bc2d-11ce85210aaf",
   "metadata": {},
   "outputs": [],
   "source": [
    "program_groups.write_parquet('final_cleaned_capstone_data.parquet', compression='gzip')"
   ]
  }
 ],
 "metadata": {
  "kernelspec": {
   "display_name": "Python 3 (ipykernel)",
   "language": "python",
   "name": "python3"
  },
  "language_info": {
   "codemirror_mode": {
    "name": "ipython",
    "version": 3
   },
   "file_extension": ".py",
   "mimetype": "text/x-python",
   "name": "python",
   "nbconvert_exporter": "python",
   "pygments_lexer": "ipython3",
   "version": "3.11.9"
  }
 },
 "nbformat": 4,
 "nbformat_minor": 5
}
